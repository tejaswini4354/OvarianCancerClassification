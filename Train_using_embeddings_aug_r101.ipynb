{
 "cells": [
  {
   "cell_type": "code",
   "execution_count": 1,
   "id": "aaee65d4-fdcd-492e-8a12-24a9f6e6e9af",
   "metadata": {},
   "outputs": [],
   "source": [
    "# Goal : To classify the type of ovarian cancer from microscopy scans of biopsy samples.\n",
    "\n",
    "# Search SoTA model on Kaggle Approach, Papers with code - Medical Data, Graph Transformer, GNN, Global and Local Analysis\n",
    "\n",
    "# You should manage, including differences in image dimensions, quality, slide staining techniques, and more\n",
    "\n",
    "# There are 2 types of images - TMA and WSI (25 images are TMA and 513(rest) are WSI)\n"
   ]
  },
  {
   "cell_type": "code",
   "execution_count": 2,
   "id": "9d1971b2-09c3-4a8d-b158-355c9772dfa9",
   "metadata": {},
   "outputs": [
    {
     "data": {
      "text/plain": [
       "'c:\\\\Users\\\\chand\\\\AppData\\\\Local\\\\Programs\\\\Python\\\\Python311'"
      ]
     },
     "execution_count": 2,
     "metadata": {},
     "output_type": "execute_result"
    }
   ],
   "source": [
    "import sys\n",
    "sys.prefix"
   ]
  },
  {
   "cell_type": "markdown",
   "id": "48222a33-507b-4f98-8df3-8538ed479f1c",
   "metadata": {},
   "source": [
    "# Check if GPU is available"
   ]
  },
  {
   "cell_type": "code",
   "execution_count": 3,
   "id": "143df7b3-2bc3-4651-b9a8-ed3f5a8108be",
   "metadata": {},
   "outputs": [],
   "source": [
    "import torch"
   ]
  },
  {
   "cell_type": "code",
   "execution_count": 4,
   "id": "c193c329-3591-4572-9640-35b274bf754e",
   "metadata": {},
   "outputs": [
    {
     "data": {
      "text/plain": [
       "True"
      ]
     },
     "execution_count": 4,
     "metadata": {},
     "output_type": "execute_result"
    }
   ],
   "source": [
    "torch.cuda.is_available()"
   ]
  },
  {
   "cell_type": "code",
   "execution_count": 5,
   "id": "3c04ae72-d26a-4c3c-8415-ba36cb557c94",
   "metadata": {},
   "outputs": [
    {
     "name": "stderr",
     "output_type": "stream",
     "text": [
      "'nvidia' is not recognized as an internal or external command,\n",
      "operable program or batch file.\n"
     ]
    }
   ],
   "source": [
    "!nvidia smi\n"
   ]
  },
  {
   "cell_type": "code",
   "execution_count": 6,
   "id": "150de13e-2b4e-499e-9092-e541baa686b8",
   "metadata": {},
   "outputs": [
    {
     "name": "stderr",
     "output_type": "stream",
     "text": [
      "'lspci' is not recognized as an internal or external command,\n",
      "operable program or batch file.\n"
     ]
    }
   ],
   "source": [
    "!lspci | grep -i nvidia"
   ]
  },
  {
   "cell_type": "markdown",
   "id": "75827adc-9618-4d47-8fdc-44dbdc43cbe8",
   "metadata": {},
   "source": [
    "# Import Libraries"
   ]
  },
  {
   "cell_type": "code",
   "execution_count": 7,
   "id": "b7db4971-169f-47a7-9938-cc2d20e23b09",
   "metadata": {},
   "outputs": [],
   "source": [
    "import os\n",
    "from time import time\n",
    "from collections import defaultdict\n",
    "from tqdm import tqdm\n",
    "\n",
    "import numpy as np\n",
    "import pandas as pd\n",
    "import matplotlib.pyplot as plt\n",
    "\n",
    "from sklearn.utils.class_weight import compute_class_weight\n",
    "from sklearn.model_selection import train_test_split\n",
    "from sklearn.metrics import accuracy_score, f1_score, confusion_matrix, classification_report\n",
    "\n",
    "from PIL import Image\n",
    "import cv2\n",
    "\n",
    "import torch.nn as nn\n",
    "from torch.utils.data import Dataset, DataLoader, WeightedRandomSampler\n",
    "from torch.optim import AdamW\n",
    "\n",
    "from torchsummary import summary\n",
    "\n",
    "import torchvision\n",
    "from torchvision import transforms, utils\n",
    "from torchvision.transforms import v2\n",
    "\n",
    "from torchvision.models import efficientnet_b0, EfficientNet_B0_Weights\n",
    "from torchvision.models import efficientnet_b3, EfficientNet_B3_Weights\n",
    "from torchvision.models import resnet18, ResNet18_Weights\n",
    "from torchvision.models import resnet101, ResNet101_Weights"
   ]
  },
  {
   "cell_type": "markdown",
   "id": "a5c70d5b-6ba8-4faf-a3ff-5e37b6a0c467",
   "metadata": {},
   "source": [
    "# Configurations"
   ]
  },
  {
   "cell_type": "code",
   "execution_count": 8,
   "id": "13ca183a-b75e-4d06-ae54-1c3af198cae6",
   "metadata": {},
   "outputs": [],
   "source": [
    "CONFIG = {\n",
    "    \"model_name\" : \"resnet101\"\n",
    "}"
   ]
  },
  {
   "cell_type": "code",
   "execution_count": 9,
   "id": "c49af72f-38c9-44c7-b1a5-60dd6203ba46",
   "metadata": {},
   "outputs": [],
   "source": [
    "if CONFIG[\"model_name\"] == \"resnet18\":\n",
    "\n",
    "    CONFIG.update({\n",
    "            \"seed\": 42,\n",
    "            \"num_classes\": 5,\n",
    "            \"device\": torch.device(\"cuda:0\" if torch.cuda.is_available() else \"cpu\"),\n",
    "            \n",
    "            # \"valid_batch_size\": 32,\n",
    "            \"embedding_save_folder\" : \"./models/resnet18/embeddings/\",\n",
    "            \"feature_input_size\" : 512,\n",
    "            \"model_save_folder\" : \"./models/resnet18/model_checkpoints/\",\n",
    "        \n",
    "            \"batch_size\" : 8,\n",
    "            \"train_batch_size\" : 8,\n",
    "            \"epochs\" : 20,\n",
    "            \"learning_rate\" : 1e-5,\n",
    "            \"weight_decay\" : 1e-3\n",
    "    })"
   ]
  },
  {
   "cell_type": "code",
   "execution_count": 10,
   "id": "c572c798-bfbf-49bb-a47e-95935ba372dd",
   "metadata": {},
   "outputs": [],
   "source": [
    "if CONFIG[\"model_name\"] == \"efficientnet_b3\":\n",
    "\n",
    "    CONFIG.update({\n",
    "            \"seed\": 42,\n",
    "            \"num_classes\": 5,\n",
    "            \"device\": torch.device(\"cuda:0\" if torch.cuda.is_available() else \"cpu\"),\n",
    "            \n",
    "            # \"valid_batch_size\": 32,\n",
    "            \"embedding_save_folder\" : \"./models/efficientnet_b3/embeddings/\",\n",
    "            \"feature_input_size\" : 1536,\n",
    "            \"model_save_folder\" : \"./models/efficientnet_b3/model_checkpoints/\",\n",
    "        \n",
    "            \"batch_size\" : 8,\n",
    "            \"train_batch_size\" : 8,\n",
    "            \"epochs\" : 10,\n",
    "            \"learning_rate\" : 1e-5,\n",
    "            \"weight_decay\" : 1e-3\n",
    "    })"
   ]
  },
  {
   "cell_type": "code",
   "execution_count": 11,
   "id": "4dcff8b2-936b-458c-a5f1-b7b711030b2b",
   "metadata": {},
   "outputs": [],
   "source": [
    "if CONFIG[\"model_name\"] == \"efficientnet_b0\":\n",
    "\n",
    "    CONFIG.update({\n",
    "            \"seed\": 42,\n",
    "            \"num_classes\": 5,\n",
    "            \"device\": torch.device(\"cuda:0\" if torch.cuda.is_available() else \"cpu\"),\n",
    "            \n",
    "            # \"valid_batch_size\": 32,\n",
    "            \"embedding_save_folder\" : \"./models/efficientnet_b0/embeddings/\",\n",
    "            \"feature_input_size\" : 1280,\n",
    "            \"model_save_folder\" : \"./models/efficientnet_b0/model_checkpoints/\",\n",
    "        \n",
    "            \"batch_size\" : 8,\n",
    "            \"train_batch_size\" : 8,\n",
    "            \"epochs\" : 40,\n",
    "            \"learning_rate\" : 1e-5,\n",
    "            \"weight_decay\" : 1e-2\n",
    "    })"
   ]
  },
  {
   "cell_type": "code",
   "execution_count": 12,
   "metadata": {},
   "outputs": [],
   "source": [
    "if CONFIG[\"model_name\"] == \"resnet101\":\n",
    "    model_weights = ResNet101_Weights.DEFAULT\n",
    "    base_model = resnet101(weights = model_weights)\n",
    "\n",
    "    CONFIG.update({\n",
    "            \"seed\": 42,\n",
    "            \"feature_input_size\" : 2048,            \n",
    "            \"num_classes\": 5,\n",
    "            # \"valid_batch_size\": 32,\n",
    "            \"batch_size\" : 4,\n",
    "            \"train_batch_size\" : 4,\n",
    "            \"resize_size\": (1024, 1024),\n",
    "            \"embedding_save_folder\" : \"./models/resnet18/embeddings/\",\n",
    "            \"batch_size\" : 16,\n",
    "            \"device\": torch.device(\"cuda:0\" if torch.cuda.is_available() else \"cpu\"),\n",
    "            \n",
    "            # \"valid_batch_size\": 32,\n",
    "            \"model_save_folder\" : \"./models/resnet18/model_checkpoints/\",\n",
    "            \"epochs\" : 400,\n",
    "            \"learning_rate\" : 1e-5,\n",
    "            \"weight_decay\" : 1e-4\n",
    "    })"
   ]
  },
  {
   "cell_type": "code",
   "execution_count": 13,
   "id": "d5fbe965-3c93-4b23-bb36-f4f56aca0000",
   "metadata": {},
   "outputs": [
    {
     "data": {
      "text/plain": [
       "{'model_name': 'resnet101',\n",
       " 'seed': 42,\n",
       " 'feature_input_size': 2048,\n",
       " 'num_classes': 5,\n",
       " 'batch_size': 16,\n",
       " 'train_batch_size': 4,\n",
       " 'resize_size': (1024, 1024),\n",
       " 'embedding_save_folder': './models/resnet18/embeddings/',\n",
       " 'device': device(type='cuda', index=0),\n",
       " 'model_save_folder': './models/resnet18/model_checkpoints/',\n",
       " 'epochs': 400,\n",
       " 'learning_rate': 1e-05,\n",
       " 'weight_decay': 0.0001}"
      ]
     },
     "execution_count": 13,
     "metadata": {},
     "output_type": "execute_result"
    }
   ],
   "source": [
    "CONFIG"
   ]
  },
  {
   "cell_type": "code",
   "execution_count": 14,
   "id": "59ef42e6-00e5-40ff-a2b9-9e44b718dcee",
   "metadata": {},
   "outputs": [],
   "source": [
    "def set_seed(seed=42):\n",
    "    '''Sets the seed of the entire notebook so results are the same every time we run.\n",
    "    This is for REPRODUCIBILITY.'''\n",
    "    np.random.seed(seed)\n",
    "    torch.manual_seed(seed)\n",
    "    torch.cuda.manual_seed(seed)\n",
    "    # When running on the CuDNN backend, two further options must be set\n",
    "    torch.backends.cudnn.deterministic = True\n",
    "    torch.backends.cudnn.benchmark = False\n",
    "    # Set a fixed value for the hash seed\n",
    "    os.environ['PYTHONHASHSEED'] = str(seed)\n",
    "    \n",
    "set_seed(CONFIG['seed'])"
   ]
  },
  {
   "cell_type": "markdown",
   "id": "9b28ab07-67fb-4555-9187-88e860e73c34",
   "metadata": {},
   "source": [
    "# Merge Numpy arrays"
   ]
  },
  {
   "cell_type": "code",
   "execution_count": 15,
   "id": "859bccec-19a7-4315-9448-32e9edaa9b1c",
   "metadata": {},
   "outputs": [],
   "source": [
    "# embeddings_arr_list = []\n",
    "# labels_arr_list = []\n",
    "\n",
    "# for file in os.listdir(CONFIG[\"embedding_save_folder\"]):\n",
    "#     if file.endswith(\".npz\"):\n",
    "#         if \"train_embeddings_and_labels_\" in file:\n",
    "#             np_arr = np.load(CONFIG[\"embedding_save_folder\"] + file)\n",
    "#             embeddings_arr_list.append(np_arr[\"embeddings\"])\n",
    "#             labels_arr_list.append(np_arr[\"labels\"])\n",
    "#             # labels_arr = np.concatenate((labels_arr, np_arr[\"labels\"]), axis = 0)"
   ]
  },
  {
   "cell_type": "code",
   "execution_count": 16,
   "id": "9c04dbc4-4ea3-436a-8f6e-6839333c4503",
   "metadata": {},
   "outputs": [],
   "source": [
    "# all_embeddings = np.concatenate(embeddings_arr_list)\n",
    "# all_embeddings.shape"
   ]
  },
  {
   "cell_type": "code",
   "execution_count": 17,
   "id": "4d2675b4-3009-47a7-bf8d-1f87046b58c8",
   "metadata": {},
   "outputs": [],
   "source": [
    "# all_labels = np.concatenate(labels_arr_list)\n",
    "# all_labels.shape"
   ]
  },
  {
   "cell_type": "code",
   "execution_count": 18,
   "id": "df552edb-4d06-45ca-8fcb-95f99079fe1d",
   "metadata": {},
   "outputs": [],
   "source": [
    "# # Balanced Dataset with Augmentation\n",
    "# np.unique(all_labels, return_counts=True)"
   ]
  },
  {
   "cell_type": "code",
   "execution_count": 19,
   "id": "7c39fe9e-d3ec-4df1-aee3-b8c790f94faa",
   "metadata": {},
   "outputs": [],
   "source": [
    "# save_location = f'{CONFIG[\"embedding_save_folder\"]}{CONFIG[\"model_name\"]}_train_embeddings_and_labels.npz'\n",
    "# print(save_location)\n",
    "\n",
    "# np.savez(save_location, embeddings = all_embeddings, labels = all_labels)"
   ]
  },
  {
   "cell_type": "markdown",
   "id": "2f3350a3-92d5-4526-8c18-60568057476c",
   "metadata": {},
   "source": [
    "# Custom Dataset"
   ]
  },
  {
   "cell_type": "code",
   "execution_count": 20,
   "id": "02dd6b7a-b315-49e5-ab7d-50141f6a92c5",
   "metadata": {},
   "outputs": [],
   "source": [
    "Image.MAX_IMAGE_PIXELS = None"
   ]
  },
  {
   "cell_type": "markdown",
   "metadata": {},
   "source": []
  },
  {
   "cell_type": "code",
   "execution_count": 27,
   "id": "002b334d-0f52-4bde-828c-eddcbb34a033",
   "metadata": {},
   "outputs": [],
   "source": [
    "class ocean_embedding_dataset(Dataset):\n",
    "    \n",
    "    def __init__(self, numpy_file_name,is_test=False):\n",
    "        \n",
    "        self.ocean_np_arr = np.load(numpy_file_name)\n",
    "        self.is_test = is_test\n",
    "\n",
    "    def __len__(self):\n",
    "        return self.ocean_np_arr[\"embeddings\"].shape[0]\n",
    "\n",
    "    def __getitem__(self, idx):\n",
    "        if torch.is_tensor(idx):\n",
    "            idx = idx.tolist()\n",
    "\n",
    "        image = self.ocean_np_arr[\"embeddings\"][idx]\n",
    "        image = torch.tensor(image)\n",
    "        \n",
    "        if self.is_test:\n",
    "            return image\n",
    "\n",
    "        label = self.ocean_np_arr[\"labels\"][idx]\n",
    "\n",
    "        return image, label\n",
    "        "
   ]
  },
  {
   "cell_type": "code",
   "execution_count": null,
   "id": "33858d05-4c7f-4766-8cb5-84cc5b1dc770",
   "metadata": {},
   "outputs": [],
   "source": []
  },
  {
   "cell_type": "code",
   "execution_count": 28,
   "id": "01054b83-dfda-4717-a6b5-64608e69e9d5",
   "metadata": {},
   "outputs": [],
   "source": [
    "train_np_arr_path = f'{CONFIG[\"embedding_save_folder\"]}{CONFIG[\"model_name\"]}_train_embeddings_and_labels.npz'\n",
    "test_np_arr_path = f'{CONFIG[\"embedding_save_folder\"]}{CONFIG[\"model_name\"]}_test_embeddings_and_labels.npz'\n"
   ]
  },
  {
   "cell_type": "code",
   "execution_count": 29,
   "id": "27eba013-ad6c-4dc8-b686-e7e327206c69",
   "metadata": {},
   "outputs": [],
   "source": [
    "train_dataset = ocean_embedding_dataset(train_np_arr_path)\n",
    "\n",
    "test_dataset = ocean_embedding_dataset(test_np_arr_path,is_test=True)"
   ]
  },
  {
   "cell_type": "markdown",
   "id": "18e15d1c-a392-41a3-a03f-5642fcdbfb96",
   "metadata": {},
   "source": [
    "## Testing"
   ]
  },
  {
   "cell_type": "code",
   "execution_count": 30,
   "id": "50fbd20d-5ad0-44d1-8c8a-5bd32dcbc02e",
   "metadata": {},
   "outputs": [
    {
     "data": {
      "text/plain": [
       "108"
      ]
     },
     "execution_count": 30,
     "metadata": {},
     "output_type": "execute_result"
    }
   ],
   "source": [
    "test_dataset.__len__()"
   ]
  },
  {
   "cell_type": "code",
   "execution_count": 32,
   "id": "86204af9-161a-488c-b890-b8f11b17911b",
   "metadata": {},
   "outputs": [],
   "source": [
    "a = test_dataset.__getitem__(torch.tensor(10))"
   ]
  },
  {
   "cell_type": "code",
   "execution_count": 33,
   "id": "52061b6a-000b-4ff2-8595-e37f9007f17f",
   "metadata": {},
   "outputs": [
    {
     "data": {
      "text/plain": [
       "tensor([0.0031, 0.0131, 0.0289,  ..., 0.0000, 0.0114, 0.0093])"
      ]
     },
     "execution_count": 33,
     "metadata": {},
     "output_type": "execute_result"
    }
   ],
   "source": [
    "a"
   ]
  },
  {
   "cell_type": "code",
   "execution_count": null,
   "id": "bd5247e2-7402-4bdd-b77d-f5d75b2ce125",
   "metadata": {},
   "outputs": [
    {
     "data": {
      "text/plain": [
       "2"
      ]
     },
     "execution_count": 90,
     "metadata": {},
     "output_type": "execute_result"
    }
   ],
   "source": [
    "# b"
   ]
  },
  {
   "cell_type": "code",
   "execution_count": 34,
   "id": "b46cb26c-214f-4d06-a8c4-905d0ec08154",
   "metadata": {},
   "outputs": [
    {
     "ename": "KeyError",
     "evalue": "'labels is not a file in the archive'",
     "output_type": "error",
     "traceback": [
      "\u001b[1;31m---------------------------------------------------------------------------\u001b[0m",
      "\u001b[1;31mKeyError\u001b[0m                                  Traceback (most recent call last)",
      "\u001b[1;32mc:\\Users\\chand\\Courses\\Fall-23\\ai\\UBC-Ovarian-Cancer-Subtype-Classification\\Train_using_embeddings_aug_r18.ipynb Cell 36\u001b[0m line \u001b[0;36m1\n\u001b[1;32m----> <a href='vscode-notebook-cell:/c%3A/Users/chand/Courses/Fall-23/ai/UBC-Ovarian-Cancer-Subtype-Classification/Train_using_embeddings_aug_r18.ipynb#X50sZmlsZQ%3D%3D?line=0'>1</a>\u001b[0m test_dataset\u001b[39m.\u001b[39;49mocean_np_arr[\u001b[39m\"\u001b[39;49m\u001b[39mlabels\u001b[39;49m\u001b[39m\"\u001b[39;49m]\n",
      "File \u001b[1;32mc:\\Users\\chand\\AppData\\Local\\Programs\\Python\\Python311\\Lib\\site-packages\\numpy\\lib\\npyio.py:263\u001b[0m, in \u001b[0;36mNpzFile.__getitem__\u001b[1;34m(self, key)\u001b[0m\n\u001b[0;32m    261\u001b[0m         \u001b[39mreturn\u001b[39;00m \u001b[39mself\u001b[39m\u001b[39m.\u001b[39mzip\u001b[39m.\u001b[39mread(key)\n\u001b[0;32m    262\u001b[0m \u001b[39melse\u001b[39;00m:\n\u001b[1;32m--> 263\u001b[0m     \u001b[39mraise\u001b[39;00m \u001b[39mKeyError\u001b[39;00m(\u001b[39mf\u001b[39m\u001b[39m\"\u001b[39m\u001b[39m{\u001b[39;00mkey\u001b[39m}\u001b[39;00m\u001b[39m is not a file in the archive\u001b[39m\u001b[39m\"\u001b[39m)\n",
      "\u001b[1;31mKeyError\u001b[0m: 'labels is not a file in the archive'"
     ]
    }
   ],
   "source": [
    "test_dataset.ocean_np_arr[\"labels\"]"
   ]
  },
  {
   "cell_type": "markdown",
   "id": "20401933-47b3-404e-ba4e-be65e40f6ae6",
   "metadata": {},
   "source": [
    "# Class Weights - From Training Data since the dataset is imbalanced"
   ]
  },
  {
   "cell_type": "markdown",
   "id": "2d5ad94e-b4fd-4454-8b6b-f8a607065cc8",
   "metadata": {},
   "source": [
    "## Not using Class Weights in nn.CrossEntropyLoss() since we have balanced data while Augmentation itself"
   ]
  },
  {
   "cell_type": "code",
   "execution_count": 92,
   "id": "31f40cfe-c181-440a-8f3e-d440782b30c3",
   "metadata": {},
   "outputs": [
    {
     "data": {
      "text/plain": [
       "array([4, 3, 0, 0, 0, 0, 0, 0, 4, 1, 2, 0, 0, 0, 0, 1, 3, 2, 1, 1, 1, 1,\n",
       "       4, 2, 3, 0, 1, 1, 0, 4, 0, 1, 0, 3, 1, 0, 0, 3, 0, 4, 3, 0, 0, 1,\n",
       "       3, 0, 1, 1, 0, 1, 0, 1, 0, 3, 1, 0, 0, 1, 0, 2, 4, 1, 3, 1, 3, 3,\n",
       "       4, 2, 2, 0, 3, 1, 4, 4, 0, 2, 0, 0, 1, 2, 1, 3, 3, 0, 0, 1, 1, 1,\n",
       "       3, 0, 1, 2, 3, 1, 3, 0, 0, 3, 0, 1, 0, 3, 0, 2, 1, 0, 0, 0, 1, 3,\n",
       "       4, 3, 0, 0, 1, 2, 1, 0, 0, 4, 1, 3, 3, 0, 0, 1, 4, 3, 4, 0, 3, 0,\n",
       "       4, 2, 3, 2, 1, 4, 2, 4, 3, 0, 3, 0, 0, 0, 3, 3, 0, 2, 3, 0, 1, 1,\n",
       "       0, 2, 0, 4, 0, 1, 0, 0, 3, 0, 1, 1, 1, 3, 0, 4, 1, 3, 0, 3, 0, 0,\n",
       "       0, 1, 0, 0, 4, 1, 0, 0, 1, 0, 0, 1, 0, 1, 3, 1, 0, 2, 4, 0, 1, 4,\n",
       "       0, 0, 3, 3, 0, 0, 3, 4, 1, 0, 4, 1, 0, 3, 0, 0, 1, 2, 0, 0, 0, 4,\n",
       "       4, 1, 1, 2, 1, 0, 0, 3, 0, 1, 2, 3, 0, 0, 3, 0, 0, 1, 2, 3, 1, 0,\n",
       "       2, 1, 2, 1, 1, 3, 1, 2, 0, 3, 0, 3, 1, 2, 0, 2, 0, 3, 0, 0, 1, 3,\n",
       "       0, 3, 0, 3, 0, 0, 0, 4, 2, 3, 1, 0, 0, 0, 0, 0, 0, 0, 1, 1, 0, 1,\n",
       "       1, 4, 1, 0, 1, 0, 3, 0, 0, 1, 3, 2, 3, 3, 0, 1, 0, 1, 0, 3, 0, 0,\n",
       "       0, 0, 0, 0, 0, 3, 3, 0, 1, 0, 2, 0, 0, 4, 2, 0, 3, 0, 3, 0, 0, 4,\n",
       "       1, 3, 0, 0, 0, 1, 3, 1, 0, 4, 0, 1, 0, 0, 4, 3, 0, 0, 0, 0, 0, 0,\n",
       "       4, 1, 2, 0, 0, 0, 0, 1, 3, 2, 1, 1, 1, 1, 4, 2, 3, 0, 1, 1, 0, 4,\n",
       "       0, 1, 0, 3, 1, 0, 0, 3, 0, 4, 3, 0, 0, 1, 3, 0, 1, 1, 0, 1, 0, 1,\n",
       "       0, 3, 1, 0, 0, 1, 0, 2, 4, 1, 3, 1, 3, 3, 4, 2, 2, 0, 3, 1, 4, 4,\n",
       "       0, 2, 0, 0, 1, 2, 1, 3, 3, 0, 0, 1, 1, 1, 3, 0, 1, 2, 3, 1, 3, 0,\n",
       "       0, 3, 0, 1, 0, 3, 0, 2, 1, 0, 0, 0, 1, 3, 4, 3, 0, 0, 1, 2, 1, 0,\n",
       "       0, 4, 1, 3, 3, 0, 0, 1, 4, 3, 4, 0, 3, 0, 4, 2, 3, 2, 1, 4, 2, 4,\n",
       "       3, 0, 3, 0, 0, 0, 3, 3, 0, 2, 3, 0, 1, 1, 0, 2, 0, 4, 0, 1, 0, 0,\n",
       "       3, 0, 1, 1, 1, 3, 0, 4, 1, 3, 0, 3, 0, 0, 0, 1, 0, 0, 4, 1, 0, 0,\n",
       "       1, 0, 0, 1, 0, 1, 3, 1, 0, 2, 4, 0, 1, 4, 0, 0, 3, 3, 0, 0, 3, 4,\n",
       "       1, 0, 4, 1, 0, 3, 0, 0, 1, 2, 0, 0, 0, 4, 4, 1, 1, 2, 1, 0, 0, 3,\n",
       "       0, 1, 2, 3, 0, 0, 3, 0, 0, 1, 2, 3, 1, 0, 2, 1, 2, 1, 1, 3, 1, 2,\n",
       "       0, 3, 0, 3, 1, 2, 0, 2, 0, 3, 0, 0, 1, 3, 0, 3, 0, 3, 0, 0, 0, 4,\n",
       "       2, 3, 1, 0, 0, 0, 0, 0, 0, 0, 1, 1, 0, 1, 1, 4, 1, 0, 1, 0, 3, 0,\n",
       "       0, 1, 3, 2, 3, 3, 0, 1, 0, 1, 0, 3, 0, 0, 0, 0, 0, 0, 0, 3, 3, 0,\n",
       "       1, 0, 2, 0, 0, 4, 2, 0, 3, 0, 3, 0, 0, 4, 1, 3, 0, 0, 0, 1, 3, 1,\n",
       "       0, 4, 0, 1, 0, 0], dtype=int64)"
      ]
     },
     "execution_count": 92,
     "metadata": {},
     "output_type": "execute_result"
    }
   ],
   "source": [
    "train_dataset.ocean_np_arr[\"labels\"]"
   ]
  },
  {
   "cell_type": "code",
   "execution_count": null,
   "id": "6e8ff4c7-62e4-4654-a53b-209323c92e3f",
   "metadata": {},
   "outputs": [],
   "source": []
  },
  {
   "cell_type": "code",
   "execution_count": null,
   "id": "75b28ad6-975a-4fc2-a19b-73bde1c09870",
   "metadata": {},
   "outputs": [],
   "source": []
  },
  {
   "cell_type": "markdown",
   "id": "2b246783-1d97-4989-ac02-f7e263919015",
   "metadata": {},
   "source": [
    "* Class weight Formula -\n",
    "  \n",
    "class_weight_of_that_class = $\\frac{\\text{Total samples}}{\\text{Total classes * samples of that class}}$"
   ]
  },
  {
   "cell_type": "code",
   "execution_count": 93,
   "id": "d3548690-c5de-462c-b869-e2ed6836beb5",
   "metadata": {},
   "outputs": [],
   "source": [
    "# NumPy array of class labels - labels_arr\n",
    "\n",
    "labels_arr = train_dataset.ocean_np_arr[\"labels\"].copy()\n",
    "\n",
    "class_weights = compute_class_weight('balanced',classes = np.unique(labels_arr), y = labels_arr)"
   ]
  },
  {
   "cell_type": "code",
   "execution_count": 94,
   "id": "3c848bee-deca-4c3d-ac8f-b6b0c58ae80e",
   "metadata": {},
   "outputs": [
    {
     "data": {
      "text/plain": [
       "array([0.48450704, 0.87088608, 2.29333333, 1.09206349, 2.29333333])"
      ]
     },
     "execution_count": 94,
     "metadata": {},
     "output_type": "execute_result"
    }
   ],
   "source": [
    "class_weights"
   ]
  },
  {
   "cell_type": "code",
   "execution_count": 95,
   "id": "42486cca-117d-4dcb-9a8b-a2a118939821",
   "metadata": {},
   "outputs": [
    {
     "data": {
      "text/plain": [
       "(array([0, 1, 2, 3, 4], dtype=int64),\n",
       " array([284, 158,  60, 126,  60], dtype=int64))"
      ]
     },
     "execution_count": 95,
     "metadata": {},
     "output_type": "execute_result"
    }
   ],
   "source": [
    "# label_mapper = {'HGSC' : 0, 'EC' : 1, 'MC' : 2, 'CC' : 3, 'LGSC' : 4}\n",
    "# Train Label Distribution\n",
    "np.unique(labels_arr, return_counts = True)"
   ]
  },
  {
   "cell_type": "code",
   "execution_count": 96,
   "id": "4b19a847-2296-4df0-9897-8e5a295e6c6b",
   "metadata": {},
   "outputs": [
    {
     "data": {
      "text/plain": [
       "tensor([0.4845, 0.8709, 2.2933, 1.0921, 2.2933], dtype=torch.float64)"
      ]
     },
     "execution_count": 96,
     "metadata": {},
     "output_type": "execute_result"
    }
   ],
   "source": [
    "class_weights_tensor = torch.tensor(class_weights)\n",
    "class_weights_tensor"
   ]
  },
  {
   "cell_type": "markdown",
   "id": "2c34038c-0762-4061-85ee-cafd44eddddf",
   "metadata": {},
   "source": [
    "# Train - Evaluation, Training, Architecture"
   ]
  },
  {
   "cell_type": "code",
   "execution_count": 35,
   "id": "fd3de3db-b023-41f9-b2d9-cf9f8c245a37",
   "metadata": {},
   "outputs": [],
   "source": [
    "# Use `torch.no_grad()` here to disable gradient calculation. \n",
    "# It will reduce memory consumption as we don't need to compute gradients in inference.\n",
    "\n",
    "@torch.no_grad()\n",
    "def evaluate(model, testloader, criterion, device,report=False):\n",
    "    \n",
    "    model.eval()\n",
    "    \n",
    "    # Keep track of loss and other evaluation metrics\n",
    "    test_loss = 0.0\n",
    "\n",
    "    YPredict = []\n",
    "    YTrue = []\n",
    "    \n",
    "    # Loop through each batch on test set\n",
    "    for i, (images, labels) in enumerate(testloader, 1):\n",
    "        \n",
    "        images = images.to(device)\n",
    "        labels = labels.to(device)\n",
    "        \n",
    "        logits = model(images)\n",
    "\n",
    "        loss = criterion(logits, labels)\n",
    "        \n",
    "        test_loss += loss.detach().item()\n",
    "\n",
    "        predictions = torch.argmax(logits, dim = 1)\n",
    "        predictions = predictions.view(-1)\n",
    "        YTrue.extend(labels.tolist())\n",
    "        YPredict.extend(predictions.tolist())\n",
    "    \n",
    "\n",
    "    # Compute Scores\n",
    "    accuracy = accuracy_score(YTrue, YPredict)\n",
    "    f1 = f1_score(YTrue, YPredict, average = \"macro\")\n",
    "    if(report):\n",
    "        print(\"Classification report :\")\n",
    "        print(classification_report(YTrue, YPredict))\n",
    "\n",
    "    return (test_loss/i, accuracy, f1) ## avg loss and acc over all batches\n"
   ]
  },
  {
   "cell_type": "code",
   "execution_count": 36,
   "id": "d9af0610-8e73-45cd-987c-9556427a514a",
   "metadata": {},
   "outputs": [],
   "source": [
    "# Use torch.no_grad() here to disable gradient calculation. \n",
    "# It will reduce memory consumption as we don't need to compute gradients in inference.\n",
    "\n",
    "@torch.no_grad()\n",
    "def actual_evaluate(model, testloader, device):\n",
    "    \n",
    "    model.eval()\n",
    "    \n",
    "    # Keep track of loss and other evaluation metrics\n",
    "    #test_loss = 0.0\n",
    "\n",
    "    YPredict = []\n",
    "    #YTrue = []\n",
    "    \n",
    "    # Loop through each batch on test set\n",
    "    for i, images in enumerate(testloader, 1):\n",
    "        \n",
    "        images = images.to(device)\n",
    "        #labels = labels.to(device)\n",
    "        \n",
    "        logits = model(images)\n",
    "\n",
    "        #loss = criterion(logits, labels)\n",
    "        \n",
    "        #test_loss += loss.detach().item()\n",
    "\n",
    "        predictions = torch.argmax(logits, dim = 1)\n",
    "        predictions = predictions.view(-1)\n",
    "        #YTrue.extend(labels.tolist())\n",
    "        YPredict.extend(predictions.tolist())\n",
    "\n",
    "    # Compute Scores\n",
    "    return YPredict"
   ]
  },
  {
   "cell_type": "code",
   "execution_count": 37,
   "id": "9857e5e7-7f67-45c6-90f9-9a6586b650c8",
   "metadata": {},
   "outputs": [],
   "source": [
    "def train_model(model, trainloader, testloader, CONFIG):\n",
    "    \n",
    "    optimizer = AdamW(model.parameters(), lr = CONFIG[\"learning_rate\"], weight_decay = CONFIG[\"weight_decay\"])\n",
    "\n",
    "    # criterion = nn.CrossEntropyLoss(weight = class_weights_tensor)\n",
    "\n",
    "    criterion = nn.CrossEntropyLoss()\n",
    "\n",
    "\n",
    "    ## Measure runtime\n",
    "    t_start = time()\n",
    "    \n",
    "    ## Store training log\n",
    "    history = defaultdict(list)\n",
    "    \n",
    "    # We will train the model `num_epochs` times\n",
    "    for i in range(1, CONFIG[\"epochs\"]+1):\n",
    "\n",
    "        # Training\n",
    "        train_loss, train_acc, train_f1 = train_one_epoch(model = model, trainloader = trainloader, optimizer = optimizer, criterion = criterion, device = CONFIG[\"device\"])\n",
    "\n",
    "        # Model Checkpointing\n",
    "        report = False\n",
    "        if i%10==0:\n",
    "            report = True\n",
    "            torch.save(model.state_dict(), f'{CONFIG[\"model_save_folder\"]}epoch{i}_batch_size{CONFIG[\"batch_size\"]}.pth')\n",
    "\n",
    "        # Evaluate on test set\n",
    "        test_loss, test_acc, test_f1 = evaluate(model = model, testloader = testloader, criterion = criterion, device = CONFIG[\"device\"], report = report)\n",
    "\n",
    "        ## Store train/test loss, accuracy, f1 scores\n",
    "        history[\"train_loss\"].append(train_loss)\n",
    "        history[\"train_acc\"].append(train_acc)\n",
    "        history[\"train_f1\"].append(train_f1)\n",
    "        \n",
    "        history[\"test_loss\"].append(test_loss)\n",
    "        history[\"test_acc\"].append(test_acc)\n",
    "        history[\"test_f1\"].append(test_f1)\n",
    "\n",
    "        \n",
    "        \n",
    "        ## print out train/test loss, accuracy\n",
    "        if(report):\n",
    "            print(f'Epoch: {i} | Runtime: {((time()-t_start)/60):.2f}[m] | train_loss: {train_loss:.3f} | test_loss: {test_loss:.3f} | train_acc: {train_acc:.3f} |  test_acc: {test_acc:.3f} | train_f1: {train_f1:.3f} | test_f1: {test_f1:.3f}')    \n",
    "    return history"
   ]
  },
  {
   "cell_type": "code",
   "execution_count": 38,
   "id": "44a71bce-186f-4c0c-9b32-308f9819afc4",
   "metadata": {},
   "outputs": [],
   "source": [
    "def train_one_epoch(model, trainloader, device, optimizer, criterion):\n",
    "    \"\"\"\n",
    "      Train 1 epoch on trainloader.\"\n",
    "    \"\"\"\n",
    "\n",
    "    model = model.train()\n",
    "    \n",
    "    # Keep track of loss and other evaluation metrics\n",
    "    train_loss = 0.0\n",
    "\n",
    "    YPredict = []\n",
    "    YTrue = []\n",
    "\n",
    "    ## Loop over all the batches\n",
    "    for i, (images, labels) in enumerate(trainloader, 1):\n",
    "            \n",
    "        # Move images and labels to `device` (CPU or GPU)\n",
    "        images = images.to(device)\n",
    "        labels = labels.to(device)\n",
    "\n",
    "        logits = model(images)\n",
    "\n",
    "        # print(logits)\n",
    "        # print(labels)\n",
    "        # print(logits.dtype, labels.dtype)\n",
    "        # print(type(labels[0]))\n",
    "        # print(type(labels))\n",
    "        loss = criterion(logits, labels)\n",
    "        # loss = criterion(logits, labels.to(torch.long))\n",
    "        optimizer.zero_grad()\n",
    "        loss.backward()\n",
    "        optimizer.step()\n",
    "\n",
    "        # Compute loss and accuracy for this batch\n",
    "        train_loss += loss.detach().item()\n",
    "\n",
    "        predictions = torch.argmax(logits, dim = 1)\n",
    "        predictions = predictions.view(-1)\n",
    "        YTrue.extend(labels.tolist())\n",
    "        YPredict.extend(predictions.tolist())\n",
    "\n",
    "\n",
    "    # Compute Scores\n",
    "    accuracy = accuracy_score(YTrue, YPredict)\n",
    "    f1 = f1_score(YTrue, YPredict, average = \"macro\")\n",
    "\n",
    "    return (train_loss/i, accuracy, f1) ## avg loss and acc over all batches\n"
   ]
  },
  {
   "cell_type": "code",
   "execution_count": 39,
   "id": "05d4166d-2d7d-4c79-a87c-9366953343ad",
   "metadata": {},
   "outputs": [],
   "source": [
    "class Baseline_Model(nn.Module):\n",
    "\n",
    "    def __init__(self):\n",
    "        super().__init__()\n",
    "        \n",
    "        # self.base_model_headless = base_layers\n",
    "        # self.base_model_headless.requires_grad = False\n",
    "        \n",
    "        self.fc1 = nn.Linear(CONFIG[\"feature_input_size\"], 128)\n",
    "        self.fc2 = nn.Linear(128, 64)\n",
    "        self.fc3 = nn.Linear(64, 5)\n",
    "        self.relu = nn.ReLU()\n",
    "        self.dropout = nn.Dropout(p = 0.1)\n",
    "\n",
    "\n",
    "    def forward(self, x):\n",
    "        # x = self.base_model_headless(x)\n",
    "        # # print(\"Output shape after Passing through Pretrained Model\")\n",
    "        # # print(x.shape)\n",
    "\n",
    "        # # Flatten\n",
    "        # x = x.view((x.shape[0], -1))\n",
    "\n",
    "        # FCNN\n",
    "        x = self.fc1(x)\n",
    "        x = self.relu(x)\n",
    "        x = self.dropout(x)\n",
    "        x = self.fc2(x)\n",
    "        x = self.relu(x)\n",
    "        x = self.dropout(x)\n",
    "        x = self.fc3(x)\n",
    "        # x = self.relu(x)\n",
    "        # x = self.dropout(x)\n",
    "        # x = self.fc3(x)\n",
    "        # print(x.shape)\n",
    "\n",
    "        return x      "
   ]
  },
  {
   "cell_type": "markdown",
   "id": "184b00e2-750e-40e8-9699-67daeaadde48",
   "metadata": {},
   "source": [
    "# Train the Model"
   ]
  },
  {
   "cell_type": "markdown",
   "id": "a8774b78-d7f9-4b3a-a710-db583ebdaa3c",
   "metadata": {},
   "source": [
    "## DataLoader"
   ]
  },
  {
   "cell_type": "markdown",
   "id": "297e5438-91dd-4722-9a89-3ff7c49a883e",
   "metadata": {},
   "source": [
    "* The EOFError you encountered in your DataLoader worker process could be related to using multiple workers (num_workers = 2)\n",
    "\n",
    "\n",
    "1) Concurrency Issues:\n",
    "\n",
    "    * When using multiple worker processes (num_workers > 0), there is potential for concurrency issues, especially when reading data from a file or other data sources. If your dataset is not designed to handle concurrent access properly, it can result in unexpected errors like EOFError.\n",
    "  \n",
    "2) Use torch.utils.data.SequentialSampler:\n",
    "    * Instead of relying on the default random sampler, you can use SequentialSampler to ensure that the data is loaded in a sequential order, which might help in scenarios where the order of loading matters.\n",
    "\n"
   ]
  },
  {
   "cell_type": "code",
   "execution_count": 40,
   "id": "98abd35d-befe-40e6-ab4e-c678d48864ac",
   "metadata": {},
   "outputs": [],
   "source": [
    "trainloader = DataLoader(train_dataset, batch_size = CONFIG['train_batch_size'], shuffle = True, drop_last = True)\n",
    "\n",
    "testloader = DataLoader(test_dataset, batch_size = CONFIG['batch_size'], shuffle = False,  drop_last = False, pin_memory =False)"
   ]
  },
  {
   "cell_type": "code",
   "execution_count": 42,
   "id": "1a15c053-9780-47d1-882f-15fbbb06ac7c",
   "metadata": {},
   "outputs": [],
   "source": [
    "# Initialize Model\n",
    "model = Baseline_Model().to(CONFIG[\"device\"])"
   ]
  },
  {
   "cell_type": "code",
   "execution_count": 43,
   "metadata": {},
   "outputs": [
    {
     "data": {
      "text/plain": [
       "Baseline_Model(\n",
       "  (fc1): Linear(in_features=2048, out_features=128, bias=True)\n",
       "  (fc2): Linear(in_features=128, out_features=64, bias=True)\n",
       "  (fc3): Linear(in_features=64, out_features=5, bias=True)\n",
       "  (relu): ReLU()\n",
       "  (dropout): Dropout(p=0.1, inplace=False)\n",
       ")"
      ]
     },
     "execution_count": 43,
     "metadata": {},
     "output_type": "execute_result"
    }
   ],
   "source": [
    "model.load_state_dict(torch.load(CONFIG[\"model_save_folder\"] + \"epoch330_batch_size16.pth\"))\n",
    "model.eval()"
   ]
  },
  {
   "cell_type": "code",
   "execution_count": 44,
   "id": "6f956533-8f0b-4dc3-bbc6-03ac4975d84d",
   "metadata": {
    "scrolled": true
   },
   "outputs": [
    {
     "name": "stdout",
     "output_type": "stream",
     "text": [
      "----------------------------------------------------------------\n",
      "        Layer (type)               Output Shape         Param #\n",
      "================================================================\n",
      "            Linear-1                  [-1, 128]         262,272\n",
      "              ReLU-2                  [-1, 128]               0\n",
      "           Dropout-3                  [-1, 128]               0\n",
      "            Linear-4                   [-1, 64]           8,256\n",
      "              ReLU-5                   [-1, 64]               0\n",
      "           Dropout-6                   [-1, 64]               0\n",
      "            Linear-7                    [-1, 5]             325\n",
      "================================================================\n",
      "Total params: 270,853\n",
      "Trainable params: 270,853\n",
      "Non-trainable params: 0\n",
      "----------------------------------------------------------------\n",
      "Input size (MB): 0.01\n",
      "Forward/backward pass size (MB): 0.00\n",
      "Params size (MB): 1.03\n",
      "Estimated Total Size (MB): 1.05\n",
      "----------------------------------------------------------------\n"
     ]
    }
   ],
   "source": [
    "summary(model, input_size = (CONFIG[\"feature_input_size\"],))"
   ]
  },
  {
   "cell_type": "code",
   "execution_count": 45,
   "id": "3b3268f2-b071-4f84-a307-a41e365ce456",
   "metadata": {},
   "outputs": [],
   "source": [
    "# ## compute accuracy score in a batch\n",
    "# def compute_accuracy(logits, labels, batch_size):\n",
    "#     ''' \n",
    "#       Obtain accuracy for a training batch \n",
    "#       logits: float Tensor, shape (batch_size, num_classes),  output from the model\n",
    "#       labels: Long Tensor, shape (batch_size, ), contains labels for the predictions\n",
    "#       batch_size: int, batch size\n",
    "\n",
    "#       Return accuracy for this batch, which should be a float number\n",
    "#     '''\n",
    "    \n",
    "#     # Write your code in this block ----------------\n",
    "    \n",
    "#     predictions = torch.argmax(logits, dim = 1)\n",
    "#     predictions = predictions.view(-1)\n",
    "    \n",
    "#     total_correct = (labels == predictions).sum().item()\n",
    "#     accuracy = total_correct/batch_size\n",
    "    \n",
    "#     return accuracy"
   ]
  },
  {
   "cell_type": "code",
   "execution_count": 47,
   "id": "cb41d874-840c-46ba-a732-b538cff27f27",
   "metadata": {},
   "outputs": [],
   "source": [
    "YPredict = actual_evaluate(model, testloader, CONFIG[\"device\"])"
   ]
  },
  {
   "cell_type": "code",
   "execution_count": 49,
   "metadata": {},
   "outputs": [
    {
     "data": {
      "text/plain": [
       "[0, 0, 1, 0, 3, 4, 1, 3, 4, 4]"
      ]
     },
     "execution_count": 49,
     "metadata": {},
     "output_type": "execute_result"
    }
   ],
   "source": [
    "YPredict[:10]"
   ]
  },
  {
   "cell_type": "code",
   "execution_count": 51,
   "metadata": {},
   "outputs": [
    {
     "name": "stdout",
     "output_type": "stream",
     "text": [
      "     image_id  label_int\n",
      "0           0          0\n",
      "1           1          0\n",
      "2           2          1\n",
      "3           3          0\n",
      "4           4          3\n",
      "..        ...        ...\n",
      "103       103          0\n",
      "104       104          4\n",
      "105       105          0\n",
      "106       106          0\n",
      "107       107          4\n",
      "\n",
      "[108 rows x 2 columns]\n"
     ]
    }
   ],
   "source": [
    "# Generate image_id from 0 to len(YPredict)-1\n",
    "image_id = list(range(len(YPredict)))\n",
    "\n",
    "# Create a dataframe with image_id and YPredict as columns\n",
    "df = pd.DataFrame({'image_id': image_id, 'label_int': YPredict})\n",
    "\n",
    "# Print the dataframe\n",
    "print(df)\n"
   ]
  },
  {
   "cell_type": "code",
   "execution_count": 54,
   "metadata": {},
   "outputs": [
    {
     "data": {
      "text/html": [
       "<div>\n",
       "<style scoped>\n",
       "    .dataframe tbody tr th:only-of-type {\n",
       "        vertical-align: middle;\n",
       "    }\n",
       "\n",
       "    .dataframe tbody tr th {\n",
       "        vertical-align: top;\n",
       "    }\n",
       "\n",
       "    .dataframe thead th {\n",
       "        text-align: right;\n",
       "    }\n",
       "</style>\n",
       "<table border=\"1\" class=\"dataframe\">\n",
       "  <thead>\n",
       "    <tr style=\"text-align: right;\">\n",
       "      <th></th>\n",
       "      <th>image_id</th>\n",
       "      <th>label_int</th>\n",
       "      <th>label</th>\n",
       "    </tr>\n",
       "  </thead>\n",
       "  <tbody>\n",
       "    <tr>\n",
       "      <th>0</th>\n",
       "      <td>0</td>\n",
       "      <td>0</td>\n",
       "      <td>HGSC</td>\n",
       "    </tr>\n",
       "    <tr>\n",
       "      <th>1</th>\n",
       "      <td>1</td>\n",
       "      <td>0</td>\n",
       "      <td>HGSC</td>\n",
       "    </tr>\n",
       "    <tr>\n",
       "      <th>2</th>\n",
       "      <td>2</td>\n",
       "      <td>1</td>\n",
       "      <td>EC</td>\n",
       "    </tr>\n",
       "    <tr>\n",
       "      <th>3</th>\n",
       "      <td>3</td>\n",
       "      <td>0</td>\n",
       "      <td>HGSC</td>\n",
       "    </tr>\n",
       "    <tr>\n",
       "      <th>4</th>\n",
       "      <td>4</td>\n",
       "      <td>3</td>\n",
       "      <td>CC</td>\n",
       "    </tr>\n",
       "    <tr>\n",
       "      <th>...</th>\n",
       "      <td>...</td>\n",
       "      <td>...</td>\n",
       "      <td>...</td>\n",
       "    </tr>\n",
       "    <tr>\n",
       "      <th>103</th>\n",
       "      <td>103</td>\n",
       "      <td>0</td>\n",
       "      <td>HGSC</td>\n",
       "    </tr>\n",
       "    <tr>\n",
       "      <th>104</th>\n",
       "      <td>104</td>\n",
       "      <td>4</td>\n",
       "      <td>LGSC</td>\n",
       "    </tr>\n",
       "    <tr>\n",
       "      <th>105</th>\n",
       "      <td>105</td>\n",
       "      <td>0</td>\n",
       "      <td>HGSC</td>\n",
       "    </tr>\n",
       "    <tr>\n",
       "      <th>106</th>\n",
       "      <td>106</td>\n",
       "      <td>0</td>\n",
       "      <td>HGSC</td>\n",
       "    </tr>\n",
       "    <tr>\n",
       "      <th>107</th>\n",
       "      <td>107</td>\n",
       "      <td>4</td>\n",
       "      <td>LGSC</td>\n",
       "    </tr>\n",
       "  </tbody>\n",
       "</table>\n",
       "<p>108 rows × 3 columns</p>\n",
       "</div>"
      ],
      "text/plain": [
       "     image_id  label_int label\n",
       "0           0          0  HGSC\n",
       "1           1          0  HGSC\n",
       "2           2          1    EC\n",
       "3           3          0  HGSC\n",
       "4           4          3    CC\n",
       "..        ...        ...   ...\n",
       "103       103          0  HGSC\n",
       "104       104          4  LGSC\n",
       "105       105          0  HGSC\n",
       "106       106          0  HGSC\n",
       "107       107          4  LGSC\n",
       "\n",
       "[108 rows x 3 columns]"
      ]
     },
     "execution_count": 54,
     "metadata": {},
     "output_type": "execute_result"
    }
   ],
   "source": [
    "df[\"label\"] = df[\"label_int\"].map({0 : 'HGSC', 1 : 'EC', 2 : 'MC', 3 : 'CC', 4 : 'LGSC'})\n",
    "df"
   ]
  },
  {
   "cell_type": "code",
   "execution_count": 55,
   "metadata": {},
   "outputs": [],
   "source": [
    "df.drop(columns = [\"label_int\"], inplace = True)"
   ]
  },
  {
   "cell_type": "code",
   "execution_count": 56,
   "metadata": {},
   "outputs": [],
   "source": [
    "df.to_csv('test.csv', index=False)\n"
   ]
  },
  {
   "cell_type": "code",
   "execution_count": 105,
   "id": "84b0e68d-1d4a-4885-92ee-29a9abf92b05",
   "metadata": {
    "scrolled": true
   },
   "outputs": [
    {
     "name": "stdout",
     "output_type": "stream",
     "text": [
      "Classification report :\n",
      "              precision    recall  f1-score   support\n",
      "\n",
      "           0       0.41      1.00      0.58        33\n",
      "           1       0.00      0.00      0.00        19\n",
      "           2       0.00      0.00      0.00         5\n",
      "           3       0.00      0.00      0.00        16\n",
      "           4       0.00      0.00      0.00         7\n",
      "\n",
      "    accuracy                           0.41        80\n",
      "   macro avg       0.08      0.20      0.12        80\n",
      "weighted avg       0.17      0.41      0.24        80\n",
      "\n",
      "Epoch: 10 | Runtime: 1.28[m] | train_loss: 1.459 | test_loss: 1.443 | train_acc: 0.413 |  test_acc: 0.412 | train_f1: 0.117 | test_f1: 0.117\n"
     ]
    },
    {
     "name": "stderr",
     "output_type": "stream",
     "text": [
      "c:\\Users\\chand\\AppData\\Local\\Programs\\Python\\Python311\\Lib\\site-packages\\sklearn\\metrics\\_classification.py:1471: UndefinedMetricWarning: Precision and F-score are ill-defined and being set to 0.0 in labels with no predicted samples. Use `zero_division` parameter to control this behavior.\n",
      "  _warn_prf(average, modifier, msg_start, len(result))\n",
      "c:\\Users\\chand\\AppData\\Local\\Programs\\Python\\Python311\\Lib\\site-packages\\sklearn\\metrics\\_classification.py:1471: UndefinedMetricWarning: Precision and F-score are ill-defined and being set to 0.0 in labels with no predicted samples. Use `zero_division` parameter to control this behavior.\n",
      "  _warn_prf(average, modifier, msg_start, len(result))\n",
      "c:\\Users\\chand\\AppData\\Local\\Programs\\Python\\Python311\\Lib\\site-packages\\sklearn\\metrics\\_classification.py:1471: UndefinedMetricWarning: Precision and F-score are ill-defined and being set to 0.0 in labels with no predicted samples. Use `zero_division` parameter to control this behavior.\n",
      "  _warn_prf(average, modifier, msg_start, len(result))\n"
     ]
    },
    {
     "name": "stdout",
     "output_type": "stream",
     "text": [
      "Classification report :\n",
      "              precision    recall  f1-score   support\n",
      "\n",
      "           0       0.41      1.00      0.58        33\n",
      "           1       0.00      0.00      0.00        19\n",
      "           2       0.00      0.00      0.00         5\n",
      "           3       0.00      0.00      0.00        16\n",
      "           4       0.00      0.00      0.00         7\n",
      "\n",
      "    accuracy                           0.41        80\n",
      "   macro avg       0.08      0.20      0.12        80\n",
      "weighted avg       0.17      0.41      0.24        80\n",
      "\n",
      "Epoch: 20 | Runtime: 2.16[m] | train_loss: 1.408 | test_loss: 1.388 | train_acc: 0.413 |  test_acc: 0.412 | train_f1: 0.117 | test_f1: 0.117\n"
     ]
    },
    {
     "name": "stderr",
     "output_type": "stream",
     "text": [
      "c:\\Users\\chand\\AppData\\Local\\Programs\\Python\\Python311\\Lib\\site-packages\\sklearn\\metrics\\_classification.py:1471: UndefinedMetricWarning: Precision and F-score are ill-defined and being set to 0.0 in labels with no predicted samples. Use `zero_division` parameter to control this behavior.\n",
      "  _warn_prf(average, modifier, msg_start, len(result))\n",
      "c:\\Users\\chand\\AppData\\Local\\Programs\\Python\\Python311\\Lib\\site-packages\\sklearn\\metrics\\_classification.py:1471: UndefinedMetricWarning: Precision and F-score are ill-defined and being set to 0.0 in labels with no predicted samples. Use `zero_division` parameter to control this behavior.\n",
      "  _warn_prf(average, modifier, msg_start, len(result))\n",
      "c:\\Users\\chand\\AppData\\Local\\Programs\\Python\\Python311\\Lib\\site-packages\\sklearn\\metrics\\_classification.py:1471: UndefinedMetricWarning: Precision and F-score are ill-defined and being set to 0.0 in labels with no predicted samples. Use `zero_division` parameter to control this behavior.\n",
      "  _warn_prf(average, modifier, msg_start, len(result))\n"
     ]
    },
    {
     "name": "stdout",
     "output_type": "stream",
     "text": [
      "Classification report :\n",
      "              precision    recall  f1-score   support\n",
      "\n",
      "           0       0.42      1.00      0.59        33\n",
      "           1       1.00      0.05      0.10        19\n",
      "           2       0.00      0.00      0.00         5\n",
      "           3       0.00      0.00      0.00        16\n",
      "           4       0.00      0.00      0.00         7\n",
      "\n",
      "    accuracy                           0.42        80\n",
      "   macro avg       0.28      0.21      0.14        80\n",
      "weighted avg       0.41      0.42      0.27        80\n",
      "\n",
      "Epoch: 30 | Runtime: 3.00[m] | train_loss: 1.372 | test_loss: 1.359 | train_acc: 0.414 |  test_acc: 0.425 | train_f1: 0.122 | test_f1: 0.138\n"
     ]
    },
    {
     "name": "stderr",
     "output_type": "stream",
     "text": [
      "c:\\Users\\chand\\AppData\\Local\\Programs\\Python\\Python311\\Lib\\site-packages\\sklearn\\metrics\\_classification.py:1471: UndefinedMetricWarning: Precision and F-score are ill-defined and being set to 0.0 in labels with no predicted samples. Use `zero_division` parameter to control this behavior.\n",
      "  _warn_prf(average, modifier, msg_start, len(result))\n",
      "c:\\Users\\chand\\AppData\\Local\\Programs\\Python\\Python311\\Lib\\site-packages\\sklearn\\metrics\\_classification.py:1471: UndefinedMetricWarning: Precision and F-score are ill-defined and being set to 0.0 in labels with no predicted samples. Use `zero_division` parameter to control this behavior.\n",
      "  _warn_prf(average, modifier, msg_start, len(result))\n",
      "c:\\Users\\chand\\AppData\\Local\\Programs\\Python\\Python311\\Lib\\site-packages\\sklearn\\metrics\\_classification.py:1471: UndefinedMetricWarning: Precision and F-score are ill-defined and being set to 0.0 in labels with no predicted samples. Use `zero_division` parameter to control this behavior.\n",
      "  _warn_prf(average, modifier, msg_start, len(result))\n"
     ]
    },
    {
     "name": "stdout",
     "output_type": "stream",
     "text": [
      "Classification report :\n",
      "              precision    recall  f1-score   support\n",
      "\n",
      "           0       0.46      0.97      0.63        33\n",
      "           1       0.64      0.37      0.47        19\n",
      "           2       0.00      0.00      0.00         5\n",
      "           3       0.00      0.00      0.00        16\n",
      "           4       0.00      0.00      0.00         7\n",
      "\n",
      "    accuracy                           0.49        80\n",
      "   macro avg       0.22      0.27      0.22        80\n",
      "weighted avg       0.34      0.49      0.37        80\n",
      "\n",
      "Epoch: 40 | Runtime: 3.84[m] | train_loss: 1.343 | test_loss: 1.333 | train_acc: 0.451 |  test_acc: 0.487 | train_f1: 0.175 | test_f1: 0.219\n"
     ]
    },
    {
     "name": "stderr",
     "output_type": "stream",
     "text": [
      "c:\\Users\\chand\\AppData\\Local\\Programs\\Python\\Python311\\Lib\\site-packages\\sklearn\\metrics\\_classification.py:1471: UndefinedMetricWarning: Precision and F-score are ill-defined and being set to 0.0 in labels with no predicted samples. Use `zero_division` parameter to control this behavior.\n",
      "  _warn_prf(average, modifier, msg_start, len(result))\n",
      "c:\\Users\\chand\\AppData\\Local\\Programs\\Python\\Python311\\Lib\\site-packages\\sklearn\\metrics\\_classification.py:1471: UndefinedMetricWarning: Precision and F-score are ill-defined and being set to 0.0 in labels with no predicted samples. Use `zero_division` parameter to control this behavior.\n",
      "  _warn_prf(average, modifier, msg_start, len(result))\n",
      "c:\\Users\\chand\\AppData\\Local\\Programs\\Python\\Python311\\Lib\\site-packages\\sklearn\\metrics\\_classification.py:1471: UndefinedMetricWarning: Precision and F-score are ill-defined and being set to 0.0 in labels with no predicted samples. Use `zero_division` parameter to control this behavior.\n",
      "  _warn_prf(average, modifier, msg_start, len(result))\n"
     ]
    },
    {
     "name": "stdout",
     "output_type": "stream",
     "text": [
      "Classification report :\n",
      "              precision    recall  f1-score   support\n",
      "\n",
      "           0       0.47      0.88      0.61        33\n",
      "           1       0.44      0.42      0.43        19\n",
      "           2       0.00      0.00      0.00         5\n",
      "           3       0.00      0.00      0.00        16\n",
      "           4       0.00      0.00      0.00         7\n",
      "\n",
      "    accuracy                           0.46        80\n",
      "   macro avg       0.18      0.26      0.21        80\n",
      "weighted avg       0.30      0.46      0.35        80\n",
      "\n",
      "Epoch: 50 | Runtime: 4.76[m] | train_loss: 1.307 | test_loss: 1.313 | train_acc: 0.472 |  test_acc: 0.463 | train_f1: 0.206 | test_f1: 0.209\n"
     ]
    },
    {
     "name": "stderr",
     "output_type": "stream",
     "text": [
      "c:\\Users\\chand\\AppData\\Local\\Programs\\Python\\Python311\\Lib\\site-packages\\sklearn\\metrics\\_classification.py:1471: UndefinedMetricWarning: Precision and F-score are ill-defined and being set to 0.0 in labels with no predicted samples. Use `zero_division` parameter to control this behavior.\n",
      "  _warn_prf(average, modifier, msg_start, len(result))\n",
      "c:\\Users\\chand\\AppData\\Local\\Programs\\Python\\Python311\\Lib\\site-packages\\sklearn\\metrics\\_classification.py:1471: UndefinedMetricWarning: Precision and F-score are ill-defined and being set to 0.0 in labels with no predicted samples. Use `zero_division` parameter to control this behavior.\n",
      "  _warn_prf(average, modifier, msg_start, len(result))\n",
      "c:\\Users\\chand\\AppData\\Local\\Programs\\Python\\Python311\\Lib\\site-packages\\sklearn\\metrics\\_classification.py:1471: UndefinedMetricWarning: Precision and F-score are ill-defined and being set to 0.0 in labels with no predicted samples. Use `zero_division` parameter to control this behavior.\n",
      "  _warn_prf(average, modifier, msg_start, len(result))\n"
     ]
    },
    {
     "name": "stdout",
     "output_type": "stream",
     "text": [
      "Classification report :\n",
      "              precision    recall  f1-score   support\n",
      "\n",
      "           0       0.48      0.88      0.62        33\n",
      "           1       0.50      0.53      0.51        19\n",
      "           2       0.00      0.00      0.00         5\n",
      "           3       0.00      0.00      0.00        16\n",
      "           4       0.00      0.00      0.00         7\n",
      "\n",
      "    accuracy                           0.49        80\n",
      "   macro avg       0.20      0.28      0.23        80\n",
      "weighted avg       0.32      0.49      0.38        80\n",
      "\n",
      "Epoch: 60 | Runtime: 5.87[m] | train_loss: 1.280 | test_loss: 1.293 | train_acc: 0.477 |  test_acc: 0.487 | train_f1: 0.222 | test_f1: 0.227\n"
     ]
    },
    {
     "name": "stderr",
     "output_type": "stream",
     "text": [
      "c:\\Users\\chand\\AppData\\Local\\Programs\\Python\\Python311\\Lib\\site-packages\\sklearn\\metrics\\_classification.py:1471: UndefinedMetricWarning: Precision and F-score are ill-defined and being set to 0.0 in labels with no predicted samples. Use `zero_division` parameter to control this behavior.\n",
      "  _warn_prf(average, modifier, msg_start, len(result))\n",
      "c:\\Users\\chand\\AppData\\Local\\Programs\\Python\\Python311\\Lib\\site-packages\\sklearn\\metrics\\_classification.py:1471: UndefinedMetricWarning: Precision and F-score are ill-defined and being set to 0.0 in labels with no predicted samples. Use `zero_division` parameter to control this behavior.\n",
      "  _warn_prf(average, modifier, msg_start, len(result))\n",
      "c:\\Users\\chand\\AppData\\Local\\Programs\\Python\\Python311\\Lib\\site-packages\\sklearn\\metrics\\_classification.py:1471: UndefinedMetricWarning: Precision and F-score are ill-defined and being set to 0.0 in labels with no predicted samples. Use `zero_division` parameter to control this behavior.\n",
      "  _warn_prf(average, modifier, msg_start, len(result))\n"
     ]
    },
    {
     "name": "stdout",
     "output_type": "stream",
     "text": [
      "Classification report :\n",
      "              precision    recall  f1-score   support\n",
      "\n",
      "           0       0.54      0.88      0.67        33\n",
      "           1       0.50      0.68      0.58        19\n",
      "           2       0.00      0.00      0.00         5\n",
      "           3       0.00      0.00      0.00        16\n",
      "           4       0.00      0.00      0.00         7\n",
      "\n",
      "    accuracy                           0.53        80\n",
      "   macro avg       0.21      0.31      0.25        80\n",
      "weighted avg       0.34      0.53      0.41        80\n",
      "\n",
      "Epoch: 70 | Runtime: 6.77[m] | train_loss: 1.255 | test_loss: 1.278 | train_acc: 0.499 |  test_acc: 0.525 | train_f1: 0.250 | test_f1: 0.249\n"
     ]
    },
    {
     "name": "stderr",
     "output_type": "stream",
     "text": [
      "c:\\Users\\chand\\AppData\\Local\\Programs\\Python\\Python311\\Lib\\site-packages\\sklearn\\metrics\\_classification.py:1471: UndefinedMetricWarning: Precision and F-score are ill-defined and being set to 0.0 in labels with no predicted samples. Use `zero_division` parameter to control this behavior.\n",
      "  _warn_prf(average, modifier, msg_start, len(result))\n",
      "c:\\Users\\chand\\AppData\\Local\\Programs\\Python\\Python311\\Lib\\site-packages\\sklearn\\metrics\\_classification.py:1471: UndefinedMetricWarning: Precision and F-score are ill-defined and being set to 0.0 in labels with no predicted samples. Use `zero_division` parameter to control this behavior.\n",
      "  _warn_prf(average, modifier, msg_start, len(result))\n",
      "c:\\Users\\chand\\AppData\\Local\\Programs\\Python\\Python311\\Lib\\site-packages\\sklearn\\metrics\\_classification.py:1471: UndefinedMetricWarning: Precision and F-score are ill-defined and being set to 0.0 in labels with no predicted samples. Use `zero_division` parameter to control this behavior.\n",
      "  _warn_prf(average, modifier, msg_start, len(result))\n"
     ]
    },
    {
     "name": "stdout",
     "output_type": "stream",
     "text": [
      "Classification report :\n",
      "              precision    recall  f1-score   support\n",
      "\n",
      "           0       0.61      0.85      0.71        33\n",
      "           1       0.50      0.79      0.61        19\n",
      "           2       0.00      0.00      0.00         5\n",
      "           3       0.75      0.19      0.30        16\n",
      "           4       0.00      0.00      0.00         7\n",
      "\n",
      "    accuracy                           0.57        80\n",
      "   macro avg       0.37      0.37      0.32        80\n",
      "weighted avg       0.52      0.57      0.50        80\n",
      "\n",
      "Epoch: 80 | Runtime: 7.74[m] | train_loss: 1.223 | test_loss: 1.262 | train_acc: 0.522 |  test_acc: 0.575 | train_f1: 0.292 | test_f1: 0.324\n"
     ]
    },
    {
     "name": "stderr",
     "output_type": "stream",
     "text": [
      "c:\\Users\\chand\\AppData\\Local\\Programs\\Python\\Python311\\Lib\\site-packages\\sklearn\\metrics\\_classification.py:1471: UndefinedMetricWarning: Precision and F-score are ill-defined and being set to 0.0 in labels with no predicted samples. Use `zero_division` parameter to control this behavior.\n",
      "  _warn_prf(average, modifier, msg_start, len(result))\n",
      "c:\\Users\\chand\\AppData\\Local\\Programs\\Python\\Python311\\Lib\\site-packages\\sklearn\\metrics\\_classification.py:1471: UndefinedMetricWarning: Precision and F-score are ill-defined and being set to 0.0 in labels with no predicted samples. Use `zero_division` parameter to control this behavior.\n",
      "  _warn_prf(average, modifier, msg_start, len(result))\n",
      "c:\\Users\\chand\\AppData\\Local\\Programs\\Python\\Python311\\Lib\\site-packages\\sklearn\\metrics\\_classification.py:1471: UndefinedMetricWarning: Precision and F-score are ill-defined and being set to 0.0 in labels with no predicted samples. Use `zero_division` parameter to control this behavior.\n",
      "  _warn_prf(average, modifier, msg_start, len(result))\n"
     ]
    },
    {
     "name": "stdout",
     "output_type": "stream",
     "text": [
      "Classification report :\n",
      "              precision    recall  f1-score   support\n",
      "\n",
      "           0       0.62      0.76      0.68        33\n",
      "           1       0.44      0.79      0.57        19\n",
      "           2       0.00      0.00      0.00         5\n",
      "           3       0.67      0.25      0.36        16\n",
      "           4       0.00      0.00      0.00         7\n",
      "\n",
      "    accuracy                           0.55        80\n",
      "   macro avg       0.35      0.36      0.32        80\n",
      "weighted avg       0.50      0.55      0.49        80\n",
      "\n",
      "Epoch: 90 | Runtime: 8.88[m] | train_loss: 1.183 | test_loss: 1.249 | train_acc: 0.532 |  test_acc: 0.550 | train_f1: 0.311 | test_f1: 0.323\n"
     ]
    },
    {
     "name": "stderr",
     "output_type": "stream",
     "text": [
      "c:\\Users\\chand\\AppData\\Local\\Programs\\Python\\Python311\\Lib\\site-packages\\sklearn\\metrics\\_classification.py:1471: UndefinedMetricWarning: Precision and F-score are ill-defined and being set to 0.0 in labels with no predicted samples. Use `zero_division` parameter to control this behavior.\n",
      "  _warn_prf(average, modifier, msg_start, len(result))\n",
      "c:\\Users\\chand\\AppData\\Local\\Programs\\Python\\Python311\\Lib\\site-packages\\sklearn\\metrics\\_classification.py:1471: UndefinedMetricWarning: Precision and F-score are ill-defined and being set to 0.0 in labels with no predicted samples. Use `zero_division` parameter to control this behavior.\n",
      "  _warn_prf(average, modifier, msg_start, len(result))\n",
      "c:\\Users\\chand\\AppData\\Local\\Programs\\Python\\Python311\\Lib\\site-packages\\sklearn\\metrics\\_classification.py:1471: UndefinedMetricWarning: Precision and F-score are ill-defined and being set to 0.0 in labels with no predicted samples. Use `zero_division` parameter to control this behavior.\n",
      "  _warn_prf(average, modifier, msg_start, len(result))\n"
     ]
    },
    {
     "name": "stdout",
     "output_type": "stream",
     "text": [
      "Classification report :\n",
      "              precision    recall  f1-score   support\n",
      "\n",
      "           0       0.63      0.73      0.68        33\n",
      "           1       0.44      0.79      0.57        19\n",
      "           2       0.00      0.00      0.00         5\n",
      "           3       0.57      0.25      0.35        16\n",
      "           4       0.00      0.00      0.00         7\n",
      "\n",
      "    accuracy                           0.54        80\n",
      "   macro avg       0.33      0.35      0.32        80\n",
      "weighted avg       0.48      0.54      0.48        80\n",
      "\n",
      "Epoch: 100 | Runtime: 9.81[m] | train_loss: 1.158 | test_loss: 1.236 | train_acc: 0.557 |  test_acc: 0.537 | train_f1: 0.338 | test_f1: 0.318\n"
     ]
    },
    {
     "name": "stderr",
     "output_type": "stream",
     "text": [
      "c:\\Users\\chand\\AppData\\Local\\Programs\\Python\\Python311\\Lib\\site-packages\\sklearn\\metrics\\_classification.py:1471: UndefinedMetricWarning: Precision and F-score are ill-defined and being set to 0.0 in labels with no predicted samples. Use `zero_division` parameter to control this behavior.\n",
      "  _warn_prf(average, modifier, msg_start, len(result))\n",
      "c:\\Users\\chand\\AppData\\Local\\Programs\\Python\\Python311\\Lib\\site-packages\\sklearn\\metrics\\_classification.py:1471: UndefinedMetricWarning: Precision and F-score are ill-defined and being set to 0.0 in labels with no predicted samples. Use `zero_division` parameter to control this behavior.\n",
      "  _warn_prf(average, modifier, msg_start, len(result))\n",
      "c:\\Users\\chand\\AppData\\Local\\Programs\\Python\\Python311\\Lib\\site-packages\\sklearn\\metrics\\_classification.py:1471: UndefinedMetricWarning: Precision and F-score are ill-defined and being set to 0.0 in labels with no predicted samples. Use `zero_division` parameter to control this behavior.\n",
      "  _warn_prf(average, modifier, msg_start, len(result))\n"
     ]
    },
    {
     "name": "stdout",
     "output_type": "stream",
     "text": [
      "Classification report :\n",
      "              precision    recall  f1-score   support\n",
      "\n",
      "           0       0.67      0.67      0.67        33\n",
      "           1       0.43      0.79      0.56        19\n",
      "           2       0.00      0.00      0.00         5\n",
      "           3       0.55      0.38      0.44        16\n",
      "           4       0.00      0.00      0.00         7\n",
      "\n",
      "    accuracy                           0.54        80\n",
      "   macro avg       0.33      0.37      0.33        80\n",
      "weighted avg       0.49      0.54      0.50        80\n",
      "\n",
      "Epoch: 110 | Runtime: 10.95[m] | train_loss: 1.129 | test_loss: 1.226 | train_acc: 0.564 |  test_acc: 0.537 | train_f1: 0.361 | test_f1: 0.333\n"
     ]
    },
    {
     "name": "stderr",
     "output_type": "stream",
     "text": [
      "c:\\Users\\chand\\AppData\\Local\\Programs\\Python\\Python311\\Lib\\site-packages\\sklearn\\metrics\\_classification.py:1471: UndefinedMetricWarning: Precision and F-score are ill-defined and being set to 0.0 in labels with no predicted samples. Use `zero_division` parameter to control this behavior.\n",
      "  _warn_prf(average, modifier, msg_start, len(result))\n",
      "c:\\Users\\chand\\AppData\\Local\\Programs\\Python\\Python311\\Lib\\site-packages\\sklearn\\metrics\\_classification.py:1471: UndefinedMetricWarning: Precision and F-score are ill-defined and being set to 0.0 in labels with no predicted samples. Use `zero_division` parameter to control this behavior.\n",
      "  _warn_prf(average, modifier, msg_start, len(result))\n",
      "c:\\Users\\chand\\AppData\\Local\\Programs\\Python\\Python311\\Lib\\site-packages\\sklearn\\metrics\\_classification.py:1471: UndefinedMetricWarning: Precision and F-score are ill-defined and being set to 0.0 in labels with no predicted samples. Use `zero_division` parameter to control this behavior.\n",
      "  _warn_prf(average, modifier, msg_start, len(result))\n"
     ]
    },
    {
     "name": "stdout",
     "output_type": "stream",
     "text": [
      "Classification report :\n",
      "              precision    recall  f1-score   support\n",
      "\n",
      "           0       0.69      0.61      0.65        33\n",
      "           1       0.42      0.79      0.55        19\n",
      "           2       0.00      0.00      0.00         5\n",
      "           3       0.57      0.50      0.53        16\n",
      "           4       0.00      0.00      0.00         7\n",
      "\n",
      "    accuracy                           0.54        80\n",
      "   macro avg       0.34      0.38      0.34        80\n",
      "weighted avg       0.50      0.54      0.50        80\n",
      "\n",
      "Epoch: 120 | Runtime: 12.10[m] | train_loss: 1.113 | test_loss: 1.221 | train_acc: 0.573 |  test_acc: 0.537 | train_f1: 0.386 | test_f1: 0.345\n"
     ]
    },
    {
     "name": "stderr",
     "output_type": "stream",
     "text": [
      "c:\\Users\\chand\\AppData\\Local\\Programs\\Python\\Python311\\Lib\\site-packages\\sklearn\\metrics\\_classification.py:1471: UndefinedMetricWarning: Precision and F-score are ill-defined and being set to 0.0 in labels with no predicted samples. Use `zero_division` parameter to control this behavior.\n",
      "  _warn_prf(average, modifier, msg_start, len(result))\n",
      "c:\\Users\\chand\\AppData\\Local\\Programs\\Python\\Python311\\Lib\\site-packages\\sklearn\\metrics\\_classification.py:1471: UndefinedMetricWarning: Precision and F-score are ill-defined and being set to 0.0 in labels with no predicted samples. Use `zero_division` parameter to control this behavior.\n",
      "  _warn_prf(average, modifier, msg_start, len(result))\n",
      "c:\\Users\\chand\\AppData\\Local\\Programs\\Python\\Python311\\Lib\\site-packages\\sklearn\\metrics\\_classification.py:1471: UndefinedMetricWarning: Precision and F-score are ill-defined and being set to 0.0 in labels with no predicted samples. Use `zero_division` parameter to control this behavior.\n",
      "  _warn_prf(average, modifier, msg_start, len(result))\n"
     ]
    },
    {
     "name": "stdout",
     "output_type": "stream",
     "text": [
      "Classification report :\n",
      "              precision    recall  f1-score   support\n",
      "\n",
      "           0       0.74      0.61      0.67        33\n",
      "           1       0.40      0.74      0.52        19\n",
      "           2       0.00      0.00      0.00         5\n",
      "           3       0.53      0.56      0.55        16\n",
      "           4       0.00      0.00      0.00         7\n",
      "\n",
      "    accuracy                           0.54        80\n",
      "   macro avg       0.33      0.38      0.35        80\n",
      "weighted avg       0.51      0.54      0.51        80\n",
      "\n",
      "Epoch: 130 | Runtime: 13.15[m] | train_loss: 1.081 | test_loss: 1.216 | train_acc: 0.584 |  test_acc: 0.537 | train_f1: 0.434 | test_f1: 0.346\n"
     ]
    },
    {
     "name": "stderr",
     "output_type": "stream",
     "text": [
      "c:\\Users\\chand\\AppData\\Local\\Programs\\Python\\Python311\\Lib\\site-packages\\sklearn\\metrics\\_classification.py:1471: UndefinedMetricWarning: Precision and F-score are ill-defined and being set to 0.0 in labels with no predicted samples. Use `zero_division` parameter to control this behavior.\n",
      "  _warn_prf(average, modifier, msg_start, len(result))\n",
      "c:\\Users\\chand\\AppData\\Local\\Programs\\Python\\Python311\\Lib\\site-packages\\sklearn\\metrics\\_classification.py:1471: UndefinedMetricWarning: Precision and F-score are ill-defined and being set to 0.0 in labels with no predicted samples. Use `zero_division` parameter to control this behavior.\n",
      "  _warn_prf(average, modifier, msg_start, len(result))\n",
      "c:\\Users\\chand\\AppData\\Local\\Programs\\Python\\Python311\\Lib\\site-packages\\sklearn\\metrics\\_classification.py:1471: UndefinedMetricWarning: Precision and F-score are ill-defined and being set to 0.0 in labels with no predicted samples. Use `zero_division` parameter to control this behavior.\n",
      "  _warn_prf(average, modifier, msg_start, len(result))\n"
     ]
    },
    {
     "name": "stdout",
     "output_type": "stream",
     "text": [
      "Classification report :\n",
      "              precision    recall  f1-score   support\n",
      "\n",
      "           0       0.75      0.64      0.69        33\n",
      "           1       0.41      0.74      0.53        19\n",
      "           2       0.00      0.00      0.00         5\n",
      "           3       0.53      0.56      0.55        16\n",
      "           4       0.00      0.00      0.00         7\n",
      "\n",
      "    accuracy                           0.55        80\n",
      "   macro avg       0.34      0.39      0.35        80\n",
      "weighted avg       0.51      0.55      0.52        80\n",
      "\n",
      "Epoch: 140 | Runtime: 14.25[m] | train_loss: 1.046 | test_loss: 1.194 | train_acc: 0.609 |  test_acc: 0.550 | train_f1: 0.458 | test_f1: 0.352\n"
     ]
    },
    {
     "name": "stderr",
     "output_type": "stream",
     "text": [
      "c:\\Users\\chand\\AppData\\Local\\Programs\\Python\\Python311\\Lib\\site-packages\\sklearn\\metrics\\_classification.py:1471: UndefinedMetricWarning: Precision and F-score are ill-defined and being set to 0.0 in labels with no predicted samples. Use `zero_division` parameter to control this behavior.\n",
      "  _warn_prf(average, modifier, msg_start, len(result))\n",
      "c:\\Users\\chand\\AppData\\Local\\Programs\\Python\\Python311\\Lib\\site-packages\\sklearn\\metrics\\_classification.py:1471: UndefinedMetricWarning: Precision and F-score are ill-defined and being set to 0.0 in labels with no predicted samples. Use `zero_division` parameter to control this behavior.\n",
      "  _warn_prf(average, modifier, msg_start, len(result))\n",
      "c:\\Users\\chand\\AppData\\Local\\Programs\\Python\\Python311\\Lib\\site-packages\\sklearn\\metrics\\_classification.py:1471: UndefinedMetricWarning: Precision and F-score are ill-defined and being set to 0.0 in labels with no predicted samples. Use `zero_division` parameter to control this behavior.\n",
      "  _warn_prf(average, modifier, msg_start, len(result))\n"
     ]
    },
    {
     "name": "stdout",
     "output_type": "stream",
     "text": [
      "Classification report :\n",
      "              precision    recall  f1-score   support\n",
      "\n",
      "           0       0.74      0.61      0.67        33\n",
      "           1       0.40      0.74      0.52        19\n",
      "           2       0.00      0.00      0.00         5\n",
      "           3       0.53      0.56      0.55        16\n",
      "           4       0.00      0.00      0.00         7\n",
      "\n",
      "    accuracy                           0.54        80\n",
      "   macro avg       0.33      0.38      0.35        80\n",
      "weighted avg       0.51      0.54      0.51        80\n",
      "\n",
      "Epoch: 150 | Runtime: 15.20[m] | train_loss: 1.030 | test_loss: 1.195 | train_acc: 0.615 |  test_acc: 0.537 | train_f1: 0.476 | test_f1: 0.346\n"
     ]
    },
    {
     "name": "stderr",
     "output_type": "stream",
     "text": [
      "c:\\Users\\chand\\AppData\\Local\\Programs\\Python\\Python311\\Lib\\site-packages\\sklearn\\metrics\\_classification.py:1471: UndefinedMetricWarning: Precision and F-score are ill-defined and being set to 0.0 in labels with no predicted samples. Use `zero_division` parameter to control this behavior.\n",
      "  _warn_prf(average, modifier, msg_start, len(result))\n",
      "c:\\Users\\chand\\AppData\\Local\\Programs\\Python\\Python311\\Lib\\site-packages\\sklearn\\metrics\\_classification.py:1471: UndefinedMetricWarning: Precision and F-score are ill-defined and being set to 0.0 in labels with no predicted samples. Use `zero_division` parameter to control this behavior.\n",
      "  _warn_prf(average, modifier, msg_start, len(result))\n",
      "c:\\Users\\chand\\AppData\\Local\\Programs\\Python\\Python311\\Lib\\site-packages\\sklearn\\metrics\\_classification.py:1471: UndefinedMetricWarning: Precision and F-score are ill-defined and being set to 0.0 in labels with no predicted samples. Use `zero_division` parameter to control this behavior.\n",
      "  _warn_prf(average, modifier, msg_start, len(result))\n"
     ]
    },
    {
     "name": "stdout",
     "output_type": "stream",
     "text": [
      "Classification report :\n",
      "              precision    recall  f1-score   support\n",
      "\n",
      "           0       0.74      0.61      0.67        33\n",
      "           1       0.41      0.74      0.53        19\n",
      "           2       0.00      0.00      0.00         5\n",
      "           3       0.53      0.56      0.55        16\n",
      "           4       0.50      0.14      0.22         7\n",
      "\n",
      "    accuracy                           0.55        80\n",
      "   macro avg       0.44      0.41      0.39        80\n",
      "weighted avg       0.55      0.55      0.53        80\n",
      "\n",
      "Epoch: 160 | Runtime: 16.04[m] | train_loss: 0.999 | test_loss: 1.190 | train_acc: 0.628 |  test_acc: 0.550 | train_f1: 0.497 | test_f1: 0.393\n"
     ]
    },
    {
     "name": "stderr",
     "output_type": "stream",
     "text": [
      "c:\\Users\\chand\\AppData\\Local\\Programs\\Python\\Python311\\Lib\\site-packages\\sklearn\\metrics\\_classification.py:1471: UndefinedMetricWarning: Precision and F-score are ill-defined and being set to 0.0 in labels with no predicted samples. Use `zero_division` parameter to control this behavior.\n",
      "  _warn_prf(average, modifier, msg_start, len(result))\n",
      "c:\\Users\\chand\\AppData\\Local\\Programs\\Python\\Python311\\Lib\\site-packages\\sklearn\\metrics\\_classification.py:1471: UndefinedMetricWarning: Precision and F-score are ill-defined and being set to 0.0 in labels with no predicted samples. Use `zero_division` parameter to control this behavior.\n",
      "  _warn_prf(average, modifier, msg_start, len(result))\n",
      "c:\\Users\\chand\\AppData\\Local\\Programs\\Python\\Python311\\Lib\\site-packages\\sklearn\\metrics\\_classification.py:1471: UndefinedMetricWarning: Precision and F-score are ill-defined and being set to 0.0 in labels with no predicted samples. Use `zero_division` parameter to control this behavior.\n",
      "  _warn_prf(average, modifier, msg_start, len(result))\n"
     ]
    },
    {
     "name": "stdout",
     "output_type": "stream",
     "text": [
      "Classification report :\n",
      "              precision    recall  f1-score   support\n",
      "\n",
      "           0       0.74      0.61      0.67        33\n",
      "           1       0.42      0.68      0.52        19\n",
      "           2       1.00      0.20      0.33         5\n",
      "           3       0.47      0.56      0.51        16\n",
      "           4       0.50      0.14      0.22         7\n",
      "\n",
      "    accuracy                           0.55        80\n",
      "   macro avg       0.63      0.44      0.45        80\n",
      "weighted avg       0.61      0.55      0.54        80\n",
      "\n",
      "Epoch: 170 | Runtime: 16.88[m] | train_loss: 0.977 | test_loss: 1.188 | train_acc: 0.640 |  test_acc: 0.550 | train_f1: 0.518 | test_f1: 0.451\n",
      "Classification report :\n",
      "              precision    recall  f1-score   support\n",
      "\n",
      "           0       0.71      0.61      0.66        33\n",
      "           1       0.43      0.68      0.53        19\n",
      "           2       1.00      0.20      0.33         5\n",
      "           3       0.50      0.56      0.53        16\n",
      "           4       0.67      0.29      0.40         7\n",
      "\n",
      "    accuracy                           0.56        80\n",
      "   macro avg       0.66      0.47      0.49        80\n",
      "weighted avg       0.62      0.56      0.56        80\n",
      "\n",
      "Epoch: 180 | Runtime: 17.70[m] | train_loss: 0.941 | test_loss: 1.181 | train_acc: 0.651 |  test_acc: 0.562 | train_f1: 0.555 | test_f1: 0.490\n",
      "Classification report :\n",
      "              precision    recall  f1-score   support\n",
      "\n",
      "           0       0.74      0.61      0.67        33\n",
      "           1       0.42      0.68      0.52        19\n",
      "           2       1.00      0.20      0.33         5\n",
      "           3       0.50      0.56      0.53        16\n",
      "           4       0.67      0.29      0.40         7\n",
      "\n",
      "    accuracy                           0.56        80\n",
      "   macro avg       0.67      0.47      0.49        80\n",
      "weighted avg       0.63      0.56      0.56        80\n",
      "\n",
      "Epoch: 190 | Runtime: 18.57[m] | train_loss: 0.911 | test_loss: 1.185 | train_acc: 0.670 |  test_acc: 0.562 | train_f1: 0.584 | test_f1: 0.490\n",
      "Classification report :\n",
      "              precision    recall  f1-score   support\n",
      "\n",
      "           0       0.74      0.61      0.67        33\n",
      "           1       0.41      0.63      0.50        19\n",
      "           2       1.00      0.40      0.57         5\n",
      "           3       0.47      0.50      0.48        16\n",
      "           4       0.40      0.29      0.33         7\n",
      "\n",
      "    accuracy                           0.55        80\n",
      "   macro avg       0.61      0.48      0.51        80\n",
      "weighted avg       0.60      0.55      0.56        80\n",
      "\n",
      "Epoch: 200 | Runtime: 19.40[m] | train_loss: 0.888 | test_loss: 1.176 | train_acc: 0.677 |  test_acc: 0.550 | train_f1: 0.580 | test_f1: 0.511\n",
      "Classification report :\n",
      "              precision    recall  f1-score   support\n",
      "\n",
      "           0       0.72      0.64      0.68        33\n",
      "           1       0.42      0.58      0.49        19\n",
      "           2       1.00      0.40      0.57         5\n",
      "           3       0.44      0.50      0.47        16\n",
      "           4       0.40      0.29      0.33         7\n",
      "\n",
      "    accuracy                           0.55        80\n",
      "   macro avg       0.60      0.48      0.51        80\n",
      "weighted avg       0.59      0.55      0.55        80\n",
      "\n",
      "Epoch: 210 | Runtime: 20.20[m] | train_loss: 0.878 | test_loss: 1.168 | train_acc: 0.686 |  test_acc: 0.550 | train_f1: 0.599 | test_f1: 0.508\n",
      "Classification report :\n",
      "              precision    recall  f1-score   support\n",
      "\n",
      "           0       0.72      0.64      0.68        33\n",
      "           1       0.42      0.58      0.49        19\n",
      "           2       1.00      0.40      0.57         5\n",
      "           3       0.44      0.50      0.47        16\n",
      "           4       0.40      0.29      0.33         7\n",
      "\n",
      "    accuracy                           0.55        80\n",
      "   macro avg       0.60      0.48      0.51        80\n",
      "weighted avg       0.59      0.55      0.55        80\n",
      "\n",
      "Epoch: 220 | Runtime: 21.03[m] | train_loss: 0.854 | test_loss: 1.167 | train_acc: 0.685 |  test_acc: 0.550 | train_f1: 0.607 | test_f1: 0.508\n",
      "Classification report :\n",
      "              precision    recall  f1-score   support\n",
      "\n",
      "           0       0.74      0.61      0.67        33\n",
      "           1       0.41      0.63      0.50        19\n",
      "           2       1.00      0.40      0.57         5\n",
      "           3       0.47      0.50      0.48        16\n",
      "           4       0.40      0.29      0.33         7\n",
      "\n",
      "    accuracy                           0.55        80\n",
      "   macro avg       0.61      0.48      0.51        80\n",
      "weighted avg       0.60      0.55      0.56        80\n",
      "\n",
      "Epoch: 230 | Runtime: 21.87[m] | train_loss: 0.825 | test_loss: 1.173 | train_acc: 0.702 |  test_acc: 0.550 | train_f1: 0.643 | test_f1: 0.511\n",
      "Classification report :\n",
      "              precision    recall  f1-score   support\n",
      "\n",
      "           0       0.72      0.64      0.68        33\n",
      "           1       0.44      0.63      0.52        19\n",
      "           2       1.00      0.40      0.57         5\n",
      "           3       0.47      0.50      0.48        16\n",
      "           4       0.40      0.29      0.33         7\n",
      "\n",
      "    accuracy                           0.56        80\n",
      "   macro avg       0.61      0.49      0.52        80\n",
      "weighted avg       0.60      0.56      0.57        80\n",
      "\n",
      "Epoch: 240 | Runtime: 22.67[m] | train_loss: 0.801 | test_loss: 1.165 | train_acc: 0.719 |  test_acc: 0.562 | train_f1: 0.662 | test_f1: 0.518\n",
      "Classification report :\n",
      "              precision    recall  f1-score   support\n",
      "\n",
      "           0       0.73      0.58      0.64        33\n",
      "           1       0.41      0.63      0.50        19\n",
      "           2       1.00      0.40      0.57         5\n",
      "           3       0.44      0.50      0.47        16\n",
      "           4       0.40      0.29      0.33         7\n",
      "\n",
      "    accuracy                           0.54        80\n",
      "   macro avg       0.60      0.48      0.50        80\n",
      "weighted avg       0.59      0.54      0.54        80\n",
      "\n",
      "Epoch: 250 | Runtime: 23.53[m] | train_loss: 0.774 | test_loss: 1.181 | train_acc: 0.733 |  test_acc: 0.537 | train_f1: 0.683 | test_f1: 0.504\n",
      "Classification report :\n",
      "              precision    recall  f1-score   support\n",
      "\n",
      "           0       0.72      0.55      0.62        33\n",
      "           1       0.41      0.63      0.50        19\n",
      "           2       1.00      0.40      0.57         5\n",
      "           3       0.42      0.50      0.46        16\n",
      "           4       0.40      0.29      0.33         7\n",
      "\n",
      "    accuracy                           0.53        80\n",
      "   macro avg       0.59      0.47      0.50        80\n",
      "weighted avg       0.58      0.53      0.53        80\n",
      "\n",
      "Epoch: 260 | Runtime: 24.35[m] | train_loss: 0.760 | test_loss: 1.184 | train_acc: 0.754 |  test_acc: 0.525 | train_f1: 0.712 | test_f1: 0.497\n",
      "Classification report :\n",
      "              precision    recall  f1-score   support\n",
      "\n",
      "           0       0.72      0.64      0.68        33\n",
      "           1       0.42      0.58      0.49        19\n",
      "           2       1.00      0.40      0.57         5\n",
      "           3       0.44      0.50      0.47        16\n",
      "           4       0.40      0.29      0.33         7\n",
      "\n",
      "    accuracy                           0.55        80\n",
      "   macro avg       0.60      0.48      0.51        80\n",
      "weighted avg       0.59      0.55      0.55        80\n",
      "\n",
      "Epoch: 270 | Runtime: 25.31[m] | train_loss: 0.744 | test_loss: 1.169 | train_acc: 0.749 |  test_acc: 0.550 | train_f1: 0.708 | test_f1: 0.508\n",
      "Classification report :\n",
      "              precision    recall  f1-score   support\n",
      "\n",
      "           0       0.78      0.64      0.70        33\n",
      "           1       0.41      0.63      0.50        19\n",
      "           2       1.00      0.40      0.57         5\n",
      "           3       0.47      0.50      0.48        16\n",
      "           4       0.40      0.29      0.33         7\n",
      "\n",
      "    accuracy                           0.56        80\n",
      "   macro avg       0.61      0.49      0.52        80\n",
      "weighted avg       0.61      0.56      0.57        80\n",
      "\n",
      "Epoch: 280 | Runtime: 26.28[m] | train_loss: 0.722 | test_loss: 1.181 | train_acc: 0.762 |  test_acc: 0.562 | train_f1: 0.730 | test_f1: 0.518\n",
      "Classification report :\n",
      "              precision    recall  f1-score   support\n",
      "\n",
      "           0       0.77      0.52      0.62        33\n",
      "           1       0.39      0.63      0.48        19\n",
      "           2       1.00      0.40      0.57         5\n",
      "           3       0.40      0.50      0.44        16\n",
      "           4       0.40      0.29      0.33         7\n",
      "\n",
      "    accuracy                           0.51        80\n",
      "   macro avg       0.59      0.47      0.49        80\n",
      "weighted avg       0.59      0.51      0.52        80\n",
      "\n",
      "Epoch: 290 | Runtime: 27.25[m] | train_loss: 0.707 | test_loss: 1.194 | train_acc: 0.754 |  test_acc: 0.512 | train_f1: 0.729 | test_f1: 0.489\n",
      "Classification report :\n",
      "              precision    recall  f1-score   support\n",
      "\n",
      "           0       0.76      0.58      0.66        33\n",
      "           1       0.43      0.63      0.51        19\n",
      "           2       1.00      0.40      0.57         5\n",
      "           3       0.44      0.50      0.47        16\n",
      "           4       0.29      0.29      0.29         7\n",
      "\n",
      "    accuracy                           0.54        80\n",
      "   macro avg       0.58      0.48      0.50        80\n",
      "weighted avg       0.59      0.54      0.55        80\n",
      "\n",
      "Epoch: 300 | Runtime: 28.22[m] | train_loss: 0.666 | test_loss: 1.188 | train_acc: 0.776 |  test_acc: 0.537 | train_f1: 0.749 | test_f1: 0.499\n",
      "Classification report :\n",
      "              precision    recall  f1-score   support\n",
      "\n",
      "           0       0.78      0.55      0.64        33\n",
      "           1       0.41      0.63      0.50        19\n",
      "           2       1.00      0.40      0.57         5\n",
      "           3       0.40      0.50      0.44        16\n",
      "           4       0.33      0.29      0.31         7\n",
      "\n",
      "    accuracy                           0.53        80\n",
      "   macro avg       0.59      0.47      0.49        80\n",
      "weighted avg       0.59      0.53      0.54        80\n",
      "\n",
      "Epoch: 310 | Runtime: 29.23[m] | train_loss: 0.665 | test_loss: 1.191 | train_acc: 0.786 |  test_acc: 0.525 | train_f1: 0.762 | test_f1: 0.493\n",
      "Classification report :\n",
      "              precision    recall  f1-score   support\n",
      "\n",
      "           0       0.73      0.58      0.64        33\n",
      "           1       0.44      0.63      0.52        19\n",
      "           2       1.00      0.40      0.57         5\n",
      "           3       0.42      0.50      0.46        16\n",
      "           4       0.33      0.29      0.31         7\n",
      "\n",
      "    accuracy                           0.54        80\n",
      "   macro avg       0.59      0.48      0.50        80\n",
      "weighted avg       0.58      0.54      0.54        80\n",
      "\n",
      "Epoch: 320 | Runtime: 30.27[m] | train_loss: 0.642 | test_loss: 1.182 | train_acc: 0.785 |  test_acc: 0.537 | train_f1: 0.756 | test_f1: 0.500\n",
      "Classification report :\n",
      "              precision    recall  f1-score   support\n",
      "\n",
      "           0       0.71      0.61      0.66        33\n",
      "           1       0.44      0.63      0.52        19\n",
      "           2       1.00      0.40      0.57         5\n",
      "           3       0.50      0.50      0.50        16\n",
      "           4       0.29      0.29      0.29         7\n",
      "\n",
      "    accuracy                           0.55        80\n",
      "   macro avg       0.59      0.48      0.51        80\n",
      "weighted avg       0.59      0.55      0.56        80\n",
      "\n",
      "Epoch: 330 | Runtime: 31.22[m] | train_loss: 0.613 | test_loss: 1.178 | train_acc: 0.798 |  test_acc: 0.550 | train_f1: 0.779 | test_f1: 0.507\n",
      "Classification report :\n",
      "              precision    recall  f1-score   support\n",
      "\n",
      "           0       0.71      0.61      0.66        33\n",
      "           1       0.42      0.58      0.49        19\n",
      "           2       1.00      0.40      0.57         5\n",
      "           3       0.44      0.50      0.47        16\n",
      "           4       0.33      0.29      0.31         7\n",
      "\n",
      "    accuracy                           0.54        80\n",
      "   macro avg       0.58      0.47      0.50        80\n",
      "weighted avg       0.58      0.54      0.54        80\n",
      "\n",
      "Epoch: 340 | Runtime: 32.15[m] | train_loss: 0.596 | test_loss: 1.168 | train_acc: 0.814 |  test_acc: 0.537 | train_f1: 0.790 | test_f1: 0.499\n",
      "Classification report :\n",
      "              precision    recall  f1-score   support\n",
      "\n",
      "           0       0.75      0.55      0.63        33\n",
      "           1       0.41      0.63      0.50        19\n",
      "           2       1.00      0.40      0.57         5\n",
      "           3       0.47      0.50      0.48        16\n",
      "           4       0.25      0.29      0.27         7\n",
      "\n",
      "    accuracy                           0.53        80\n",
      "   macro avg       0.58      0.47      0.49        80\n",
      "weighted avg       0.59      0.53      0.54        80\n",
      "\n",
      "Epoch: 350 | Runtime: 33.15[m] | train_loss: 0.588 | test_loss: 1.202 | train_acc: 0.811 |  test_acc: 0.525 | train_f1: 0.793 | test_f1: 0.491\n",
      "Classification report :\n",
      "              precision    recall  f1-score   support\n",
      "\n",
      "           0       0.74      0.52      0.61        33\n",
      "           1       0.41      0.63      0.50        19\n",
      "           2       1.00      0.40      0.57         5\n",
      "           3       0.47      0.50      0.48        16\n",
      "           4       0.22      0.29      0.25         7\n",
      "\n",
      "    accuracy                           0.51        80\n",
      "   macro avg       0.57      0.47      0.48        80\n",
      "weighted avg       0.58      0.51      0.52        80\n",
      "\n",
      "Epoch: 360 | Runtime: 34.10[m] | train_loss: 0.570 | test_loss: 1.207 | train_acc: 0.821 |  test_acc: 0.512 | train_f1: 0.807 | test_f1: 0.483\n",
      "Classification report :\n",
      "              precision    recall  f1-score   support\n",
      "\n",
      "           0       0.75      0.55      0.63        33\n",
      "           1       0.41      0.63      0.50        19\n",
      "           2       1.00      0.40      0.57         5\n",
      "           3       0.47      0.50      0.48        16\n",
      "           4       0.25      0.29      0.27         7\n",
      "\n",
      "    accuracy                           0.53        80\n",
      "   macro avg       0.58      0.47      0.49        80\n",
      "weighted avg       0.59      0.53      0.54        80\n",
      "\n",
      "Epoch: 370 | Runtime: 35.05[m] | train_loss: 0.555 | test_loss: 1.209 | train_acc: 0.827 |  test_acc: 0.525 | train_f1: 0.809 | test_f1: 0.491\n",
      "Classification report :\n",
      "              precision    recall  f1-score   support\n",
      "\n",
      "           0       0.74      0.52      0.61        33\n",
      "           1       0.41      0.63      0.50        19\n",
      "           2       1.00      0.40      0.57         5\n",
      "           3       0.47      0.50      0.48        16\n",
      "           4       0.22      0.29      0.25         7\n",
      "\n",
      "    accuracy                           0.51        80\n",
      "   macro avg       0.57      0.47      0.48        80\n",
      "weighted avg       0.58      0.51      0.52        80\n",
      "\n",
      "Epoch: 380 | Runtime: 35.95[m] | train_loss: 0.544 | test_loss: 1.220 | train_acc: 0.820 |  test_acc: 0.512 | train_f1: 0.804 | test_f1: 0.483\n",
      "Classification report :\n",
      "              precision    recall  f1-score   support\n",
      "\n",
      "           0       0.74      0.52      0.61        33\n",
      "           1       0.41      0.63      0.50        19\n",
      "           2       1.00      0.40      0.57         5\n",
      "           3       0.47      0.50      0.48        16\n",
      "           4       0.22      0.29      0.25         7\n",
      "\n",
      "    accuracy                           0.51        80\n",
      "   macro avg       0.57      0.47      0.48        80\n",
      "weighted avg       0.58      0.51      0.52        80\n",
      "\n",
      "Epoch: 390 | Runtime: 36.91[m] | train_loss: 0.514 | test_loss: 1.223 | train_acc: 0.842 |  test_acc: 0.512 | train_f1: 0.829 | test_f1: 0.483\n",
      "Classification report :\n",
      "              precision    recall  f1-score   support\n",
      "\n",
      "           0       0.71      0.52      0.60        33\n",
      "           1       0.43      0.63      0.51        19\n",
      "           2       1.00      0.40      0.57         5\n",
      "           3       0.47      0.50      0.48        16\n",
      "           4       0.22      0.29      0.25         7\n",
      "\n",
      "    accuracy                           0.51        80\n",
      "   macro avg       0.57      0.47      0.48        80\n",
      "weighted avg       0.57      0.51      0.52        80\n",
      "\n",
      "Epoch: 400 | Runtime: 37.83[m] | train_loss: 0.491 | test_loss: 1.216 | train_acc: 0.856 |  test_acc: 0.512 | train_f1: 0.845 | test_f1: 0.483\n"
     ]
    }
   ],
   "source": [
    "# Train Model\n",
    "\n",
    "# history_model = train_model(model, trainloader, testloader, CONFIG)"
   ]
  },
  {
   "cell_type": "code",
   "execution_count": null,
   "metadata": {},
   "outputs": [],
   "source": []
  },
  {
   "cell_type": "code",
   "execution_count": null,
   "id": "ad0b4e03-74a6-4f50-ab92-66ae5087fb36",
   "metadata": {},
   "outputs": [],
   "source": []
  },
  {
   "cell_type": "markdown",
   "id": "fe441e3b-ca49-4169-9237-25c32dd4891b",
   "metadata": {},
   "source": [
    "# Plots"
   ]
  },
  {
   "cell_type": "code",
   "execution_count": 106,
   "id": "4d6bb5c3-1575-43e9-94b0-35e272d47f45",
   "metadata": {},
   "outputs": [
    {
     "data": {
      "text/plain": [
       "<matplotlib.legend.Legend at 0x29b4595fed0>"
      ]
     },
     "execution_count": 106,
     "metadata": {},
     "output_type": "execute_result"
    },
    {
     "data": {
      "image/png": "[encoded data removed]",
      "text/plain": [
       "<Figure size 640x480 with 1 Axes>"
      ]
     },
     "metadata": {},
     "output_type": "display_data"
    }
   ],
   "source": [
    "## Plot train_loss, test_loss\n",
    "num_epochs = CONFIG['epochs']\n",
    "plt.plot(np.arange(num_epochs), history_model[\"train_loss\"], label='train loss')\n",
    "plt.plot(np.arange(num_epochs), history_model[\"test_loss\"], label='test loss')\n",
    "plt.xlabel('#epochs')\n",
    "plt.ylabel('loss')\n",
    "plt.legend()"
   ]
  },
  {
   "cell_type": "code",
   "execution_count": 107,
   "id": "7060a727-2c6c-4528-ba8b-ca08f4c4123e",
   "metadata": {},
   "outputs": [
    {
     "data": {
      "text/plain": [
       "<matplotlib.legend.Legend at 0x29b6808d310>"
      ]
     },
     "execution_count": 107,
     "metadata": {},
     "output_type": "execute_result"
    },
    {
     "data": {
      "image/png": "[encoded data removed]",
      "text/plain": [
       "<Figure size 640x480 with 1 Axes>"
      ]
     },
     "metadata": {},
     "output_type": "display_data"
    }
   ],
   "source": [
    "## Plot accuracy\n",
    "\n",
    "plt.plot(np.arange(num_epochs), history_model[\"train_acc\"], label='train acc')\n",
    "plt.plot(np.arange(num_epochs), history_model[\"test_acc\"], label='test acc')\n",
    "plt.xlabel('#epochs')\n",
    "plt.ylabel('accuracy')\n",
    "plt.legend()"
   ]
  },
  {
   "cell_type": "code",
   "execution_count": 108,
   "id": "82512b88-1775-4423-832e-7f1d865de437",
   "metadata": {},
   "outputs": [
    {
     "data": {
      "text/plain": [
       "<matplotlib.legend.Legend at 0x29b4596a550>"
      ]
     },
     "execution_count": 108,
     "metadata": {},
     "output_type": "execute_result"
    },
    {
     "data": {
      "image/png": "[encoded data removed]",
      "text/plain": [
       "<Figure size 640x480 with 1 Axes>"
      ]
     },
     "metadata": {},
     "output_type": "display_data"
    }
   ],
   "source": [
    "## Plot accuracy\n",
    "\n",
    "plt.plot(np.arange(num_epochs), history_model[\"train_f1\"], label='train f1')\n",
    "plt.plot(np.arange(num_epochs), history_model[\"test_f1\"], label='test f1')\n",
    "plt.xlabel('#epochs')\n",
    "plt.ylabel('f1')\n",
    "plt.legend()"
   ]
  },
  {
   "cell_type": "code",
   "execution_count": 109,
   "id": "b3f44965-b6e6-4932-a517-08239c27afb5",
   "metadata": {
    "scrolled": true
   },
   "outputs": [
    {
     "data": {
      "text/plain": [
       "Baseline_Model(\n",
       "  (fc1): Linear(in_features=2048, out_features=128, bias=True)\n",
       "  (fc2): Linear(in_features=128, out_features=64, bias=True)\n",
       "  (fc3): Linear(in_features=64, out_features=5, bias=True)\n",
       "  (relu): ReLU()\n",
       "  (dropout): Dropout(p=0.1, inplace=False)\n",
       ")"
      ]
     },
     "execution_count": 109,
     "metadata": {},
     "output_type": "execute_result"
    }
   ],
   "source": [
    "model"
   ]
  },
  {
   "cell_type": "code",
   "execution_count": null,
   "id": "5e5ddf34-6152-4ffd-9fdf-e0ff7d64c1c6",
   "metadata": {},
   "outputs": [],
   "source": []
  },
  {
   "cell_type": "code",
   "execution_count": 110,
   "id": "71b5f7d9-95af-4002-9b4e-f0a520d09dcd",
   "metadata": {},
   "outputs": [
    {
     "ename": "",
     "evalue": "",
     "output_type": "error",
     "traceback": [
      "\u001b[1;31mThe Kernel crashed while executing code in the the current cell or a previous cell. Please review the code in the cell(s) to identify a possible cause of the failure. Click <a href='https://aka.ms/vscodeJupyterKernelCrash'>here</a> for more info. View Jupyter <a href='command:jupyter.viewOutput'>log</a> for further details."
     ]
    }
   ],
   "source": [
    "# torch.save(model.state_dict(), f'models/Baseline_model/state_dict_epoch{i}_batch_size{CONFIG[\"batch_size\"]}.pth')"
   ]
  },
  {
   "cell_type": "code",
   "execution_count": null,
   "id": "d66a740e-4beb-46e0-8208-cf3d4da05782",
   "metadata": {},
   "outputs": [],
   "source": []
  }
 ],
 "metadata": {
  "kernelspec": {
   "display_name": "Python 3 (ipykernel)",
   "language": "python",
   "name": "python3"
  },
  "language_info": {
   "codemirror_mode": {
    "name": "ipython",
    "version": 3
   },
   "file_extension": ".py",
   "mimetype": "text/x-python",
   "name": "python",
   "nbconvert_exporter": "python",
   "pygments_lexer": "ipython3",
   "version": "3.11.4"
  }
 },
 "nbformat": 4,
 "nbformat_minor": 5
}
