{
 "cells": [
  {
   "cell_type": "code",
   "execution_count": 1,
   "id": "aaee65d4-fdcd-492e-8a12-24a9f6e6e9af",
   "metadata": {},
   "outputs": [],
   "source": [
    "# Goal : To classify the type of ovarian cancer from microscopy scans of biopsy samples.\n",
    "\n",
    "# Search SoTA model on Kaggle Approach, Papers with code - Medical Data, Graph Transformer, GNN, Global and Local Analysis\n",
    "\n",
    "# You should manage, including differences in image dimensions, quality, slide staining techniques, and more\n",
    "\n",
    "# There are 2 types of images - TMA and WSI (25 images are TMA and 513(rest) are WSI)\n"
   ]
  },
  {
   "cell_type": "code",
   "execution_count": 2,
   "id": "9d1971b2-09c3-4a8d-b158-355c9772dfa9",
   "metadata": {},
   "outputs": [
    {
     "data": {
      "text/plain": [
       "'/projectnb/cs640grp/students/avarshn/.conda/envs/ocean'"
      ]
     },
     "execution_count": 2,
     "metadata": {},
     "output_type": "execute_result"
    }
   ],
   "source": [
    "import sys\n",
    "sys.prefix"
   ]
  },
  {
   "cell_type": "markdown",
   "id": "48222a33-507b-4f98-8df3-8538ed479f1c",
   "metadata": {},
   "source": [
    "# Check if GPU is available"
   ]
  },
  {
   "cell_type": "code",
   "execution_count": 3,
   "id": "143df7b3-2bc3-4651-b9a8-ed3f5a8108be",
   "metadata": {},
   "outputs": [],
   "source": [
    "import torch"
   ]
  },
  {
   "cell_type": "code",
   "execution_count": 4,
   "id": "c193c329-3591-4572-9640-35b274bf754e",
   "metadata": {},
   "outputs": [
    {
     "data": {
      "text/plain": [
       "False"
      ]
     },
     "execution_count": 4,
     "metadata": {},
     "output_type": "execute_result"
    }
   ],
   "source": [
    "torch.cuda.is_available()"
   ]
  },
  {
   "cell_type": "code",
   "execution_count": 5,
   "id": "3c04ae72-d26a-4c3c-8415-ba36cb557c94",
   "metadata": {},
   "outputs": [
    {
     "name": "stdout",
     "output_type": "stream",
     "text": [
      "/bin/bash: nvidia: command not found\n"
     ]
    }
   ],
   "source": [
    "!nvidia smi\n"
   ]
  },
  {
   "cell_type": "code",
   "execution_count": 6,
   "id": "150de13e-2b4e-499e-9092-e541baa686b8",
   "metadata": {},
   "outputs": [],
   "source": [
    "!lspci | grep -i nvidia"
   ]
  },
  {
   "cell_type": "markdown",
   "id": "75827adc-9618-4d47-8fdc-44dbdc43cbe8",
   "metadata": {},
   "source": [
    "# Import Libraries"
   ]
  },
  {
   "cell_type": "code",
   "execution_count": 7,
   "id": "b7db4971-169f-47a7-9938-cc2d20e23b09",
   "metadata": {},
   "outputs": [],
   "source": [
    "import os\n",
    "from time import time\n",
    "from collections import defaultdict\n",
    "from tqdm import tqdm\n",
    "\n",
    "import numpy as np\n",
    "import pandas as pd\n",
    "import matplotlib.pyplot as plt\n",
    "\n",
    "from sklearn.utils.class_weight import compute_class_weight\n",
    "from sklearn.model_selection import train_test_split\n",
    "from sklearn.metrics import accuracy_score, f1_score, confusion_matrix, classification_report\n",
    "\n",
    "from PIL import Image\n",
    "import cv2\n",
    "\n",
    "import torch.nn as nn\n",
    "from torch.utils.data import Dataset, DataLoader\n",
    "from torch.optim import AdamW\n",
    "\n",
    "from torchsummary import summary\n",
    "\n",
    "import torchvision\n",
    "from torchvision import transforms, utils\n",
    "\n",
    "from torchvision.models import efficientnet_b0, EfficientNet_B0_Weights\n",
    "from torchvision.models import resnet18, ResNet18_Weights"
   ]
  },
  {
   "cell_type": "markdown",
   "id": "a5c70d5b-6ba8-4faf-a3ff-5e37b6a0c467",
   "metadata": {},
   "source": [
    "# Configurations"
   ]
  },
  {
   "cell_type": "code",
   "execution_count": 49,
   "id": "13ca183a-b75e-4d06-ae54-1c3af198cae6",
   "metadata": {},
   "outputs": [],
   "source": [
    "CONFIG = {\n",
    "    \"model_name\" : \"resnet18\"\n",
    "}"
   ]
  },
  {
   "cell_type": "code",
   "execution_count": 51,
   "id": "c49af72f-38c9-44c7-b1a5-60dd6203ba46",
   "metadata": {},
   "outputs": [],
   "source": [
    "if CONFIG[\"model_name\"] == \"resnet18\":\n",
    "\n",
    "    CONFIG.update({\n",
    "            \"seed\": 42,\n",
    "            \"num_classes\": 5,\n",
    "            \"device\": torch.device(\"cuda:0\" if torch.cuda.is_available() else \"cpu\"),\n",
    "            \n",
    "            # \"valid_batch_size\": 32,\n",
    "            \"embedding_save_folder\" : \"./models/resnet18/embeddings/\",\n",
    "            \"feature_input_size\" : 512,\n",
    "            \"model_save_folder\" : \"./models/resnet18/model_checkpoints/\",\n",
    "        \n",
    "            \"batch_size\" : 8,\n",
    "            \"train_batch_size\" : 8,\n",
    "            \"epochs\" : 20,\n",
    "            \"learning_rate\" : 1e-5,\n",
    "            \"weight_decay\" : 1e-3\n",
    "    })"
   ]
  },
  {
   "cell_type": "code",
   "execution_count": 10,
   "id": "c572c798-bfbf-49bb-a47e-95935ba372dd",
   "metadata": {},
   "outputs": [],
   "source": [
    "if CONFIG[\"model_name\"] == \"efficientnet_b3\":\n",
    "\n",
    "    CONFIG.update({\n",
    "            \"seed\": 42,\n",
    "            \"num_classes\": 5,\n",
    "            \"device\": torch.device(\"cuda:0\" if torch.cuda.is_available() else \"cpu\"),\n",
    "            \n",
    "            # \"valid_batch_size\": 32,\n",
    "            \"embedding_save_folder\" : \"./models/efficientnet_b3/embeddings/\",\n",
    "            \"feature_input_size\" : 1536,\n",
    "            \"model_save_folder\" : \"./models/efficientnet_b3/model_checkpoints/\",\n",
    "        \n",
    "            \"batch_size\" : 8,\n",
    "            \"train_batch_size\" : 8,\n",
    "            \"epochs\" : 10,\n",
    "            \"learning_rate\" : 1e-5,\n",
    "            \"weight_decay\" : 1e-3\n",
    "    })"
   ]
  },
  {
   "cell_type": "code",
   "execution_count": 11,
   "id": "4dcff8b2-936b-458c-a5f1-b7b711030b2b",
   "metadata": {},
   "outputs": [],
   "source": [
    "if CONFIG[\"model_name\"] == \"efficientnet_b0\":\n",
    "\n",
    "    CONFIG.update({\n",
    "            \"seed\": 42,\n",
    "            \"num_classes\": 5,\n",
    "            \"device\": torch.device(\"cuda:0\" if torch.cuda.is_available() else \"cpu\"),\n",
    "            \n",
    "            # \"valid_batch_size\": 32,\n",
    "            \"embedding_save_folder\" : \"./models/efficientnet_b0/embeddings/\",\n",
    "            \"feature_input_size\" : 1280,\n",
    "            \"model_save_folder\" : \"./models/efficientnet_b0/model_checkpoints/\",\n",
    "        \n",
    "            \"batch_size\" : 8,\n",
    "            \"epochs\" : 40,\n",
    "            \"learning_rate\" : 1e-5,\n",
    "            \"weight_decay\" : 1e-2\n",
    "    })"
   ]
  },
  {
   "cell_type": "code",
   "execution_count": 12,
   "id": "d5fbe965-3c93-4b23-bb36-f4f56aca0000",
   "metadata": {},
   "outputs": [
    {
     "data": {
      "text/plain": [
       "{'model_name': 'resnet18',\n",
       " 'seed': 42,\n",
       " 'num_classes': 5,\n",
       " 'device': device(type='cpu'),\n",
       " 'embedding_save_folder': './models/resnet18/embeddings/',\n",
       " 'feature_input_size': 512,\n",
       " 'model_save_folder': './models/resnet18/model_checkpoints/',\n",
       " 'batch_size': 8,\n",
       " 'train_batch_size': 8,\n",
       " 'epochs': 20,\n",
       " 'learning_rate': 0.0001,\n",
       " 'weight_decay': 0.001}"
      ]
     },
     "execution_count": 12,
     "metadata": {},
     "output_type": "execute_result"
    }
   ],
   "source": [
    "CONFIG"
   ]
  },
  {
   "cell_type": "code",
   "execution_count": 13,
   "id": "59ef42e6-00e5-40ff-a2b9-9e44b718dcee",
   "metadata": {},
   "outputs": [],
   "source": [
    "def set_seed(seed=42):\n",
    "    '''Sets the seed of the entire notebook so results are the same every time we run.\n",
    "    This is for REPRODUCIBILITY.'''\n",
    "    np.random.seed(seed)\n",
    "    torch.manual_seed(seed)\n",
    "    torch.cuda.manual_seed(seed)\n",
    "    # When running on the CuDNN backend, two further options must be set\n",
    "    torch.backends.cudnn.deterministic = True\n",
    "    torch.backends.cudnn.benchmark = False\n",
    "    # Set a fixed value for the hash seed\n",
    "    os.environ['PYTHONHASHSEED'] = str(seed)\n",
    "    \n",
    "set_seed(CONFIG['seed'])"
   ]
  },
  {
   "cell_type": "markdown",
   "id": "9b28ab07-67fb-4555-9187-88e860e73c34",
   "metadata": {},
   "source": [
    "# Merge Numpy arrays"
   ]
  },
  {
   "cell_type": "code",
   "execution_count": 14,
   "id": "859bccec-19a7-4315-9448-32e9edaa9b1c",
   "metadata": {},
   "outputs": [],
   "source": [
    "embeddings_arr_list = []\n",
    "labels_arr_list = []\n",
    "\n",
    "for file in os.listdir(CONFIG[\"embedding_save_folder\"]):\n",
    "    if file.endswith(\".npz\"):\n",
    "        if \"train_embeddings_and_labels_\" in file:\n",
    "            np_arr = np.load(CONFIG[\"embedding_save_folder\"] + file)\n",
    "            embeddings_arr_list.append(np_arr[\"embeddings\"])\n",
    "            labels_arr_list.append(np_arr[\"labels\"])\n",
    "            # labels_arr = np.concatenate((labels_arr, np_arr[\"labels\"]), axis = 0)"
   ]
  },
  {
   "cell_type": "code",
   "execution_count": 15,
   "id": "9c04dbc4-4ea3-436a-8f6e-6839333c4503",
   "metadata": {},
   "outputs": [
    {
     "data": {
      "text/plain": [
       "(1505, 512)"
      ]
     },
     "execution_count": 15,
     "metadata": {},
     "output_type": "execute_result"
    }
   ],
   "source": [
    "all_embeddings = np.concatenate(embeddings_arr_list)\n",
    "all_embeddings.shape"
   ]
  },
  {
   "cell_type": "code",
   "execution_count": 16,
   "id": "4d2675b4-3009-47a7-bf8d-1f87046b58c8",
   "metadata": {},
   "outputs": [
    {
     "data": {
      "text/plain": [
       "(1505,)"
      ]
     },
     "execution_count": 16,
     "metadata": {},
     "output_type": "execute_result"
    }
   ],
   "source": [
    "all_labels = np.concatenate(labels_arr_list)\n",
    "all_labels.shape"
   ]
  },
  {
   "cell_type": "code",
   "execution_count": 17,
   "id": "df552edb-4d06-45ca-8fcb-95f99079fe1d",
   "metadata": {},
   "outputs": [
    {
     "data": {
      "text/plain": [
       "(array([0, 1, 2, 3, 4]), array([315, 300, 280, 308, 302]))"
      ]
     },
     "execution_count": 17,
     "metadata": {},
     "output_type": "execute_result"
    }
   ],
   "source": [
    "# Balanced Dataset with Augmentation\n",
    "np.unique(all_labels, return_counts=True)"
   ]
  },
  {
   "cell_type": "code",
   "execution_count": 18,
   "id": "7c39fe9e-d3ec-4df1-aee3-b8c790f94faa",
   "metadata": {},
   "outputs": [
    {
     "name": "stdout",
     "output_type": "stream",
     "text": [
      "./models/resnet18/embeddings/resnet18_train_embeddings_and_labels.npz\n"
     ]
    }
   ],
   "source": [
    "save_location = f'{CONFIG[\"embedding_save_folder\"]}{CONFIG[\"model_name\"]}_train_embeddings_and_labels.npz'\n",
    "print(save_location)\n",
    "\n",
    "np.savez(save_location, embeddings = all_embeddings, labels = all_labels)"
   ]
  },
  {
   "cell_type": "markdown",
   "id": "2f3350a3-92d5-4526-8c18-60568057476c",
   "metadata": {},
   "source": [
    "# Custom Dataset"
   ]
  },
  {
   "cell_type": "code",
   "execution_count": 19,
   "id": "02dd6b7a-b315-49e5-ab7d-50141f6a92c5",
   "metadata": {},
   "outputs": [],
   "source": [
    "Image.MAX_IMAGE_PIXELS = None"
   ]
  },
  {
   "cell_type": "code",
   "execution_count": 20,
   "id": "002b334d-0f52-4bde-828c-eddcbb34a033",
   "metadata": {},
   "outputs": [],
   "source": [
    "class ocean_embedding_dataset(Dataset):\n",
    "    \n",
    "    def __init__(self, numpy_file_name):\n",
    "        \n",
    "        self.ocean_np_arr = np.load(numpy_file_name)\n",
    "\n",
    "    def __len__(self):\n",
    "        return self.ocean_np_arr[\"labels\"].shape[0]\n",
    "\n",
    "    def __getitem__(self, idx):\n",
    "        if torch.is_tensor(idx):\n",
    "            idx = idx.tolist()\n",
    "\n",
    "        image = self.ocean_np_arr[\"embeddings\"][idx]\n",
    "        image = torch.tensor(image)\n",
    "        \n",
    "        label = self.ocean_np_arr[\"labels\"][idx]\n",
    "\n",
    "        return image, label\n",
    "        "
   ]
  },
  {
   "cell_type": "code",
   "execution_count": null,
   "id": "33858d05-4c7f-4766-8cb5-84cc5b1dc770",
   "metadata": {},
   "outputs": [],
   "source": []
  },
  {
   "cell_type": "code",
   "execution_count": 21,
   "id": "01054b83-dfda-4717-a6b5-64608e69e9d5",
   "metadata": {},
   "outputs": [],
   "source": [
    "train_np_arr_path = f'{CONFIG[\"embedding_save_folder\"]}{CONFIG[\"model_name\"]}_train_embeddings_and_labels.npz'\n",
    "test_np_arr_path = f'{CONFIG[\"embedding_save_folder\"]}{CONFIG[\"model_name\"]}_test_embeddings_and_labels.npz'\n"
   ]
  },
  {
   "cell_type": "code",
   "execution_count": 22,
   "id": "27eba013-ad6c-4dc8-b686-e7e327206c69",
   "metadata": {},
   "outputs": [],
   "source": [
    "train_dataset = ocean_embedding_dataset(train_np_arr_path)\n",
    "\n",
    "test_dataset = ocean_embedding_dataset(test_np_arr_path)"
   ]
  },
  {
   "cell_type": "markdown",
   "id": "18e15d1c-a392-41a3-a03f-5642fcdbfb96",
   "metadata": {},
   "source": [
    "## Testing"
   ]
  },
  {
   "cell_type": "code",
   "execution_count": 23,
   "id": "50fbd20d-5ad0-44d1-8c8a-5bd32dcbc02e",
   "metadata": {},
   "outputs": [
    {
     "data": {
      "text/plain": [
       "1505"
      ]
     },
     "execution_count": 23,
     "metadata": {},
     "output_type": "execute_result"
    }
   ],
   "source": [
    "train_dataset.__len__()"
   ]
  },
  {
   "cell_type": "code",
   "execution_count": 24,
   "id": "86204af9-161a-488c-b890-b8f11b17911b",
   "metadata": {},
   "outputs": [],
   "source": [
    "a,b = train_dataset.__getitem__(torch.tensor(10))"
   ]
  },
  {
   "cell_type": "code",
   "execution_count": 25,
   "id": "52061b6a-000b-4ff2-8595-e37f9007f17f",
   "metadata": {},
   "outputs": [
    {
     "data": {
      "text/plain": [
       "tensor([6.5362e-01, 2.0221e-01, 1.0587e+00, 1.1869e+00, 6.1350e-01, 1.8662e-02,\n",
       "        1.3995e-01, 4.8100e-01, 2.5939e+00, 2.9080e-01, 2.6905e-02, 3.1879e-01,\n",
       "        8.4294e-01, 1.6270e+00, 2.0928e-01, 2.7919e-01, 1.0088e+00, 9.0720e-01,\n",
       "        2.1647e+00, 8.1846e-01, 1.2649e+00, 5.1603e-01, 1.3669e+00, 3.6165e-01,\n",
       "        1.4862e+00, 1.4949e+00, 9.1102e-01, 9.5804e-01, 5.2099e-02, 8.4702e-01,\n",
       "        1.6026e-01, 3.7481e-01, 1.0356e+00, 1.4091e+00, 1.9095e-01, 4.6272e-01,\n",
       "        3.8691e-02, 2.7147e-01, 1.6918e-01, 1.0337e-01, 6.9889e-01, 7.9704e-02,\n",
       "        5.2884e-01, 4.8314e-01, 2.5355e+00, 1.0056e+00, 4.2173e-01, 3.6864e-01,\n",
       "        1.3022e+00, 5.9585e-01, 1.4884e-01, 1.3268e+00, 1.0003e+00, 4.9262e-01,\n",
       "        2.7224e+00, 1.8266e+00, 2.0147e+00, 7.8689e-02, 1.0667e+00, 2.8156e-01,\n",
       "        6.1578e-03, 2.2887e-01, 3.3332e-01, 7.5356e-01, 2.9631e-01, 1.4279e+00,\n",
       "        4.7247e-01, 4.5107e-01, 6.6089e-01, 2.6366e-01, 1.4474e+00, 3.8410e-01,\n",
       "        7.9504e-02, 8.8031e-02, 1.9793e+00, 1.7075e-01, 2.3522e-01, 7.8605e-01,\n",
       "        3.6943e-01, 9.9700e-01, 4.7059e-02, 7.1929e-01, 1.6755e+00, 3.4487e-02,\n",
       "        8.4117e-01, 7.5118e-01, 1.6835e+00, 1.2844e+00, 1.7715e+00, 3.3964e-01,\n",
       "        2.0725e-01, 1.0772e+00, 8.1649e-01, 3.4021e-01, 3.6972e-01, 4.2603e-01,\n",
       "        1.3698e+00, 1.6426e-01, 8.6439e-01, 5.6322e-01, 1.3501e+00, 1.8099e+00,\n",
       "        8.4551e-01, 8.6630e-01, 2.6309e+00, 1.1500e+00, 1.0046e+00, 4.1891e-01,\n",
       "        1.2140e-01, 6.8928e-01, 2.8285e+00, 2.7281e-01, 2.2904e-01, 6.6781e-01,\n",
       "        5.1537e-02, 1.8239e+00, 1.8068e-02, 2.1193e-01, 6.2228e-01, 1.0520e+00,\n",
       "        9.5836e-01, 2.2772e-02, 1.4909e-01, 7.5809e-01, 1.8880e+00, 4.6047e-01,\n",
       "        3.0726e+00, 2.7665e+00, 8.7710e-01, 2.2607e-01, 4.4436e-01, 1.0459e+00,\n",
       "        8.9781e-01, 2.1762e-01, 1.2653e+00, 1.5277e+00, 4.1478e-01, 2.3718e+00,\n",
       "        9.2508e-01, 6.8808e-01, 5.4102e-01, 2.6691e-01, 9.5721e-01, 1.1273e+00,\n",
       "        1.1225e+00, 5.9688e-01, 3.2859e-01, 4.3876e+00, 1.2461e+00, 2.0410e+00,\n",
       "        1.2285e-01, 1.0157e+00, 1.2139e+00, 2.1711e+00, 1.0166e+00, 3.6994e-01,\n",
       "        6.6677e-01, 7.7575e-01, 5.7554e-01, 9.1585e-01, 2.6324e-01, 1.8273e-01,\n",
       "        4.1946e-01, 1.3043e+00, 3.0875e-01, 7.0528e-01, 1.9202e+00, 2.2491e-01,\n",
       "        2.3100e+00, 6.3286e-01, 3.0424e-01, 2.1733e-01, 3.6160e-01, 6.4134e-02,\n",
       "        8.7749e-01, 1.3682e+00, 8.7443e-02, 1.0437e+00, 2.5350e-03, 5.2828e-01,\n",
       "        7.9861e-01, 7.8737e-01, 8.5589e-01, 6.8813e-01, 7.1980e-01, 2.3285e+00,\n",
       "        2.3211e-01, 2.6541e+00, 5.8400e-01, 1.7158e+00, 7.3791e-01, 3.9697e-01,\n",
       "        7.0244e-01, 1.2293e+00, 4.9882e-01, 1.1239e+00, 1.9350e+00, 8.7470e-01,\n",
       "        2.8713e-01, 1.4773e+00, 2.3232e+00, 3.5911e-01, 8.6046e-01, 2.4015e-01,\n",
       "        1.7383e-02, 2.3290e+00, 4.3054e-01, 5.9906e-01, 1.4056e-01, 4.8136e+00,\n",
       "        8.6527e-01, 1.7450e+00, 2.7433e-01, 7.9066e-02, 9.3327e-01, 1.9677e+00,\n",
       "        3.2577e-02, 9.5169e-01, 5.1705e-01, 6.4012e-01, 5.2173e-01, 2.5285e-01,\n",
       "        5.5273e-01, 8.8236e-01, 3.1306e-01, 0.0000e+00, 1.6144e+00, 3.3689e-01,\n",
       "        7.6653e-01, 4.0192e-01, 6.7616e-01, 3.2001e-02, 2.1021e-01, 2.9882e+00,\n",
       "        6.6848e-01, 4.7189e-01, 1.0047e+00, 7.8403e-02, 1.1228e-01, 7.8580e-01,\n",
       "        3.3846e-01, 2.8764e+00, 5.2861e-02, 1.7285e+00, 4.5902e-01, 1.4326e+00,\n",
       "        1.1888e-01, 3.0592e-01, 3.1053e+00, 1.2477e-01, 2.7606e+00, 1.4813e+00,\n",
       "        2.7469e-01, 2.2708e-01, 5.9823e-01, 7.5395e-01, 3.0877e-02, 6.4384e-01,\n",
       "        7.9977e-01, 1.3686e+00, 2.5819e+00, 5.4982e-01, 1.2344e+00, 3.9766e-01,\n",
       "        5.4059e-01, 3.4938e-03, 4.0506e-01, 3.9834e-01, 3.0830e+00, 7.4929e-02,\n",
       "        7.6172e-01, 1.3614e+00, 1.1995e+00, 1.1657e+00, 1.0338e-01, 2.0260e-02,\n",
       "        1.5844e-01, 5.0244e-01, 3.1147e-01, 4.3949e-01, 1.3744e-01, 2.0459e-01,\n",
       "        1.0578e-01, 1.5121e+00, 8.0043e-01, 4.0843e+00, 1.3413e+00, 6.4077e-01,\n",
       "        9.2891e-01, 8.9988e-01, 3.5731e-01, 1.0629e+00, 4.9882e-01, 2.8234e+00,\n",
       "        1.5938e+00, 9.9663e-01, 8.8590e-01, 0.0000e+00, 1.6658e-01, 1.5255e+00,\n",
       "        1.5370e+00, 1.4311e-01, 6.7959e-01, 4.8970e-01, 1.0477e-01, 1.6770e+00,\n",
       "        1.3223e+00, 2.8898e-01, 5.7595e-01, 4.6904e-01, 1.0277e+00, 7.8714e-01,\n",
       "        1.4311e+00, 3.8747e-01, 4.3243e-01, 4.5868e-01, 1.2318e+00, 1.3748e-01,\n",
       "        3.1229e-01, 2.6990e-02, 1.0155e+00, 1.4641e+00, 1.9139e-01, 2.7481e-01,\n",
       "        3.2148e-01, 1.0985e+00, 6.8144e-02, 5.8288e-02, 2.3114e+00, 6.6723e-01,\n",
       "        7.4131e-02, 1.0207e-01, 1.3079e+00, 1.1664e-01, 2.4211e-01, 5.5466e-02,\n",
       "        2.0050e+00, 2.2654e+00, 6.4973e-01, 2.3027e-01, 1.4785e+00, 1.3587e+00,\n",
       "        1.0028e+00, 1.2708e+00, 5.2931e-01, 1.3360e-01, 5.2782e-01, 1.6089e+00,\n",
       "        3.2664e-01, 1.9654e-01, 2.9977e-01, 2.3970e-01, 2.4797e-01, 2.5094e-01,\n",
       "        5.9120e-01, 5.2311e-01, 6.1031e-01, 1.5726e+00, 2.8808e-01, 1.7435e+00,\n",
       "        1.0317e+00, 4.6387e-01, 2.9081e-01, 1.8434e+00, 1.1343e+00, 5.6940e-01,\n",
       "        7.4516e-02, 1.9692e-01, 5.3965e-01, 7.9796e-01, 1.4866e+00, 6.8832e-01,\n",
       "        1.3068e+00, 2.3887e-01, 2.0587e-01, 3.0018e+00, 1.3179e+00, 8.1371e-01,\n",
       "        7.1122e-01, 6.8969e-01, 4.7434e-01, 5.4055e-01, 1.8518e-02, 3.6572e-01,\n",
       "        1.8395e+00, 5.2198e-01, 2.5948e-01, 9.8313e-01, 4.3202e-01, 5.6275e-01,\n",
       "        1.4851e-01, 2.2254e-01, 3.2947e-01, 1.2066e-01, 4.5594e-01, 8.6891e-02,\n",
       "        1.3070e+00, 7.6446e-01, 4.1475e-01, 1.2683e-01, 5.1695e-01, 5.3638e+00,\n",
       "        9.7923e-01, 1.1120e+00, 9.2010e-01, 6.0496e-01, 2.3375e-01, 2.8529e-01,\n",
       "        2.0599e+00, 1.8868e-01, 5.7743e-01, 1.5140e+00, 1.1566e-02, 1.4247e-02,\n",
       "        6.5870e-01, 7.3592e-01, 1.3653e-01, 1.7873e+00, 1.0893e+00, 8.1312e-01,\n",
       "        5.3813e-01, 2.4455e+00, 1.2815e+00, 4.4845e-01, 1.2617e+00, 3.0300e-01,\n",
       "        8.3324e-01, 1.8979e+00, 1.1271e+00, 8.2701e-01, 1.4273e+00, 3.0823e-02,\n",
       "        7.4616e-02, 9.7777e-01, 2.5342e-02, 2.9901e+00, 1.8249e+00, 5.5404e-01,\n",
       "        5.5604e-01, 2.8607e-01, 1.5532e+00, 1.3627e+00, 4.4004e-01, 1.9062e-01,\n",
       "        2.7506e-01, 9.1821e-01, 1.1393e+00, 4.5592e-01, 8.0088e-02, 4.2671e+00,\n",
       "        4.5562e-01, 6.6573e-01, 3.3479e-01, 1.6018e-01, 2.0616e+00, 1.0787e+00,\n",
       "        1.2359e+00, 7.0099e-01, 4.3987e+00, 1.2915e+00, 9.1558e-01, 7.9177e-01,\n",
       "        1.1285e-01, 1.0800e+00, 1.4450e-01, 4.3995e-01, 4.7668e-01, 5.5384e-01,\n",
       "        1.5562e+00, 6.6149e-01, 9.1845e-01, 6.6017e-01, 2.2385e-01, 1.4554e+00,\n",
       "        8.9294e-01, 5.0199e-01, 6.8730e-01, 3.4715e+00, 1.0672e+00, 2.0954e-02,\n",
       "        7.1006e-01, 1.9653e-01, 2.2586e+00, 1.7519e+00, 7.8075e-01, 2.0830e+00,\n",
       "        1.7855e+00, 8.7283e-01, 3.3911e-01, 7.4359e-01, 6.3987e-04, 1.5091e+00,\n",
       "        7.4969e-01, 8.3303e-01, 2.1438e-01, 0.0000e+00, 3.1121e-01, 6.5357e-01,\n",
       "        1.8666e+00, 1.4380e+00, 2.2410e+00, 1.0402e+00, 3.6195e-02, 6.6213e-01,\n",
       "        1.5954e+00, 1.5891e+00, 1.1606e+00, 5.5537e-01, 7.4682e-01, 1.6598e+00,\n",
       "        3.0149e-01, 1.0166e+00])"
      ]
     },
     "execution_count": 25,
     "metadata": {},
     "output_type": "execute_result"
    }
   ],
   "source": [
    "a"
   ]
  },
  {
   "cell_type": "code",
   "execution_count": 26,
   "id": "bd5247e2-7402-4bdd-b77d-f5d75b2ce125",
   "metadata": {},
   "outputs": [
    {
     "data": {
      "text/plain": [
       "0"
      ]
     },
     "execution_count": 26,
     "metadata": {},
     "output_type": "execute_result"
    }
   ],
   "source": [
    "b"
   ]
  },
  {
   "cell_type": "code",
   "execution_count": 27,
   "id": "b46cb26c-214f-4d06-a8c4-905d0ec08154",
   "metadata": {},
   "outputs": [
    {
     "data": {
      "text/plain": [
       "array([4, 0, 2, ..., 1, 2, 2])"
      ]
     },
     "execution_count": 27,
     "metadata": {},
     "output_type": "execute_result"
    }
   ],
   "source": [
    "train_dataset.ocean_np_arr[\"labels\"]"
   ]
  },
  {
   "cell_type": "markdown",
   "id": "20401933-47b3-404e-ba4e-be65e40f6ae6",
   "metadata": {},
   "source": [
    "# Class Weights - From Training Data since the dataset is imbalanced"
   ]
  },
  {
   "cell_type": "markdown",
   "id": "2d5ad94e-b4fd-4454-8b6b-f8a607065cc8",
   "metadata": {},
   "source": [
    "## Not using Class Weights in nn.CrossEntropyLoss() since we have balanced data while Augmentation itself"
   ]
  },
  {
   "cell_type": "code",
   "execution_count": 28,
   "id": "31f40cfe-c181-440a-8f3e-d440782b30c3",
   "metadata": {},
   "outputs": [
    {
     "data": {
      "text/plain": [
       "array([4, 0, 2, ..., 1, 2, 2])"
      ]
     },
     "execution_count": 28,
     "metadata": {},
     "output_type": "execute_result"
    }
   ],
   "source": [
    "train_dataset.ocean_np_arr[\"labels\"]"
   ]
  },
  {
   "cell_type": "code",
   "execution_count": null,
   "id": "6e8ff4c7-62e4-4654-a53b-209323c92e3f",
   "metadata": {},
   "outputs": [],
   "source": []
  },
  {
   "cell_type": "code",
   "execution_count": null,
   "id": "75b28ad6-975a-4fc2-a19b-73bde1c09870",
   "metadata": {},
   "outputs": [],
   "source": []
  },
  {
   "cell_type": "markdown",
   "id": "2b246783-1d97-4989-ac02-f7e263919015",
   "metadata": {},
   "source": [
    "* Class weight Formula -\n",
    "  \n",
    "class_weight_of_that_class = $\\frac{\\text{Total samples}}{\\text{Total classes * samples of that class}}$"
   ]
  },
  {
   "cell_type": "code",
   "execution_count": 29,
   "id": "d3548690-c5de-462c-b869-e2ed6836beb5",
   "metadata": {},
   "outputs": [],
   "source": [
    "# NumPy array of class labels - labels_arr\n",
    "\n",
    "labels_arr = train_dataset.ocean_np_arr[\"labels\"].copy()\n",
    "\n",
    "class_weights = compute_class_weight('balanced',classes = np.unique(labels_arr), y = labels_arr)"
   ]
  },
  {
   "cell_type": "code",
   "execution_count": 30,
   "id": "3c848bee-deca-4c3d-ac8f-b6b0c58ae80e",
   "metadata": {},
   "outputs": [
    {
     "data": {
      "text/plain": [
       "array([0.95555556, 1.00333333, 1.075     , 0.97727273, 0.99668874])"
      ]
     },
     "execution_count": 30,
     "metadata": {},
     "output_type": "execute_result"
    }
   ],
   "source": [
    "class_weights"
   ]
  },
  {
   "cell_type": "code",
   "execution_count": 31,
   "id": "42486cca-117d-4dcb-9a8b-a2a118939821",
   "metadata": {},
   "outputs": [
    {
     "data": {
      "text/plain": [
       "(array([0, 1, 2, 3, 4]), array([315, 300, 280, 308, 302]))"
      ]
     },
     "execution_count": 31,
     "metadata": {},
     "output_type": "execute_result"
    }
   ],
   "source": [
    "# label_mapper = {'HGSC' : 0, 'EC' : 1, 'MC' : 2, 'CC' : 3, 'LGSC' : 4}\n",
    "# Train Label Distribution\n",
    "np.unique(labels_arr, return_counts = True)"
   ]
  },
  {
   "cell_type": "code",
   "execution_count": 32,
   "id": "4b19a847-2296-4df0-9897-8e5a295e6c6b",
   "metadata": {},
   "outputs": [
    {
     "data": {
      "text/plain": [
       "tensor([0.9556, 1.0033, 1.0750, 0.9773, 0.9967], dtype=torch.float64)"
      ]
     },
     "execution_count": 32,
     "metadata": {},
     "output_type": "execute_result"
    }
   ],
   "source": [
    "class_weights_tensor = torch.tensor(class_weights)\n",
    "class_weights_tensor"
   ]
  },
  {
   "cell_type": "markdown",
   "id": "2c34038c-0762-4061-85ee-cafd44eddddf",
   "metadata": {},
   "source": [
    "# Train - Evaluation, Training, Architecture"
   ]
  },
  {
   "cell_type": "code",
   "execution_count": 33,
   "id": "fd3de3db-b023-41f9-b2d9-cf9f8c245a37",
   "metadata": {},
   "outputs": [],
   "source": [
    "# Use `torch.no_grad()` here to disable gradient calculation. \n",
    "# It will reduce memory consumption as we don't need to compute gradients in inference.\n",
    "\n",
    "@torch.no_grad()\n",
    "def evaluate(model, testloader, criterion, device):\n",
    "    \n",
    "    model.eval()\n",
    "    \n",
    "    # Keep track of loss and other evaluation metrics\n",
    "    test_loss = 0.0\n",
    "\n",
    "    YPredict = []\n",
    "    YTrue = []\n",
    "    \n",
    "    # Loop through each batch on test set\n",
    "    for i, (images, labels) in enumerate(testloader, 1):\n",
    "        \n",
    "        images = images.to(device)\n",
    "        labels = labels.to(device)\n",
    "        \n",
    "        logits = model(images)\n",
    "\n",
    "        loss = criterion(logits, labels)\n",
    "        \n",
    "        test_loss += loss.detach().item()\n",
    "\n",
    "        predictions = torch.argmax(logits, dim = 1)\n",
    "        predictions = predictions.view(-1)\n",
    "        YTrue.extend(labels.tolist())\n",
    "        YPredict.extend(predictions.tolist())\n",
    "\n",
    "    # Compute Scores\n",
    "    accuracy = accuracy_score(YTrue, YPredict)\n",
    "    f1 = f1_score(YTrue, YPredict, average = \"macro\")\n",
    "    print(\"Classification report :\")\n",
    "    print(classification_report(YTrue, YPredict))\n",
    "\n",
    "    return (test_loss/i, accuracy, f1) ## avg loss and acc over all batches\n"
   ]
  },
  {
   "cell_type": "code",
   "execution_count": null,
   "id": "d9af0610-8e73-45cd-987c-9556427a514a",
   "metadata": {},
   "outputs": [],
   "source": [
    "\n"
   ]
  },
  {
   "cell_type": "code",
   "execution_count": 34,
   "id": "9857e5e7-7f67-45c6-90f9-9a6586b650c8",
   "metadata": {},
   "outputs": [],
   "source": [
    "def train_model(model, trainloader, testloader, CONFIG):\n",
    "    \n",
    "    optimizer = AdamW(model.parameters(), lr = CONFIG[\"learning_rate\"], weight_decay = CONFIG[\"weight_decay\"])\n",
    "\n",
    "    # criterion = nn.CrossEntropyLoss(weight = class_weights_tensor)\n",
    "\n",
    "    criterion = nn.CrossEntropyLoss()\n",
    "\n",
    "\n",
    "    ## Measure runtime\n",
    "    t_start = time()\n",
    "    \n",
    "    ## Store training log\n",
    "    history = defaultdict(list)\n",
    "    \n",
    "    # We will train the model `num_epochs` times\n",
    "    for i in range(1, CONFIG[\"epochs\"]+1):\n",
    "\n",
    "        # Training\n",
    "        train_loss, train_acc, train_f1 = train_one_epoch(model = model, trainloader = trainloader, optimizer = optimizer, criterion = criterion, device = CONFIG[\"device\"])\n",
    "\n",
    "        # Model Checkpointing\n",
    "        if i%10==0:\n",
    "            torch.save(model.state_dict(), f'{CONFIG[\"model_save_folder\"]}epoch{i}_batch_size{CONFIG[\"batch_size\"]}.pth')\n",
    "\n",
    "        # Evaluate on test set\n",
    "        test_loss, test_acc, test_f1 = evaluate(model = model, testloader = testloader, criterion = criterion, device = CONFIG[\"device\"])\n",
    "\n",
    "        ## Store train/test loss, accuracy, f1 scores\n",
    "        history[\"train_loss\"].append(train_loss)\n",
    "        history[\"train_acc\"].append(train_acc)\n",
    "        history[\"train_f1\"].append(train_f1)\n",
    "        \n",
    "        history[\"test_loss\"].append(test_loss)\n",
    "        history[\"test_acc\"].append(test_acc)\n",
    "        history[\"test_f1\"].append(test_f1)\n",
    "\n",
    "        \n",
    "        \n",
    "        ## print out train/test loss, accuracy\n",
    "        print(f'Epoch: {i} | Runtime: {((time()-t_start)/60):.2f}[m] | train_loss: {train_loss:.3f} | test_loss: {test_loss:.3f} | train_acc: {train_acc:.3f} |  test_acc: {test_acc:.3f} | train_f1: {train_f1:.3f} | test_f1: {test_f1:.3f}')    \n",
    "    return history"
   ]
  },
  {
   "cell_type": "code",
   "execution_count": 35,
   "id": "44a71bce-186f-4c0c-9b32-308f9819afc4",
   "metadata": {},
   "outputs": [],
   "source": [
    "def train_one_epoch(model, trainloader, device, optimizer, criterion):\n",
    "    \"\"\"\n",
    "      Train 1 epoch on trainloader.\"\n",
    "    \"\"\"\n",
    "\n",
    "    model = model.train()\n",
    "    \n",
    "    # Keep track of loss and other evaluation metrics\n",
    "    train_loss = 0.0\n",
    "\n",
    "    YPredict = []\n",
    "    YTrue = []\n",
    "\n",
    "    ## Loop over all the batches\n",
    "    for i, (images, labels) in tqdm(enumerate(trainloader, 1), total=len(trainloader), desc=f\"Training on whole batch...\"):\n",
    "            \n",
    "        # Move images and labels to `device` (CPU or GPU)\n",
    "        images = images.to(device)\n",
    "        labels = labels.to(device)\n",
    "\n",
    "        logits = model(images)\n",
    "\n",
    "        # print(logits)\n",
    "        # print(labels)\n",
    "        # print(logits.dtype, labels.dtype)\n",
    "        # print(type(labels[0]))\n",
    "        # print(type(labels))\n",
    "        loss = criterion(logits, labels)\n",
    "        # loss = criterion(logits, labels.to(torch.long))\n",
    "        optimizer.zero_grad()\n",
    "        loss.backward()\n",
    "        optimizer.step()\n",
    "\n",
    "        # Compute loss and accuracy for this batch\n",
    "        train_loss += loss.detach().item()\n",
    "\n",
    "        predictions = torch.argmax(logits, dim = 1)\n",
    "        predictions = predictions.view(-1)\n",
    "        YTrue.extend(labels.tolist())\n",
    "        YPredict.extend(predictions.tolist())\n",
    "\n",
    "\n",
    "    # Compute Scores\n",
    "    accuracy = accuracy_score(YTrue, YPredict)\n",
    "    f1 = f1_score(YTrue, YPredict, average = \"macro\")\n",
    "\n",
    "    return (train_loss/i, accuracy, f1) ## avg loss and acc over all batches\n"
   ]
  },
  {
   "cell_type": "code",
   "execution_count": 36,
   "id": "05d4166d-2d7d-4c79-a87c-9366953343ad",
   "metadata": {},
   "outputs": [],
   "source": [
    "class Baseline_Model(nn.Module):\n",
    "\n",
    "    def __init__(self):\n",
    "        super().__init__()\n",
    "        \n",
    "        # self.base_model_headless = base_layers\n",
    "        # self.base_model_headless.requires_grad = False\n",
    "        \n",
    "        self.fc1 = nn.Linear(CONFIG[\"feature_input_size\"], 32)\n",
    "        self.fc2 = nn.Linear(32, 5)\n",
    "        self.relu = nn.ReLU()\n",
    "        self.dropout = nn.Dropout(p = 0.1)\n",
    "\n",
    "\n",
    "    def forward(self, x):\n",
    "        # x = self.base_model_headless(x)\n",
    "        # # print(\"Output shape after Passing through Pretrained Model\")\n",
    "        # # print(x.shape)\n",
    "\n",
    "        # # Flatten\n",
    "        # x = x.view((x.shape[0], -1))\n",
    "\n",
    "        # FCNN\n",
    "        x = self.fc1(x)\n",
    "        x = self.relu(x)\n",
    "        x = self.dropout(x)\n",
    "        x = self.fc2(x)\n",
    "        # x = self.relu(x)\n",
    "        # x = self.dropout(x)\n",
    "        # x = self.fc3(x)\n",
    "        # print(x.shape)\n",
    "\n",
    "        return x      "
   ]
  },
  {
   "cell_type": "markdown",
   "id": "184b00e2-750e-40e8-9699-67daeaadde48",
   "metadata": {},
   "source": [
    "# Train the Model"
   ]
  },
  {
   "cell_type": "markdown",
   "id": "a8774b78-d7f9-4b3a-a710-db583ebdaa3c",
   "metadata": {},
   "source": [
    "## DataLoader"
   ]
  },
  {
   "cell_type": "markdown",
   "id": "297e5438-91dd-4722-9a89-3ff7c49a883e",
   "metadata": {},
   "source": [
    "* The EOFError you encountered in your DataLoader worker process could be related to using multiple workers (num_workers = 2)\n",
    "\n",
    "\n",
    "1) Concurrency Issues:\n",
    "\n",
    "    * When using multiple worker processes (num_workers > 0), there is potential for concurrency issues, especially when reading data from a file or other data sources. If your dataset is not designed to handle concurrent access properly, it can result in unexpected errors like EOFError.\n",
    "  \n",
    "2) Use torch.utils.data.SequentialSampler:\n",
    "    * Instead of relying on the default random sampler, you can use SequentialSampler to ensure that the data is loaded in a sequential order, which might help in scenarios where the order of loading matters.\n",
    "\n"
   ]
  },
  {
   "cell_type": "code",
   "execution_count": 52,
   "id": "98abd35d-befe-40e6-ab4e-c678d48864ac",
   "metadata": {},
   "outputs": [],
   "source": [
    "trainloader = DataLoader(train_dataset, batch_size = CONFIG['train_batch_size'], shuffle = True, drop_last = True)\n",
    "\n",
    "testloader = DataLoader(test_dataset, batch_size = CONFIG['batch_size'], shuffle = False, drop_last = True)"
   ]
  },
  {
   "cell_type": "code",
   "execution_count": 53,
   "id": "1a15c053-9780-47d1-882f-15fbbb06ac7c",
   "metadata": {},
   "outputs": [],
   "source": [
    "# Initialize Model\n",
    "model = Baseline_Model().to(CONFIG[\"device\"])"
   ]
  },
  {
   "cell_type": "code",
   "execution_count": 54,
   "id": "6f956533-8f0b-4dc3-bbc6-03ac4975d84d",
   "metadata": {
    "scrolled": true
   },
   "outputs": [
    {
     "name": "stdout",
     "output_type": "stream",
     "text": [
      "----------------------------------------------------------------\n",
      "        Layer (type)               Output Shape         Param #\n",
      "================================================================\n",
      "            Linear-1                   [-1, 32]          16,416\n",
      "              ReLU-2                   [-1, 32]               0\n",
      "           Dropout-3                   [-1, 32]               0\n",
      "            Linear-4                    [-1, 5]             165\n",
      "================================================================\n",
      "Total params: 16,581\n",
      "Trainable params: 16,581\n",
      "Non-trainable params: 0\n",
      "----------------------------------------------------------------\n",
      "Input size (MB): 0.00\n",
      "Forward/backward pass size (MB): 0.00\n",
      "Params size (MB): 0.06\n",
      "Estimated Total Size (MB): 0.07\n",
      "----------------------------------------------------------------\n"
     ]
    }
   ],
   "source": [
    "summary(model, input_size = (CONFIG[\"feature_input_size\"],))"
   ]
  },
  {
   "cell_type": "code",
   "execution_count": 55,
   "id": "3b3268f2-b071-4f84-a307-a41e365ce456",
   "metadata": {},
   "outputs": [],
   "source": [
    "# ## compute accuracy score in a batch\n",
    "# def compute_accuracy(logits, labels, batch_size):\n",
    "#     ''' \n",
    "#       Obtain accuracy for a training batch \n",
    "#       logits: float Tensor, shape (batch_size, num_classes),  output from the model\n",
    "#       labels: Long Tensor, shape (batch_size, ), contains labels for the predictions\n",
    "#       batch_size: int, batch size\n",
    "\n",
    "#       Return accuracy for this batch, which should be a float number\n",
    "#     '''\n",
    "    \n",
    "#     # Write your code in this block ----------------\n",
    "    \n",
    "#     predictions = torch.argmax(logits, dim = 1)\n",
    "#     predictions = predictions.view(-1)\n",
    "    \n",
    "#     total_correct = (labels == predictions).sum().item()\n",
    "#     accuracy = total_correct/batch_size\n",
    "    \n",
    "#     return accuracy"
   ]
  },
  {
   "cell_type": "code",
   "execution_count": null,
   "id": "cb41d874-840c-46ba-a732-b538cff27f27",
   "metadata": {},
   "outputs": [],
   "source": []
  },
  {
   "cell_type": "code",
   "execution_count": null,
   "id": "84b0e68d-1d4a-4885-92ee-29a9abf92b05",
   "metadata": {
    "scrolled": true
   },
   "outputs": [
    {
     "name": "stderr",
     "output_type": "stream",
     "text": [
      "Training on whole batch...: 100%|██████████| 188/188 [00:06<00:00, 30.92it/s]\n",
      "/projectnb/cs640grp/students/avarshn/.conda/envs/ocean/lib/python3.9/site-packages/sklearn/metrics/_classification.py:1471: UndefinedMetricWarning: Precision and F-score are ill-defined and being set to 0.0 in labels with no predicted samples. Use `zero_division` parameter to control this behavior.\n",
      "  _warn_prf(average, modifier, msg_start, len(result))\n",
      "/projectnb/cs640grp/students/avarshn/.conda/envs/ocean/lib/python3.9/site-packages/sklearn/metrics/_classification.py:1471: UndefinedMetricWarning: Precision and F-score are ill-defined and being set to 0.0 in labels with no predicted samples. Use `zero_division` parameter to control this behavior.\n",
      "  _warn_prf(average, modifier, msg_start, len(result))\n",
      "/projectnb/cs640grp/students/avarshn/.conda/envs/ocean/lib/python3.9/site-packages/sklearn/metrics/_classification.py:1471: UndefinedMetricWarning: Precision and F-score are ill-defined and being set to 0.0 in labels with no predicted samples. Use `zero_division` parameter to control this behavior.\n",
      "  _warn_prf(average, modifier, msg_start, len(result))\n"
     ]
    },
    {
     "name": "stdout",
     "output_type": "stream",
     "text": [
      "Classification report :\n",
      "              precision    recall  f1-score   support\n",
      "\n",
      "           0       0.00      0.00      0.00        53\n",
      "           1       0.18      0.43      0.26        30\n",
      "           2       0.06      0.18      0.10        11\n",
      "           3       0.12      0.12      0.12        24\n",
      "           4       0.00      0.00      0.00        10\n",
      "\n",
      "    accuracy                           0.14       128\n",
      "   macro avg       0.07      0.15      0.10       128\n",
      "weighted avg       0.07      0.14      0.09       128\n",
      "\n",
      "Epoch: 1 | Runtime: 0.10[m] | train_loss: 1.647 | test_loss: 1.623 | train_acc: 0.193 |  test_acc: 0.141 | train_f1: 0.149 | test_f1: 0.095\n"
     ]
    },
    {
     "name": "stderr",
     "output_type": "stream",
     "text": [
      "Training on whole batch...: 100%|██████████| 188/188 [00:06<00:00, 31.00it/s]\n",
      "/projectnb/cs640grp/students/avarshn/.conda/envs/ocean/lib/python3.9/site-packages/sklearn/metrics/_classification.py:1471: UndefinedMetricWarning: Precision and F-score are ill-defined and being set to 0.0 in labels with no predicted samples. Use `zero_division` parameter to control this behavior.\n",
      "  _warn_prf(average, modifier, msg_start, len(result))\n",
      "/projectnb/cs640grp/students/avarshn/.conda/envs/ocean/lib/python3.9/site-packages/sklearn/metrics/_classification.py:1471: UndefinedMetricWarning: Precision and F-score are ill-defined and being set to 0.0 in labels with no predicted samples. Use `zero_division` parameter to control this behavior.\n",
      "  _warn_prf(average, modifier, msg_start, len(result))\n",
      "/projectnb/cs640grp/students/avarshn/.conda/envs/ocean/lib/python3.9/site-packages/sklearn/metrics/_classification.py:1471: UndefinedMetricWarning: Precision and F-score are ill-defined and being set to 0.0 in labels with no predicted samples. Use `zero_division` parameter to control this behavior.\n",
      "  _warn_prf(average, modifier, msg_start, len(result))\n"
     ]
    },
    {
     "name": "stdout",
     "output_type": "stream",
     "text": [
      "Classification report :\n",
      "              precision    recall  f1-score   support\n",
      "\n",
      "           0       0.50      0.06      0.10        53\n",
      "           1       0.20      0.50      0.29        30\n",
      "           2       0.05      0.09      0.06        11\n",
      "           3       0.11      0.12      0.12        24\n",
      "           4       0.00      0.00      0.00        10\n",
      "\n",
      "    accuracy                           0.17       128\n",
      "   macro avg       0.17      0.15      0.11       128\n",
      "weighted avg       0.28      0.17      0.14       128\n",
      "\n",
      "Epoch: 2 | Runtime: 0.21[m] | train_loss: 1.627 | test_loss: 1.612 | train_acc: 0.214 |  test_acc: 0.172 | train_f1: 0.189 | test_f1: 0.114\n"
     ]
    },
    {
     "name": "stderr",
     "output_type": "stream",
     "text": [
      "Training on whole batch...: 100%|██████████| 188/188 [00:06<00:00, 30.74it/s]\n"
     ]
    },
    {
     "name": "stdout",
     "output_type": "stream",
     "text": [
      "Classification report :\n",
      "              precision    recall  f1-score   support\n",
      "\n",
      "           0       0.54      0.13      0.21        53\n",
      "           1       0.18      0.40      0.25        30\n",
      "           2       0.05      0.09      0.06        11\n",
      "           3       0.10      0.12      0.11        24\n",
      "           4       0.00      0.00      0.00        10\n",
      "\n",
      "    accuracy                           0.18       128\n",
      "   macro avg       0.18      0.15      0.13       128\n",
      "weighted avg       0.29      0.18      0.17       128\n",
      "\n",
      "Epoch: 3 | Runtime: 0.31[m] | train_loss: 1.611 | test_loss: 1.602 | train_acc: 0.219 |  test_acc: 0.180 | train_f1: 0.200 | test_f1: 0.128\n"
     ]
    },
    {
     "name": "stderr",
     "output_type": "stream",
     "text": [
      "Training on whole batch...: 100%|██████████| 188/188 [00:06<00:00, 28.21it/s]\n"
     ]
    },
    {
     "name": "stdout",
     "output_type": "stream",
     "text": [
      "Classification report :\n",
      "              precision    recall  f1-score   support\n",
      "\n",
      "           0       0.52      0.21      0.30        53\n",
      "           1       0.18      0.33      0.24        30\n",
      "           2       0.07      0.09      0.08        11\n",
      "           3       0.11      0.17      0.13        24\n",
      "           4       0.00      0.00      0.00        10\n",
      "\n",
      "    accuracy                           0.20       128\n",
      "   macro avg       0.18      0.16      0.15       128\n",
      "weighted avg       0.29      0.20      0.21       128\n",
      "\n",
      "Epoch: 4 | Runtime: 0.42[m] | train_loss: 1.603 | test_loss: 1.598 | train_acc: 0.234 |  test_acc: 0.203 | train_f1: 0.225 | test_f1: 0.149\n"
     ]
    },
    {
     "name": "stderr",
     "output_type": "stream",
     "text": [
      "Training on whole batch...: 100%|██████████| 188/188 [00:06<00:00, 30.50it/s]\n"
     ]
    },
    {
     "name": "stdout",
     "output_type": "stream",
     "text": [
      "Classification report :\n",
      "              precision    recall  f1-score   support\n",
      "\n",
      "           0       0.46      0.25      0.32        53\n",
      "           1       0.19      0.30      0.23        30\n",
      "           2       0.08      0.09      0.08        11\n",
      "           3       0.14      0.21      0.17        24\n",
      "           4       0.00      0.00      0.00        10\n",
      "\n",
      "    accuracy                           0.22       128\n",
      "   macro avg       0.17      0.17      0.16       128\n",
      "weighted avg       0.27      0.22      0.23       128\n",
      "\n",
      "Epoch: 5 | Runtime: 0.53[m] | train_loss: 1.596 | test_loss: 1.593 | train_acc: 0.243 |  test_acc: 0.219 | train_f1: 0.236 | test_f1: 0.160\n"
     ]
    },
    {
     "name": "stderr",
     "output_type": "stream",
     "text": [
      "Training on whole batch...: 100%|██████████| 188/188 [00:06<00:00, 30.96it/s]\n"
     ]
    },
    {
     "name": "stdout",
     "output_type": "stream",
     "text": [
      "Classification report :\n",
      "              precision    recall  f1-score   support\n",
      "\n",
      "           0       0.45      0.25      0.32        53\n",
      "           1       0.18      0.27      0.21        30\n",
      "           2       0.07      0.09      0.08        11\n",
      "           3       0.14      0.21      0.17        24\n",
      "           4       0.00      0.00      0.00        10\n",
      "\n",
      "    accuracy                           0.21       128\n",
      "   macro avg       0.17      0.16      0.15       128\n",
      "weighted avg       0.26      0.21      0.22       128\n",
      "\n",
      "Epoch: 6 | Runtime: 0.63[m] | train_loss: 1.589 | test_loss: 1.591 | train_acc: 0.258 |  test_acc: 0.211 | train_f1: 0.255 | test_f1: 0.155\n"
     ]
    },
    {
     "name": "stderr",
     "output_type": "stream",
     "text": [
      "Training on whole batch...: 100%|██████████| 188/188 [00:05<00:00, 32.58it/s]\n"
     ]
    },
    {
     "name": "stdout",
     "output_type": "stream",
     "text": [
      "Classification report :\n",
      "              precision    recall  f1-score   support\n",
      "\n",
      "           0       0.44      0.26      0.33        53\n",
      "           1       0.16      0.23      0.19        30\n",
      "           2       0.07      0.09      0.08        11\n",
      "           3       0.14      0.21      0.17        24\n",
      "           4       0.00      0.00      0.00        10\n",
      "\n",
      "    accuracy                           0.21       128\n",
      "   macro avg       0.16      0.16      0.15       128\n",
      "weighted avg       0.25      0.21      0.22       128\n",
      "\n",
      "Epoch: 7 | Runtime: 0.73[m] | train_loss: 1.579 | test_loss: 1.587 | train_acc: 0.275 |  test_acc: 0.211 | train_f1: 0.272 | test_f1: 0.154\n"
     ]
    },
    {
     "name": "stderr",
     "output_type": "stream",
     "text": [
      "Training on whole batch...: 100%|██████████| 188/188 [00:05<00:00, 37.37it/s]\n"
     ]
    },
    {
     "name": "stdout",
     "output_type": "stream",
     "text": [
      "Classification report :\n",
      "              precision    recall  f1-score   support\n",
      "\n",
      "           0       0.47      0.32      0.38        53\n",
      "           1       0.17      0.23      0.20        30\n",
      "           2       0.07      0.09      0.08        11\n",
      "           3       0.16      0.21      0.18        24\n",
      "           4       0.00      0.00      0.00        10\n",
      "\n",
      "    accuracy                           0.23       128\n",
      "   macro avg       0.17      0.17      0.17       128\n",
      "weighted avg       0.27      0.23      0.25       128\n",
      "\n",
      "Epoch: 8 | Runtime: 0.82[m] | train_loss: 1.574 | test_loss: 1.582 | train_acc: 0.289 |  test_acc: 0.234 | train_f1: 0.288 | test_f1: 0.168\n"
     ]
    },
    {
     "name": "stderr",
     "output_type": "stream",
     "text": [
      "Training on whole batch...: 100%|██████████| 188/188 [00:04<00:00, 37.81it/s]\n"
     ]
    },
    {
     "name": "stdout",
     "output_type": "stream",
     "text": [
      "Classification report :\n",
      "              precision    recall  f1-score   support\n",
      "\n",
      "           0       0.49      0.32      0.39        53\n",
      "           1       0.17      0.23      0.20        30\n",
      "           2       0.08      0.09      0.08        11\n",
      "           3       0.17      0.25      0.20        24\n",
      "           4       0.00      0.00      0.00        10\n",
      "\n",
      "    accuracy                           0.24       128\n",
      "   macro avg       0.18      0.18      0.17       128\n",
      "weighted avg       0.28      0.24      0.25       128\n",
      "\n",
      "Epoch: 9 | Runtime: 0.90[m] | train_loss: 1.570 | test_loss: 1.582 | train_acc: 0.309 |  test_acc: 0.242 | train_f1: 0.311 | test_f1: 0.175\n"
     ]
    },
    {
     "name": "stderr",
     "output_type": "stream",
     "text": [
      "Training on whole batch...: 100%|██████████| 188/188 [00:04<00:00, 37.87it/s]\n"
     ]
    },
    {
     "name": "stdout",
     "output_type": "stream",
     "text": [
      "Classification report :\n",
      "              precision    recall  f1-score   support\n",
      "\n",
      "           0       0.45      0.34      0.39        53\n",
      "           1       0.18      0.23      0.20        30\n",
      "           2       0.07      0.09      0.08        11\n",
      "           3       0.16      0.21      0.18        24\n",
      "           4       0.00      0.00      0.00        10\n",
      "\n",
      "    accuracy                           0.24       128\n",
      "   macro avg       0.17      0.17      0.17       128\n",
      "weighted avg       0.26      0.24      0.25       128\n",
      "\n",
      "Epoch: 10 | Runtime: 0.99[m] | train_loss: 1.563 | test_loss: 1.576 | train_acc: 0.303 |  test_acc: 0.242 | train_f1: 0.305 | test_f1: 0.170\n"
     ]
    },
    {
     "name": "stderr",
     "output_type": "stream",
     "text": [
      "Training on whole batch...: 100%|██████████| 188/188 [00:04<00:00, 37.73it/s]\n"
     ]
    },
    {
     "name": "stdout",
     "output_type": "stream",
     "text": [
      "Classification report :\n",
      "              precision    recall  f1-score   support\n",
      "\n",
      "           0       0.45      0.34      0.39        53\n",
      "           1       0.18      0.23      0.20        30\n",
      "           2       0.08      0.09      0.08        11\n",
      "           3       0.16      0.21      0.18        24\n",
      "           4       0.00      0.00      0.00        10\n",
      "\n",
      "    accuracy                           0.24       128\n",
      "   macro avg       0.17      0.17      0.17       128\n",
      "weighted avg       0.26      0.24      0.25       128\n",
      "\n",
      "Epoch: 11 | Runtime: 1.07[m] | train_loss: 1.557 | test_loss: 1.574 | train_acc: 0.333 |  test_acc: 0.242 | train_f1: 0.334 | test_f1: 0.170\n"
     ]
    },
    {
     "name": "stderr",
     "output_type": "stream",
     "text": [
      "Training on whole batch...: 100%|██████████| 188/188 [00:04<00:00, 37.83it/s]\n"
     ]
    },
    {
     "name": "stdout",
     "output_type": "stream",
     "text": [
      "Classification report :\n",
      "              precision    recall  f1-score   support\n",
      "\n",
      "           0       0.41      0.28      0.33        53\n",
      "           1       0.17      0.23      0.20        30\n",
      "           2       0.07      0.09      0.08        11\n",
      "           3       0.15      0.21      0.18        24\n",
      "           4       0.00      0.00      0.00        10\n",
      "\n",
      "    accuracy                           0.22       128\n",
      "   macro avg       0.16      0.16      0.16       128\n",
      "weighted avg       0.24      0.22      0.22       128\n",
      "\n",
      "Epoch: 12 | Runtime: 1.16[m] | train_loss: 1.555 | test_loss: 1.572 | train_acc: 0.337 |  test_acc: 0.219 | train_f1: 0.338 | test_f1: 0.157\n"
     ]
    },
    {
     "name": "stderr",
     "output_type": "stream",
     "text": [
      "Training on whole batch...: 100%|██████████| 188/188 [00:05<00:00, 37.46it/s]\n"
     ]
    },
    {
     "name": "stdout",
     "output_type": "stream",
     "text": [
      "Classification report :\n",
      "              precision    recall  f1-score   support\n",
      "\n",
      "           0       0.41      0.28      0.33        53\n",
      "           1       0.17      0.23      0.20        30\n",
      "           2       0.05      0.09      0.06        11\n",
      "           3       0.17      0.21      0.19        24\n",
      "           4       0.00      0.00      0.00        10\n",
      "\n",
      "    accuracy                           0.22       128\n",
      "   macro avg       0.16      0.16      0.16       128\n",
      "weighted avg       0.25      0.22      0.23       128\n",
      "\n",
      "Epoch: 13 | Runtime: 1.24[m] | train_loss: 1.548 | test_loss: 1.569 | train_acc: 0.349 |  test_acc: 0.219 | train_f1: 0.352 | test_f1: 0.157\n"
     ]
    },
    {
     "name": "stderr",
     "output_type": "stream",
     "text": [
      "Training on whole batch...: 100%|██████████| 188/188 [00:04<00:00, 42.10it/s]\n"
     ]
    },
    {
     "name": "stdout",
     "output_type": "stream",
     "text": [
      "Classification report :\n",
      "              precision    recall  f1-score   support\n",
      "\n",
      "           0       0.45      0.32      0.37        53\n",
      "           1       0.15      0.17      0.16        30\n",
      "           2       0.07      0.18      0.11        11\n",
      "           3       0.15      0.17      0.16        24\n",
      "           4       0.00      0.00      0.00        10\n",
      "\n",
      "    accuracy                           0.22       128\n",
      "   macro avg       0.16      0.17      0.16       128\n",
      "weighted avg       0.25      0.22      0.23       128\n",
      "\n",
      "Epoch: 14 | Runtime: 1.32[m] | train_loss: 1.545 | test_loss: 1.565 | train_acc: 0.344 |  test_acc: 0.219 | train_f1: 0.347 | test_f1: 0.158\n"
     ]
    },
    {
     "name": "stderr",
     "output_type": "stream",
     "text": [
      "Training on whole batch...: 100%|██████████| 188/188 [00:04<00:00, 42.34it/s]\n"
     ]
    },
    {
     "name": "stdout",
     "output_type": "stream",
     "text": [
      "Classification report :\n",
      "              precision    recall  f1-score   support\n",
      "\n",
      "           0       0.42      0.30      0.35        53\n",
      "           1       0.15      0.17      0.16        30\n",
      "           2       0.08      0.18      0.11        11\n",
      "           3       0.17      0.21      0.19        24\n",
      "           4       0.00      0.00      0.00        10\n",
      "\n",
      "    accuracy                           0.22       128\n",
      "   macro avg       0.16      0.17      0.16       128\n",
      "weighted avg       0.25      0.22      0.23       128\n",
      "\n",
      "Epoch: 15 | Runtime: 1.39[m] | train_loss: 1.541 | test_loss: 1.562 | train_acc: 0.338 |  test_acc: 0.219 | train_f1: 0.340 | test_f1: 0.161\n"
     ]
    },
    {
     "name": "stderr",
     "output_type": "stream",
     "text": [
      "Training on whole batch...:  21%|██▏       | 40/188 [00:00<00:03, 42.26it/s]"
     ]
    }
   ],
   "source": [
    "# Train Model\n",
    "\n",
    "history_model = train_model(model, trainloader, testloader, CONFIG)"
   ]
  },
  {
   "cell_type": "code",
   "execution_count": null,
   "id": "ad0b4e03-74a6-4f50-ab92-66ae5087fb36",
   "metadata": {},
   "outputs": [],
   "source": []
  },
  {
   "cell_type": "markdown",
   "id": "fe441e3b-ca49-4169-9237-25c32dd4891b",
   "metadata": {},
   "source": [
    "# Plots"
   ]
  },
  {
   "cell_type": "code",
   "execution_count": 45,
   "id": "4d6bb5c3-1575-43e9-94b0-35e272d47f45",
   "metadata": {},
   "outputs": [
    {
     "data": {
      "text/plain": [
       "<matplotlib.legend.Legend at 0x15169225aee0>"
      ]
     },
     "execution_count": 45,
     "metadata": {},
     "output_type": "execute_result"
    },
    {
     "data": {
      "image/png": "[encoded data removed]",
      "text/plain": [
       "<Figure size 640x480 with 1 Axes>"
      ]
     },
     "metadata": {},
     "output_type": "display_data"
    }
   ],
   "source": [
    "## Plot train_loss, test_loss\n",
    "num_epochs = CONFIG['epochs']\n",
    "plt.plot(np.arange(num_epochs), history_model[\"train_loss\"], label='train loss')\n",
    "plt.plot(np.arange(num_epochs), history_model[\"test_loss\"], label='test loss')\n",
    "plt.xlabel('#epochs')\n",
    "plt.ylabel('loss')\n",
    "plt.legend()"
   ]
  },
  {
   "cell_type": "code",
   "execution_count": 46,
   "id": "7060a727-2c6c-4528-ba8b-ca08f4c4123e",
   "metadata": {},
   "outputs": [
    {
     "data": {
      "text/plain": [
       "<matplotlib.legend.Legend at 0x151692e387c0>"
      ]
     },
     "execution_count": 46,
     "metadata": {},
     "output_type": "execute_result"
    },
    {
     "data": {
      "image/png": "[encoded data removed]",
      "text/plain": [
       "<Figure size 640x480 with 1 Axes>"
      ]
     },
     "metadata": {},
     "output_type": "display_data"
    }
   ],
   "source": [
    "## Plot accuracy\n",
    "\n",
    "plt.plot(np.arange(num_epochs), history_model[\"train_acc\"], label='train acc')\n",
    "plt.plot(np.arange(num_epochs), history_model[\"test_acc\"], label='test acc')\n",
    "plt.xlabel('#epochs')\n",
    "plt.ylabel('accuracy')\n",
    "plt.legend()"
   ]
  },
  {
   "cell_type": "code",
   "execution_count": 47,
   "id": "82512b88-1775-4423-832e-7f1d865de437",
   "metadata": {},
   "outputs": [
    {
     "data": {
      "text/plain": [
       "<matplotlib.legend.Legend at 0x151692fffdf0>"
      ]
     },
     "execution_count": 47,
     "metadata": {},
     "output_type": "execute_result"
    },
    {
     "data": {
      "image/png": "[encoded data removed]",
      "text/plain": [
       "<Figure size 640x480 with 1 Axes>"
      ]
     },
     "metadata": {},
     "output_type": "display_data"
    }
   ],
   "source": [
    "## Plot accuracy\n",
    "\n",
    "plt.plot(np.arange(num_epochs), history_model[\"train_f1\"], label='train f1')\n",
    "plt.plot(np.arange(num_epochs), history_model[\"test_f1\"], label='test f1')\n",
    "plt.xlabel('#epochs')\n",
    "plt.ylabel('f1')\n",
    "plt.legend()"
   ]
  },
  {
   "cell_type": "code",
   "execution_count": 48,
   "id": "b3f44965-b6e6-4932-a517-08239c27afb5",
   "metadata": {
    "scrolled": true
   },
   "outputs": [
    {
     "data": {
      "text/plain": [
       "Baseline_Model(\n",
       "  (fc1): Linear(in_features=512, out_features=32, bias=True)\n",
       "  (fc2): Linear(in_features=32, out_features=5, bias=True)\n",
       "  (relu): ReLU()\n",
       "  (dropout): Dropout(p=0.1, inplace=False)\n",
       ")"
      ]
     },
     "execution_count": 48,
     "metadata": {},
     "output_type": "execute_result"
    }
   ],
   "source": [
    "model"
   ]
  },
  {
   "cell_type": "code",
   "execution_count": null,
   "id": "5e5ddf34-6152-4ffd-9fdf-e0ff7d64c1c6",
   "metadata": {},
   "outputs": [],
   "source": []
  },
  {
   "cell_type": "code",
   "execution_count": 164,
   "id": "71b5f7d9-95af-4002-9b4e-f0a520d09dcd",
   "metadata": {},
   "outputs": [],
   "source": [
    "# torch.save(model.state_dict(), f'models/Baseline_model/state_dict_epoch{i}_batch_size{CONFIG[\"batch_size\"]}.pth')"
   ]
  },
  {
   "cell_type": "code",
   "execution_count": null,
   "id": "d66a740e-4beb-46e0-8208-cf3d4da05782",
   "metadata": {},
   "outputs": [],
   "source": []
  }
 ],
 "metadata": {
  "kernelspec": {
   "display_name": "Python 3 (ipykernel)",
   "language": "python",
   "name": "python3"
  },
  "language_info": {
   "codemirror_mode": {
    "name": "ipython",
    "version": 3
   },
   "file_extension": ".py",
   "mimetype": "text/x-python",
   "name": "python",
   "nbconvert_exporter": "python",
   "pygments_lexer": "ipython3",
   "version": "3.9.0"
  }
 },
 "nbformat": 4,
 "nbformat_minor": 5
}
