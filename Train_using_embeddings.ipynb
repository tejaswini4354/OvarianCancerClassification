{
 "cells": [
  {
   "cell_type": "code",
   "execution_count": 1,
   "id": "aaee65d4-fdcd-492e-8a12-24a9f6e6e9af",
   "metadata": {},
   "outputs": [],
   "source": [
    "# Goal : To classify the type of ovarian cancer from microscopy scans of biopsy samples.\n",
    "\n",
    "# Search SoTA model on Kaggle Approach, Papers with code - Medical Data, Graph Transformer, GNN, Global and Local Analysis\n",
    "\n",
    "# You should manage, including differences in image dimensions, quality, slide staining techniques, and more\n",
    "\n",
    "# There are 2 types of images - TMA and WSI (25 images are TMA and 513(rest) are WSI)\n"
   ]
  },
  {
   "cell_type": "code",
   "execution_count": 2,
   "id": "9d1971b2-09c3-4a8d-b158-355c9772dfa9",
   "metadata": {},
   "outputs": [
    {
     "data": {
      "text/plain": [
       "'/projectnb/cs640grp/students/avarshn/.conda/envs/ocean'"
      ]
     },
     "execution_count": 2,
     "metadata": {},
     "output_type": "execute_result"
    }
   ],
   "source": [
    "import sys\n",
    "sys.prefix"
   ]
  },
  {
   "cell_type": "markdown",
   "id": "48222a33-507b-4f98-8df3-8538ed479f1c",
   "metadata": {},
   "source": [
    "# Check if GPU is available"
   ]
  },
  {
   "cell_type": "code",
   "execution_count": 3,
   "id": "143df7b3-2bc3-4651-b9a8-ed3f5a8108be",
   "metadata": {},
   "outputs": [],
   "source": [
    "import torch"
   ]
  },
  {
   "cell_type": "code",
   "execution_count": 4,
   "id": "c193c329-3591-4572-9640-35b274bf754e",
   "metadata": {},
   "outputs": [
    {
     "data": {
      "text/plain": [
       "False"
      ]
     },
     "execution_count": 4,
     "metadata": {},
     "output_type": "execute_result"
    }
   ],
   "source": [
    "torch.cuda.is_available()"
   ]
  },
  {
   "cell_type": "code",
   "execution_count": 5,
   "id": "3c04ae72-d26a-4c3c-8415-ba36cb557c94",
   "metadata": {},
   "outputs": [
    {
     "name": "stdout",
     "output_type": "stream",
     "text": [
      "/bin/bash: nvidia: command not found\n"
     ]
    }
   ],
   "source": [
    "!nvidia smi\n"
   ]
  },
  {
   "cell_type": "code",
   "execution_count": 6,
   "id": "150de13e-2b4e-499e-9092-e541baa686b8",
   "metadata": {},
   "outputs": [],
   "source": [
    "!lspci | grep -i nvidia"
   ]
  },
  {
   "cell_type": "markdown",
   "id": "75827adc-9618-4d47-8fdc-44dbdc43cbe8",
   "metadata": {},
   "source": [
    "# Import Libraries"
   ]
  },
  {
   "cell_type": "code",
   "execution_count": 7,
   "id": "b7db4971-169f-47a7-9938-cc2d20e23b09",
   "metadata": {},
   "outputs": [],
   "source": [
    "import os\n",
    "from time import time\n",
    "from collections import defaultdict\n",
    "from tqdm import tqdm\n",
    "\n",
    "import numpy as np\n",
    "import pandas as pd\n",
    "import matplotlib.pyplot as plt\n",
    "\n",
    "from sklearn.utils.class_weight import compute_class_weight\n",
    "from sklearn.model_selection import train_test_split\n",
    "from sklearn.metrics import accuracy_score, f1_score, confusion_matrix\n",
    "\n",
    "from PIL import Image\n",
    "import cv2\n",
    "\n",
    "import torch.nn as nn\n",
    "from torch.utils.data import Dataset, DataLoader\n",
    "from torch.optim import AdamW\n",
    "\n",
    "from torchsummary import summary\n",
    "\n",
    "import torchvision\n",
    "from torchvision import transforms, utils\n",
    "from torchvision.models import efficientnet_b0, EfficientNet_B0_Weights"
   ]
  },
  {
   "cell_type": "markdown",
   "id": "a5c70d5b-6ba8-4faf-a3ff-5e37b6a0c467",
   "metadata": {},
   "source": [
    "# Configurations"
   ]
  },
  {
   "cell_type": "code",
   "execution_count": 178,
   "id": "4dcff8b2-936b-458c-a5f1-b7b711030b2b",
   "metadata": {},
   "outputs": [],
   "source": [
    "CONFIG = {\n",
    "    \"seed\": 42,\n",
    "    # \"img_size\": 512,\n",
    "    # \"model_name\": \"tf_efficientnetv2_s_in21ft1k\",\n",
    "    \"num_classes\": 5,\n",
    "    \"device\": torch.device(\"cuda:0\" if torch.cuda.is_available() else \"cpu\"),\n",
    "    # \"valid_batch_size\": 32,\n",
    "    \"batch_size\" : 8,\n",
    "    \"epochs\" : 50,\n",
    "    \"learning_rate\" : 1e-5,\n",
    "    \"weight_decay\" : 1e-3\n",
    "}"
   ]
  },
  {
   "cell_type": "code",
   "execution_count": 9,
   "id": "59ef42e6-00e5-40ff-a2b9-9e44b718dcee",
   "metadata": {},
   "outputs": [],
   "source": [
    "def set_seed(seed=42):\n",
    "    '''Sets the seed of the entire notebook so results are the same every time we run.\n",
    "    This is for REPRODUCIBILITY.'''\n",
    "    np.random.seed(seed)\n",
    "    torch.manual_seed(seed)\n",
    "    torch.cuda.manual_seed(seed)\n",
    "    # When running on the CuDNN backend, two further options must be set\n",
    "    torch.backends.cudnn.deterministic = True\n",
    "    torch.backends.cudnn.benchmark = False\n",
    "    # Set a fixed value for the hash seed\n",
    "    os.environ['PYTHONHASHSEED'] = str(seed)\n",
    "    \n",
    "set_seed(CONFIG['seed'])"
   ]
  },
  {
   "cell_type": "markdown",
   "id": "2f3350a3-92d5-4526-8c18-60568057476c",
   "metadata": {},
   "source": [
    "# Custom Dataset"
   ]
  },
  {
   "cell_type": "code",
   "execution_count": 10,
   "id": "02dd6b7a-b315-49e5-ab7d-50141f6a92c5",
   "metadata": {},
   "outputs": [],
   "source": [
    "Image.MAX_IMAGE_PIXELS = None"
   ]
  },
  {
   "cell_type": "code",
   "execution_count": null,
   "id": "b4e97aba-1582-4797-8187-9b2c1a82732c",
   "metadata": {},
   "outputs": [],
   "source": []
  },
  {
   "cell_type": "code",
   "execution_count": 11,
   "id": "c442f33a-4624-4992-a37f-2be8d5806e25",
   "metadata": {},
   "outputs": [],
   "source": [
    "# model_weights = EfficientNet_B0_Weights.DEFAULT\n",
    "# preprocess = model_weights.transforms()"
   ]
  },
  {
   "cell_type": "code",
   "execution_count": 12,
   "id": "467b1f55-b77b-414d-9fa2-65ceaed0ddd7",
   "metadata": {},
   "outputs": [],
   "source": [
    "# preprocess = transforms.Compose([\n",
    "#         # transforms.RandomSizedCrop(224),\n",
    "#         # transforms.RandomHorizontalFlip(),\n",
    "#         transforms.Resize((4000, 4000)),\n",
    "#         transforms.ToTensor(),   # Converts a PIL Image or a NumPy array with values in the range [0, 255] to a PyTorch tensor\n",
    "#                                  # with values in the range [0.0, 1.0].\n",
    "#         # transforms.Normalize(mean=[0.485, 0.456, 0.406],\n",
    "#         #                      std=[0.229, 0.224, 0.225])\n",
    "# ])"
   ]
  },
  {
   "cell_type": "code",
   "execution_count": null,
   "id": "7e6883b4-e56f-40c6-adbd-df22f23f9632",
   "metadata": {},
   "outputs": [],
   "source": []
  },
  {
   "cell_type": "code",
   "execution_count": 13,
   "id": "002b334d-0f52-4bde-828c-eddcbb34a033",
   "metadata": {},
   "outputs": [],
   "source": [
    "class ocean_embedding_dataset(Dataset):\n",
    "    \n",
    "    def __init__(self, numpy_file_name):\n",
    "        \n",
    "        self.ocean_np_arr = np.load(numpy_file_name)\n",
    "\n",
    "    def __len__(self):\n",
    "        return self.ocean_np_arr[\"labels\"].shape[0]\n",
    "\n",
    "    def __getitem__(self, idx):\n",
    "        if torch.is_tensor(idx):\n",
    "            idx = idx.tolist()\n",
    "\n",
    "        image = self.ocean_np_arr[\"embeddings\"][idx]\n",
    "        image = torch.tensor(image)\n",
    "        \n",
    "        label = self.ocean_np_arr[\"labels\"][idx]\n",
    "\n",
    "        return image, label\n",
    "        "
   ]
  },
  {
   "cell_type": "code",
   "execution_count": null,
   "id": "33858d05-4c7f-4766-8cb5-84cc5b1dc770",
   "metadata": {},
   "outputs": [],
   "source": []
  },
  {
   "cell_type": "code",
   "execution_count": 14,
   "id": "01054b83-dfda-4717-a6b5-64608e69e9d5",
   "metadata": {},
   "outputs": [],
   "source": [
    "model_name = \"efficientnet_b0\"\n",
    "\n",
    "save_folder = \"./models/Baseline_model/embeddings/\"\n",
    "\n",
    "\n",
    "save_as = f\"{model_name}_224_224_train_embeddings_and_labels.npz\"\n",
    "train_np_arr_path = save_folder + save_as\n",
    "\n",
    "save_as = f\"{model_name}_224_224_test_embeddings_and_labels.npz\"\n",
    "test_np_arr_path = save_folder + save_as"
   ]
  },
  {
   "cell_type": "code",
   "execution_count": 15,
   "id": "27eba013-ad6c-4dc8-b686-e7e327206c69",
   "metadata": {},
   "outputs": [],
   "source": [
    "train_dataset = ocean_embedding_dataset(train_np_arr_path)\n",
    "\n",
    "test_dataset = ocean_embedding_dataset(test_np_arr_path)"
   ]
  },
  {
   "cell_type": "markdown",
   "id": "18e15d1c-a392-41a3-a03f-5642fcdbfb96",
   "metadata": {},
   "source": [
    "## Testing"
   ]
  },
  {
   "cell_type": "code",
   "execution_count": 16,
   "id": "50fbd20d-5ad0-44d1-8c8a-5bd32dcbc02e",
   "metadata": {},
   "outputs": [
    {
     "data": {
      "text/plain": [
       "296"
      ]
     },
     "execution_count": 16,
     "metadata": {},
     "output_type": "execute_result"
    }
   ],
   "source": [
    "train_dataset.__len__()"
   ]
  },
  {
   "cell_type": "code",
   "execution_count": 17,
   "id": "86204af9-161a-488c-b890-b8f11b17911b",
   "metadata": {},
   "outputs": [],
   "source": [
    "a,b = train_dataset.__getitem__(torch.tensor(10))"
   ]
  },
  {
   "cell_type": "code",
   "execution_count": 18,
   "id": "52061b6a-000b-4ff2-8595-e37f9007f17f",
   "metadata": {},
   "outputs": [
    {
     "data": {
      "text/plain": [
       "tensor([ 0.2083, -0.0323, -0.1260,  ..., -0.0902, -0.1259, -0.1448])"
      ]
     },
     "execution_count": 18,
     "metadata": {},
     "output_type": "execute_result"
    }
   ],
   "source": [
    "a"
   ]
  },
  {
   "cell_type": "code",
   "execution_count": 19,
   "id": "bd5247e2-7402-4bdd-b77d-f5d75b2ce125",
   "metadata": {},
   "outputs": [
    {
     "data": {
      "text/plain": [
       "2"
      ]
     },
     "execution_count": 19,
     "metadata": {},
     "output_type": "execute_result"
    }
   ],
   "source": [
    "b"
   ]
  },
  {
   "cell_type": "code",
   "execution_count": 20,
   "id": "b46cb26c-214f-4d06-a8c4-905d0ec08154",
   "metadata": {},
   "outputs": [
    {
     "data": {
      "text/plain": [
       "array([3, 2, 1, 4, 4, 0, 1, 1, 3, 0, 2, 0, 1, 3, 0, 0, 3, 0, 0, 2, 3, 3,\n",
       "       4, 3, 2, 1, 0, 0, 1, 3, 0, 0, 0, 1, 1, 2, 2, 3, 1, 1, 1, 0, 0, 0,\n",
       "       4, 0, 0, 0, 0, 1, 0, 1, 0, 3, 2, 0, 0, 3, 3, 0, 1, 0, 1, 3, 1, 1,\n",
       "       0, 2, 0, 0, 0, 3, 3, 2, 3, 1, 3, 2, 0, 0, 0, 0, 0, 1, 3, 0, 3, 0,\n",
       "       1, 0, 1, 0, 1, 0, 1, 3, 0, 4, 0, 0, 1, 0, 0, 0, 4, 4, 4, 0, 0, 0,\n",
       "       3, 0, 1, 0, 0, 2, 4, 0, 0, 4, 3, 1, 2, 0, 3, 3, 4, 4, 0, 1, 0, 1,\n",
       "       0, 1, 0, 4, 2, 0, 0, 3, 0, 0, 1, 2, 1, 0, 3, 0, 0, 3, 0, 3, 4, 0,\n",
       "       3, 3, 1, 1, 0, 1, 2, 0, 0, 4, 3, 1, 3, 3, 2, 3, 3, 0, 3, 1, 0, 1,\n",
       "       0, 2, 0, 0, 0, 0, 0, 4, 4, 1, 4, 0, 4, 0, 0, 1, 1, 3, 3, 1, 2, 2,\n",
       "       2, 3, 4, 0, 0, 2, 0, 1, 1, 1, 0, 0, 2, 4, 0, 1, 1, 0, 4, 0, 4, 1,\n",
       "       0, 0, 1, 0, 0, 1, 1, 0, 0, 0, 0, 1, 0, 0, 0, 3, 0, 3, 0, 3, 3, 1,\n",
       "       1, 4, 1, 1, 3, 3, 1, 0, 0, 3, 0, 0, 1, 1, 0, 3, 3, 1, 1, 2, 1, 0,\n",
       "       0, 1, 0, 0, 4, 1, 1, 0, 0, 4, 2, 0, 3, 3, 0, 3, 0, 0, 2, 1, 0, 0,\n",
       "       2, 1, 0, 3, 0, 3, 1, 0, 1, 3])"
      ]
     },
     "execution_count": 20,
     "metadata": {},
     "output_type": "execute_result"
    }
   ],
   "source": [
    "train_dataset.ocean_np_arr[\"labels\"]"
   ]
  },
  {
   "cell_type": "markdown",
   "id": "20401933-47b3-404e-ba4e-be65e40f6ae6",
   "metadata": {},
   "source": [
    "# Class Weights - From Training Data since the dataset is imbalanced"
   ]
  },
  {
   "cell_type": "code",
   "execution_count": 21,
   "id": "31f40cfe-c181-440a-8f3e-d440782b30c3",
   "metadata": {},
   "outputs": [
    {
     "data": {
      "text/plain": [
       "array([3, 2, 1, 4, 4, 0, 1, 1, 3, 0, 2, 0, 1, 3, 0, 0, 3, 0, 0, 2, 3, 3,\n",
       "       4, 3, 2, 1, 0, 0, 1, 3, 0, 0, 0, 1, 1, 2, 2, 3, 1, 1, 1, 0, 0, 0,\n",
       "       4, 0, 0, 0, 0, 1, 0, 1, 0, 3, 2, 0, 0, 3, 3, 0, 1, 0, 1, 3, 1, 1,\n",
       "       0, 2, 0, 0, 0, 3, 3, 2, 3, 1, 3, 2, 0, 0, 0, 0, 0, 1, 3, 0, 3, 0,\n",
       "       1, 0, 1, 0, 1, 0, 1, 3, 0, 4, 0, 0, 1, 0, 0, 0, 4, 4, 4, 0, 0, 0,\n",
       "       3, 0, 1, 0, 0, 2, 4, 0, 0, 4, 3, 1, 2, 0, 3, 3, 4, 4, 0, 1, 0, 1,\n",
       "       0, 1, 0, 4, 2, 0, 0, 3, 0, 0, 1, 2, 1, 0, 3, 0, 0, 3, 0, 3, 4, 0,\n",
       "       3, 3, 1, 1, 0, 1, 2, 0, 0, 4, 3, 1, 3, 3, 2, 3, 3, 0, 3, 1, 0, 1,\n",
       "       0, 2, 0, 0, 0, 0, 0, 4, 4, 1, 4, 0, 4, 0, 0, 1, 1, 3, 3, 1, 2, 2,\n",
       "       2, 3, 4, 0, 0, 2, 0, 1, 1, 1, 0, 0, 2, 4, 0, 1, 1, 0, 4, 0, 4, 1,\n",
       "       0, 0, 1, 0, 0, 1, 1, 0, 0, 0, 0, 1, 0, 0, 0, 3, 0, 3, 0, 3, 3, 1,\n",
       "       1, 4, 1, 1, 3, 3, 1, 0, 0, 3, 0, 0, 1, 1, 0, 3, 3, 1, 1, 2, 1, 0,\n",
       "       0, 1, 0, 0, 4, 1, 1, 0, 0, 4, 2, 0, 3, 3, 0, 3, 0, 0, 2, 1, 0, 0,\n",
       "       2, 1, 0, 3, 0, 3, 1, 0, 1, 3])"
      ]
     },
     "execution_count": 21,
     "metadata": {},
     "output_type": "execute_result"
    }
   ],
   "source": [
    "train_dataset.ocean_np_arr[\"labels\"]"
   ]
  },
  {
   "cell_type": "code",
   "execution_count": null,
   "id": "6e8ff4c7-62e4-4654-a53b-209323c92e3f",
   "metadata": {},
   "outputs": [],
   "source": []
  },
  {
   "cell_type": "code",
   "execution_count": null,
   "id": "75b28ad6-975a-4fc2-a19b-73bde1c09870",
   "metadata": {},
   "outputs": [],
   "source": []
  },
  {
   "cell_type": "markdown",
   "id": "2b246783-1d97-4989-ac02-f7e263919015",
   "metadata": {},
   "source": [
    "* Class weight Formula -\n",
    "  \n",
    "class_weight_of_that_class = $\\frac{\\text{Total samples}}{\\text{Total classes * samples of that class}}$"
   ]
  },
  {
   "cell_type": "code",
   "execution_count": 22,
   "id": "d3548690-c5de-462c-b869-e2ed6836beb5",
   "metadata": {},
   "outputs": [],
   "source": [
    "# NumPy array of class labels - labels_arr\n",
    "\n",
    "labels_arr = train_dataset.ocean_np_arr[\"labels\"].copy()\n",
    "\n",
    "class_weights = compute_class_weight('balanced',classes = np.unique(labels_arr), y = labels_arr)"
   ]
  },
  {
   "cell_type": "code",
   "execution_count": 23,
   "id": "3c848bee-deca-4c3d-ac8f-b6b0c58ae80e",
   "metadata": {},
   "outputs": [
    {
     "data": {
      "text/plain": [
       "array([0.4852459 , 0.87058824, 2.27692308, 1.0962963 , 2.27692308])"
      ]
     },
     "execution_count": 23,
     "metadata": {},
     "output_type": "execute_result"
    }
   ],
   "source": [
    "class_weights"
   ]
  },
  {
   "cell_type": "code",
   "execution_count": 24,
   "id": "42486cca-117d-4dcb-9a8b-a2a118939821",
   "metadata": {},
   "outputs": [
    {
     "data": {
      "text/plain": [
       "(array([0, 1, 2, 3, 4]), array([122,  68,  26,  54,  26]))"
      ]
     },
     "execution_count": 24,
     "metadata": {},
     "output_type": "execute_result"
    }
   ],
   "source": [
    "# label_mapper = {'HGSC' : 0, 'EC' : 1, 'MC' : 2, 'CC' : 3, 'LGSC' : 4}\n",
    "# Train Label Distribution\n",
    "np.unique(labels_arr, return_counts = True)"
   ]
  },
  {
   "cell_type": "code",
   "execution_count": 25,
   "id": "4b19a847-2296-4df0-9897-8e5a295e6c6b",
   "metadata": {},
   "outputs": [
    {
     "data": {
      "text/plain": [
       "tensor([0.4852, 0.8706, 2.2769, 1.0963, 2.2769], dtype=torch.float64)"
      ]
     },
     "execution_count": 25,
     "metadata": {},
     "output_type": "execute_result"
    }
   ],
   "source": [
    "class_weights_tensor = torch.tensor(class_weights)\n",
    "class_weights_tensor"
   ]
  },
  {
   "cell_type": "markdown",
   "id": "d4d58fe0-b89b-44cb-847d-8085557d6e5b",
   "metadata": {},
   "source": [
    "# DataLoader"
   ]
  },
  {
   "cell_type": "markdown",
   "id": "b05e9ade-27f6-4b02-af47-feac75b859e6",
   "metadata": {},
   "source": [
    "* The EOFError you encountered in your DataLoader worker process could be related to using multiple workers (num_workers = 2)\n",
    "\n",
    "\n",
    "1) Concurrency Issues:\n",
    "\n",
    "    * When using multiple worker processes (num_workers > 0), there is potential for concurrency issues, especially when reading data from a file or other data sources. If your dataset is not designed to handle concurrent access properly, it can result in unexpected errors like EOFError.\n",
    "  \n",
    "2) Use torch.utils.data.SequentialSampler:\n",
    "    * Instead of relying on the default random sampler, you can use SequentialSampler to ensure that the data is loaded in a sequential order, which might help in scenarios where the order of loading matters.\n",
    "\n"
   ]
  },
  {
   "cell_type": "code",
   "execution_count": 55,
   "id": "98abd35d-befe-40e6-ab4e-c678d48864ac",
   "metadata": {},
   "outputs": [],
   "source": [
    "trainloader = DataLoader(train_dataset, batch_size = CONFIG['batch_size'], shuffle = True, drop_last = True)\n",
    "\n",
    "testloader = DataLoader(test_dataset, batch_size = CONFIG['batch_size'], shuffle = False, drop_last = True)"
   ]
  },
  {
   "cell_type": "markdown",
   "id": "2c34038c-0762-4061-85ee-cafd44eddddf",
   "metadata": {},
   "source": [
    "# Train - Evaluation, Training, Architecture"
   ]
  },
  {
   "cell_type": "code",
   "execution_count": 166,
   "id": "fd3de3db-b023-41f9-b2d9-cf9f8c245a37",
   "metadata": {},
   "outputs": [],
   "source": [
    "# Use `torch.no_grad()` here to disable gradient calculation. \n",
    "# It will reduce memory consumption as we don't need to compute gradients in inference.\n",
    "\n",
    "@torch.no_grad()\n",
    "def evaluate(model, testloader, criterion, device):\n",
    "    \n",
    "    model.eval()\n",
    "    \n",
    "    # Keep track of loss and other evaluation metrics\n",
    "    test_loss = 0.0\n",
    "\n",
    "    YPredict = []\n",
    "    YTrue = []\n",
    "    \n",
    "    # Loop through each batch on test set\n",
    "    for i, (images, labels) in enumerate(testloader, 1):\n",
    "        \n",
    "        images = images.to(device)\n",
    "        labels = labels.to(device)\n",
    "        \n",
    "        logits = model(images)\n",
    "\n",
    "        loss = criterion(logits, labels)\n",
    "        \n",
    "        test_loss += loss.detach().item()\n",
    "\n",
    "        predictions = torch.argmax(logits, dim = 1)\n",
    "        predictions = predictions.view(-1)\n",
    "        YTrue.extend(labels.tolist())\n",
    "        YPredict.extend(predictions.tolist())\n",
    "\n",
    "    # Compute Scores\n",
    "    accuracy = accuracy_score(YTrue, YPredict)\n",
    "    f1 = f1_score(YTrue, YPredict, average = \"macro\")\n",
    "\n",
    "    return (test_loss/i, accuracy, f1) ## avg loss and acc over all batches\n"
   ]
  },
  {
   "cell_type": "code",
   "execution_count": null,
   "id": "d9af0610-8e73-45cd-987c-9556427a514a",
   "metadata": {},
   "outputs": [],
   "source": [
    "\n"
   ]
  },
  {
   "cell_type": "code",
   "execution_count": 167,
   "id": "9857e5e7-7f67-45c6-90f9-9a6586b650c8",
   "metadata": {},
   "outputs": [],
   "source": [
    "def train_model(model, trainloader, testloader, CONFIG):\n",
    "    \n",
    "    optimizer = AdamW(model.parameters(), lr = CONFIG[\"learning_rate\"], weight_decay = CONFIG[\"weight_decay\"])\n",
    "\n",
    "    # criterion = nn.CrossEntropyLoss(weight = class_weights_tensor)\n",
    "\n",
    "    criterion = nn.CrossEntropyLoss()\n",
    "\n",
    "\n",
    "    ## Measure runtime\n",
    "    t_start = time()\n",
    "    \n",
    "    ## Store training log\n",
    "    history = defaultdict(list)\n",
    "    \n",
    "    # We will train the model `num_epochs` times\n",
    "    for i in range(1, CONFIG[\"epochs\"]+1):\n",
    "\n",
    "        # Training\n",
    "        train_loss, train_acc, train_f1 = train_one_epoch(model = model, trainloader = trainloader, optimizer = optimizer, criterion = criterion, device = CONFIG[\"device\"])\n",
    "\n",
    "        # Model Checkpointing\n",
    "        if i%10==0:\n",
    "            torch.save(model, f'models/Baseline_model/epoch{i}_batch_size{CONFIG[\"batch_size\"]}.pth')\n",
    "\n",
    "        # Evaluate on test set\n",
    "        test_loss, test_acc, test_f1 = evaluate(model = model, testloader = testloader, criterion = criterion, device = CONFIG[\"device\"])\n",
    "\n",
    "        ## Store train/test loss, accuracy, f1 scores\n",
    "        history[\"train_loss\"].append(train_loss)\n",
    "        history[\"train_acc\"].append(train_acc)\n",
    "        history[\"train_f1\"].append(train_f1)\n",
    "        \n",
    "        history[\"test_loss\"].append(test_loss)\n",
    "        history[\"test_acc\"].append(test_acc)\n",
    "        history[\"test_f1\"].append(test_f1)\n",
    "\n",
    "        \n",
    "        \n",
    "        ## print out train/test loss, accuracy\n",
    "        print(f'Epoch: {i} | Runtime: {((time()-t_start)/60):.2f}[m] | train_loss: {train_loss:.3f} | test_loss: {test_loss:.3f} | train_acc: {train_acc:.3f} |  test_acc: {test_acc:.3f} | train_f1: {train_f1:.3f} | test_f1: {test_f1:.3f}')    \n",
    "    return history"
   ]
  },
  {
   "cell_type": "code",
   "execution_count": 168,
   "id": "44a71bce-186f-4c0c-9b32-308f9819afc4",
   "metadata": {},
   "outputs": [],
   "source": [
    "def train_one_epoch(model, trainloader, device, optimizer, criterion):\n",
    "    \"\"\"\n",
    "      Train 1 epoch on trainloader.\"\n",
    "    \"\"\"\n",
    "\n",
    "    model = model.train()\n",
    "    \n",
    "    # Keep track of loss and other evaluation metrics\n",
    "    train_loss = 0.0\n",
    "\n",
    "    YPredict = []\n",
    "    YTrue = []\n",
    "\n",
    "    ## Loop over all the batches\n",
    "    for i, (images, labels) in tqdm(enumerate(trainloader, 1), total=len(trainloader), desc=f\"Training on whole batch...\"):\n",
    "            \n",
    "        # Move images and labels to `device` (CPU or GPU)\n",
    "        images = images.to(device)\n",
    "        labels = labels.to(device)\n",
    "\n",
    "        logits = model(images)\n",
    "\n",
    "        # print(logits)\n",
    "        # print(labels)\n",
    "        # print(logits.dtype, labels.dtype)\n",
    "        # print(type(labels[0]))\n",
    "        # print(type(labels))\n",
    "        loss = criterion(logits, labels)\n",
    "        # loss = criterion(logits, labels.to(torch.long))\n",
    "        optimizer.zero_grad()\n",
    "        loss.backward()\n",
    "        optimizer.step()\n",
    "\n",
    "        # Compute loss and accuracy for this batch\n",
    "        train_loss += loss.detach().item()\n",
    "\n",
    "        predictions = torch.argmax(logits, dim = 1)\n",
    "        predictions = predictions.view(-1)\n",
    "        YTrue.extend(labels.tolist())\n",
    "        YPredict.extend(predictions.tolist())\n",
    "\n",
    "\n",
    "    # Compute Scores\n",
    "    accuracy = accuracy_score(YTrue, YPredict)\n",
    "    f1 = f1_score(YTrue, YPredict, average = \"macro\")\n",
    "\n",
    "    return (train_loss/i, accuracy, f1) ## avg loss and acc over all batches\n"
   ]
  },
  {
   "cell_type": "code",
   "execution_count": 169,
   "id": "05d4166d-2d7d-4c79-a87c-9366953343ad",
   "metadata": {},
   "outputs": [],
   "source": [
    "class Baseline_Model(nn.Module):\n",
    "\n",
    "    def __init__(self):\n",
    "        super().__init__()\n",
    "        \n",
    "        # self.base_model_headless = base_layers\n",
    "        # self.base_model_headless.requires_grad = False\n",
    "        \n",
    "        self.fc1 = nn.Linear(1280, 64)\n",
    "        self.fc2 = nn.Linear(64, 5)\n",
    "        self.relu = nn.ReLU()\n",
    "        self.dropout = nn.Dropout(p = 0.5)\n",
    "\n",
    "\n",
    "    def forward(self, x):\n",
    "        # x = self.base_model_headless(x)\n",
    "        # # print(\"Output shape after Passing through Pretrained Model\")\n",
    "        # # print(x.shape)\n",
    "\n",
    "        # # Flatten\n",
    "        # x = x.view((x.shape[0], -1))\n",
    "\n",
    "        # FCNN\n",
    "        x = self.fc1(x)\n",
    "        x = self.relu(x)\n",
    "        x = self.dropout(x)\n",
    "        x = self.fc2(x)\n",
    "        # x = self.relu(x)\n",
    "        # x = self.dropout(x)\n",
    "        # x = self.fc3(x)\n",
    "        # print(x.shape)\n",
    "\n",
    "        return x      "
   ]
  },
  {
   "cell_type": "code",
   "execution_count": 170,
   "id": "1a15c053-9780-47d1-882f-15fbbb06ac7c",
   "metadata": {},
   "outputs": [],
   "source": [
    "# Initialize Model\n",
    "model = Baseline_Model().to(CONFIG[\"device\"])"
   ]
  },
  {
   "cell_type": "code",
   "execution_count": 171,
   "id": "6f956533-8f0b-4dc3-bbc6-03ac4975d84d",
   "metadata": {
    "scrolled": true
   },
   "outputs": [
    {
     "name": "stdout",
     "output_type": "stream",
     "text": [
      "----------------------------------------------------------------\n",
      "        Layer (type)               Output Shape         Param #\n",
      "================================================================\n",
      "            Linear-1                   [-1, 64]          81,984\n",
      "              ReLU-2                   [-1, 64]               0\n",
      "           Dropout-3                   [-1, 64]               0\n",
      "            Linear-4                    [-1, 5]             325\n",
      "================================================================\n",
      "Total params: 82,309\n",
      "Trainable params: 82,309\n",
      "Non-trainable params: 0\n",
      "----------------------------------------------------------------\n",
      "Input size (MB): 0.00\n",
      "Forward/backward pass size (MB): 0.00\n",
      "Params size (MB): 0.31\n",
      "Estimated Total Size (MB): 0.32\n",
      "----------------------------------------------------------------\n"
     ]
    }
   ],
   "source": [
    "summary(model, input_size = (1280,))"
   ]
  },
  {
   "cell_type": "code",
   "execution_count": 172,
   "id": "3b3268f2-b071-4f84-a307-a41e365ce456",
   "metadata": {},
   "outputs": [],
   "source": [
    "# ## compute accuracy score in a batch\n",
    "# def compute_accuracy(logits, labels, batch_size):\n",
    "#     ''' \n",
    "#       Obtain accuracy for a training batch \n",
    "#       logits: float Tensor, shape (batch_size, num_classes),  output from the model\n",
    "#       labels: Long Tensor, shape (batch_size, ), contains labels for the predictions\n",
    "#       batch_size: int, batch size\n",
    "\n",
    "#       Return accuracy for this batch, which should be a float number\n",
    "#     '''\n",
    "    \n",
    "#     # Write your code in this block ----------------\n",
    "    \n",
    "#     predictions = torch.argmax(logits, dim = 1)\n",
    "#     predictions = predictions.view(-1)\n",
    "    \n",
    "#     total_correct = (labels == predictions).sum().item()\n",
    "#     accuracy = total_correct/batch_size\n",
    "    \n",
    "#     return accuracy"
   ]
  },
  {
   "cell_type": "code",
   "execution_count": null,
   "id": "cb41d874-840c-46ba-a732-b538cff27f27",
   "metadata": {},
   "outputs": [],
   "source": []
  },
  {
   "cell_type": "code",
   "execution_count": 179,
   "id": "84b0e68d-1d4a-4885-92ee-29a9abf92b05",
   "metadata": {
    "scrolled": true
   },
   "outputs": [
    {
     "name": "stderr",
     "output_type": "stream",
     "text": [
      "Training on whole batch...: 100%|██████████| 296/296 [00:00<00:00, 400.21it/s]\n"
     ]
    },
    {
     "name": "stdout",
     "output_type": "stream",
     "text": [
      "Epoch: 1 | Runtime: 0.01[m] | train_loss: 1.232 | test_loss: 1.347 | train_acc: 0.514 |  test_acc: 0.445 | train_f1: 0.322 | test_f1: 0.179\n"
     ]
    },
    {
     "name": "stderr",
     "output_type": "stream",
     "text": [
      "Training on whole batch...: 100%|██████████| 296/296 [00:00<00:00, 405.21it/s]\n"
     ]
    },
    {
     "name": "stdout",
     "output_type": "stream",
     "text": [
      "Epoch: 2 | Runtime: 0.03[m] | train_loss: 1.227 | test_loss: 1.345 | train_acc: 0.517 |  test_acc: 0.445 | train_f1: 0.307 | test_f1: 0.179\n"
     ]
    },
    {
     "name": "stderr",
     "output_type": "stream",
     "text": [
      "Training on whole batch...: 100%|██████████| 296/296 [00:00<00:00, 403.72it/s]\n"
     ]
    },
    {
     "name": "stdout",
     "output_type": "stream",
     "text": [
      "Epoch: 3 | Runtime: 0.04[m] | train_loss: 1.224 | test_loss: 1.342 | train_acc: 0.541 |  test_acc: 0.445 | train_f1: 0.377 | test_f1: 0.179\n"
     ]
    },
    {
     "name": "stderr",
     "output_type": "stream",
     "text": [
      "Training on whole batch...: 100%|██████████| 296/296 [00:00<00:00, 405.16it/s]\n"
     ]
    },
    {
     "name": "stdout",
     "output_type": "stream",
     "text": [
      "Epoch: 4 | Runtime: 0.06[m] | train_loss: 1.253 | test_loss: 1.340 | train_acc: 0.493 |  test_acc: 0.445 | train_f1: 0.286 | test_f1: 0.179\n"
     ]
    },
    {
     "name": "stderr",
     "output_type": "stream",
     "text": [
      "Training on whole batch...: 100%|██████████| 296/296 [00:00<00:00, 404.90it/s]\n"
     ]
    },
    {
     "name": "stdout",
     "output_type": "stream",
     "text": [
      "Epoch: 5 | Runtime: 0.07[m] | train_loss: 1.224 | test_loss: 1.338 | train_acc: 0.524 |  test_acc: 0.445 | train_f1: 0.353 | test_f1: 0.179\n"
     ]
    },
    {
     "name": "stderr",
     "output_type": "stream",
     "text": [
      "Training on whole batch...: 100%|██████████| 296/296 [00:00<00:00, 404.92it/s]\n"
     ]
    },
    {
     "name": "stdout",
     "output_type": "stream",
     "text": [
      "Epoch: 6 | Runtime: 0.09[m] | train_loss: 1.202 | test_loss: 1.336 | train_acc: 0.557 |  test_acc: 0.445 | train_f1: 0.410 | test_f1: 0.179\n"
     ]
    },
    {
     "name": "stderr",
     "output_type": "stream",
     "text": [
      "Training on whole batch...: 100%|██████████| 296/296 [00:00<00:00, 404.75it/s]\n"
     ]
    },
    {
     "name": "stdout",
     "output_type": "stream",
     "text": [
      "Epoch: 7 | Runtime: 0.10[m] | train_loss: 1.217 | test_loss: 1.333 | train_acc: 0.557 |  test_acc: 0.445 | train_f1: 0.417 | test_f1: 0.179\n"
     ]
    },
    {
     "name": "stderr",
     "output_type": "stream",
     "text": [
      "Training on whole batch...: 100%|██████████| 296/296 [00:00<00:00, 404.72it/s]\n"
     ]
    },
    {
     "name": "stdout",
     "output_type": "stream",
     "text": [
      "Epoch: 8 | Runtime: 0.11[m] | train_loss: 1.202 | test_loss: 1.331 | train_acc: 0.547 |  test_acc: 0.445 | train_f1: 0.387 | test_f1: 0.179\n"
     ]
    },
    {
     "name": "stderr",
     "output_type": "stream",
     "text": [
      "Training on whole batch...: 100%|██████████| 296/296 [00:00<00:00, 404.35it/s]\n"
     ]
    },
    {
     "name": "stdout",
     "output_type": "stream",
     "text": [
      "Epoch: 9 | Runtime: 0.13[m] | train_loss: 1.216 | test_loss: 1.330 | train_acc: 0.520 |  test_acc: 0.445 | train_f1: 0.345 | test_f1: 0.179\n"
     ]
    },
    {
     "name": "stderr",
     "output_type": "stream",
     "text": [
      "Training on whole batch...: 100%|██████████| 296/296 [00:00<00:00, 404.77it/s]\n"
     ]
    },
    {
     "name": "stdout",
     "output_type": "stream",
     "text": [
      "Epoch: 10 | Runtime: 0.14[m] | train_loss: 1.182 | test_loss: 1.328 | train_acc: 0.605 |  test_acc: 0.453 | train_f1: 0.437 | test_f1: 0.189\n"
     ]
    },
    {
     "name": "stderr",
     "output_type": "stream",
     "text": [
      "Training on whole batch...: 100%|██████████| 296/296 [00:00<00:00, 404.35it/s]\n"
     ]
    },
    {
     "name": "stdout",
     "output_type": "stream",
     "text": [
      "Epoch: 11 | Runtime: 0.16[m] | train_loss: 1.174 | test_loss: 1.326 | train_acc: 0.564 |  test_acc: 0.445 | train_f1: 0.437 | test_f1: 0.186\n"
     ]
    },
    {
     "name": "stderr",
     "output_type": "stream",
     "text": [
      "Training on whole batch...: 100%|██████████| 296/296 [00:00<00:00, 403.80it/s]\n"
     ]
    },
    {
     "name": "stdout",
     "output_type": "stream",
     "text": [
      "Epoch: 12 | Runtime: 0.17[m] | train_loss: 1.165 | test_loss: 1.324 | train_acc: 0.547 |  test_acc: 0.445 | train_f1: 0.365 | test_f1: 0.186\n"
     ]
    },
    {
     "name": "stderr",
     "output_type": "stream",
     "text": [
      "Training on whole batch...: 100%|██████████| 296/296 [00:00<00:00, 404.51it/s]\n"
     ]
    },
    {
     "name": "stdout",
     "output_type": "stream",
     "text": [
      "Epoch: 13 | Runtime: 0.19[m] | train_loss: 1.185 | test_loss: 1.322 | train_acc: 0.578 |  test_acc: 0.453 | train_f1: 0.416 | test_f1: 0.220\n"
     ]
    },
    {
     "name": "stderr",
     "output_type": "stream",
     "text": [
      "Training on whole batch...: 100%|██████████| 296/296 [00:00<00:00, 405.31it/s]\n"
     ]
    },
    {
     "name": "stdout",
     "output_type": "stream",
     "text": [
      "Epoch: 14 | Runtime: 0.20[m] | train_loss: 1.179 | test_loss: 1.321 | train_acc: 0.557 |  test_acc: 0.461 | train_f1: 0.409 | test_f1: 0.236\n"
     ]
    },
    {
     "name": "stderr",
     "output_type": "stream",
     "text": [
      "Training on whole batch...: 100%|██████████| 296/296 [00:00<00:00, 404.20it/s]\n"
     ]
    },
    {
     "name": "stdout",
     "output_type": "stream",
     "text": [
      "Epoch: 15 | Runtime: 0.21[m] | train_loss: 1.148 | test_loss: 1.319 | train_acc: 0.601 |  test_acc: 0.461 | train_f1: 0.458 | test_f1: 0.236\n"
     ]
    },
    {
     "name": "stderr",
     "output_type": "stream",
     "text": [
      "Training on whole batch...: 100%|██████████| 296/296 [00:00<00:00, 402.50it/s]\n"
     ]
    },
    {
     "name": "stdout",
     "output_type": "stream",
     "text": [
      "Epoch: 16 | Runtime: 0.23[m] | train_loss: 1.149 | test_loss: 1.318 | train_acc: 0.571 |  test_acc: 0.461 | train_f1: 0.435 | test_f1: 0.242\n"
     ]
    },
    {
     "name": "stderr",
     "output_type": "stream",
     "text": [
      "Training on whole batch...: 100%|██████████| 296/296 [00:00<00:00, 405.31it/s]\n"
     ]
    },
    {
     "name": "stdout",
     "output_type": "stream",
     "text": [
      "Epoch: 17 | Runtime: 0.24[m] | train_loss: 1.124 | test_loss: 1.316 | train_acc: 0.608 |  test_acc: 0.461 | train_f1: 0.488 | test_f1: 0.242\n"
     ]
    },
    {
     "name": "stderr",
     "output_type": "stream",
     "text": [
      "Training on whole batch...: 100%|██████████| 296/296 [00:00<00:00, 405.25it/s]\n"
     ]
    },
    {
     "name": "stdout",
     "output_type": "stream",
     "text": [
      "Epoch: 18 | Runtime: 0.26[m] | train_loss: 1.144 | test_loss: 1.314 | train_acc: 0.551 |  test_acc: 0.453 | train_f1: 0.402 | test_f1: 0.248\n"
     ]
    },
    {
     "name": "stderr",
     "output_type": "stream",
     "text": [
      "Training on whole batch...: 100%|██████████| 296/296 [00:00<00:00, 405.57it/s]\n"
     ]
    },
    {
     "name": "stdout",
     "output_type": "stream",
     "text": [
      "Epoch: 19 | Runtime: 0.27[m] | train_loss: 1.124 | test_loss: 1.312 | train_acc: 0.601 |  test_acc: 0.461 | train_f1: 0.490 | test_f1: 0.260\n"
     ]
    },
    {
     "name": "stderr",
     "output_type": "stream",
     "text": [
      "Training on whole batch...: 100%|██████████| 296/296 [00:00<00:00, 404.89it/s]\n"
     ]
    },
    {
     "name": "stdout",
     "output_type": "stream",
     "text": [
      "Epoch: 20 | Runtime: 0.29[m] | train_loss: 1.108 | test_loss: 1.311 | train_acc: 0.615 |  test_acc: 0.461 | train_f1: 0.487 | test_f1: 0.259\n"
     ]
    },
    {
     "name": "stderr",
     "output_type": "stream",
     "text": [
      "Training on whole batch...: 100%|██████████| 296/296 [00:00<00:00, 405.42it/s]\n"
     ]
    },
    {
     "name": "stdout",
     "output_type": "stream",
     "text": [
      "Epoch: 21 | Runtime: 0.30[m] | train_loss: 1.125 | test_loss: 1.308 | train_acc: 0.601 |  test_acc: 0.469 | train_f1: 0.475 | test_f1: 0.255\n"
     ]
    },
    {
     "name": "stderr",
     "output_type": "stream",
     "text": [
      "Training on whole batch...: 100%|██████████| 296/296 [00:00<00:00, 405.24it/s]\n"
     ]
    },
    {
     "name": "stdout",
     "output_type": "stream",
     "text": [
      "Epoch: 22 | Runtime: 0.31[m] | train_loss: 1.124 | test_loss: 1.307 | train_acc: 0.588 |  test_acc: 0.461 | train_f1: 0.482 | test_f1: 0.259\n"
     ]
    },
    {
     "name": "stderr",
     "output_type": "stream",
     "text": [
      "Training on whole batch...: 100%|██████████| 296/296 [00:00<00:00, 403.86it/s]\n"
     ]
    },
    {
     "name": "stdout",
     "output_type": "stream",
     "text": [
      "Epoch: 23 | Runtime: 0.33[m] | train_loss: 1.095 | test_loss: 1.305 | train_acc: 0.615 |  test_acc: 0.461 | train_f1: 0.505 | test_f1: 0.259\n"
     ]
    },
    {
     "name": "stderr",
     "output_type": "stream",
     "text": [
      "Training on whole batch...: 100%|██████████| 296/296 [00:00<00:00, 405.20it/s]\n"
     ]
    },
    {
     "name": "stdout",
     "output_type": "stream",
     "text": [
      "Epoch: 24 | Runtime: 0.34[m] | train_loss: 1.108 | test_loss: 1.303 | train_acc: 0.628 |  test_acc: 0.461 | train_f1: 0.520 | test_f1: 0.259\n"
     ]
    },
    {
     "name": "stderr",
     "output_type": "stream",
     "text": [
      "Training on whole batch...: 100%|██████████| 296/296 [00:00<00:00, 405.30it/s]\n"
     ]
    },
    {
     "name": "stdout",
     "output_type": "stream",
     "text": [
      "Epoch: 25 | Runtime: 0.36[m] | train_loss: 1.082 | test_loss: 1.301 | train_acc: 0.632 |  test_acc: 0.461 | train_f1: 0.516 | test_f1: 0.259\n"
     ]
    },
    {
     "name": "stderr",
     "output_type": "stream",
     "text": [
      "Training on whole batch...: 100%|██████████| 296/296 [00:00<00:00, 404.07it/s]\n"
     ]
    },
    {
     "name": "stdout",
     "output_type": "stream",
     "text": [
      "Epoch: 26 | Runtime: 0.37[m] | train_loss: 1.072 | test_loss: 1.299 | train_acc: 0.625 |  test_acc: 0.461 | train_f1: 0.518 | test_f1: 0.259\n"
     ]
    },
    {
     "name": "stderr",
     "output_type": "stream",
     "text": [
      "Training on whole batch...: 100%|██████████| 296/296 [00:00<00:00, 403.36it/s]\n"
     ]
    },
    {
     "name": "stdout",
     "output_type": "stream",
     "text": [
      "Epoch: 27 | Runtime: 0.39[m] | train_loss: 1.119 | test_loss: 1.297 | train_acc: 0.605 |  test_acc: 0.461 | train_f1: 0.506 | test_f1: 0.258\n"
     ]
    },
    {
     "name": "stderr",
     "output_type": "stream",
     "text": [
      "Training on whole batch...: 100%|██████████| 296/296 [00:00<00:00, 401.12it/s]\n"
     ]
    },
    {
     "name": "stdout",
     "output_type": "stream",
     "text": [
      "Epoch: 28 | Runtime: 0.40[m] | train_loss: 1.076 | test_loss: 1.297 | train_acc: 0.611 |  test_acc: 0.461 | train_f1: 0.497 | test_f1: 0.258\n"
     ]
    },
    {
     "name": "stderr",
     "output_type": "stream",
     "text": [
      "Training on whole batch...: 100%|██████████| 296/296 [00:00<00:00, 404.51it/s]\n"
     ]
    },
    {
     "name": "stdout",
     "output_type": "stream",
     "text": [
      "Epoch: 29 | Runtime: 0.42[m] | train_loss: 1.052 | test_loss: 1.294 | train_acc: 0.666 |  test_acc: 0.461 | train_f1: 0.580 | test_f1: 0.258\n"
     ]
    },
    {
     "name": "stderr",
     "output_type": "stream",
     "text": [
      "Training on whole batch...: 100%|██████████| 296/296 [00:00<00:00, 404.29it/s]\n"
     ]
    },
    {
     "name": "stdout",
     "output_type": "stream",
     "text": [
      "Epoch: 30 | Runtime: 0.43[m] | train_loss: 1.008 | test_loss: 1.291 | train_acc: 0.679 |  test_acc: 0.469 | train_f1: 0.607 | test_f1: 0.269\n"
     ]
    },
    {
     "name": "stderr",
     "output_type": "stream",
     "text": [
      "Training on whole batch...: 100%|██████████| 296/296 [00:00<00:00, 404.51it/s]\n"
     ]
    },
    {
     "name": "stdout",
     "output_type": "stream",
     "text": [
      "Epoch: 31 | Runtime: 0.44[m] | train_loss: 1.081 | test_loss: 1.290 | train_acc: 0.601 |  test_acc: 0.461 | train_f1: 0.512 | test_f1: 0.266\n"
     ]
    },
    {
     "name": "stderr",
     "output_type": "stream",
     "text": [
      "Training on whole batch...: 100%|██████████| 296/296 [00:00<00:00, 403.32it/s]\n"
     ]
    },
    {
     "name": "stdout",
     "output_type": "stream",
     "text": [
      "Epoch: 32 | Runtime: 0.46[m] | train_loss: 1.058 | test_loss: 1.290 | train_acc: 0.628 |  test_acc: 0.461 | train_f1: 0.492 | test_f1: 0.266\n"
     ]
    },
    {
     "name": "stderr",
     "output_type": "stream",
     "text": [
      "Training on whole batch...: 100%|██████████| 296/296 [00:00<00:00, 404.51it/s]\n"
     ]
    },
    {
     "name": "stdout",
     "output_type": "stream",
     "text": [
      "Epoch: 33 | Runtime: 0.47[m] | train_loss: 1.042 | test_loss: 1.289 | train_acc: 0.625 |  test_acc: 0.461 | train_f1: 0.513 | test_f1: 0.265\n"
     ]
    },
    {
     "name": "stderr",
     "output_type": "stream",
     "text": [
      "Training on whole batch...: 100%|██████████| 296/296 [00:00<00:00, 404.64it/s]\n"
     ]
    },
    {
     "name": "stdout",
     "output_type": "stream",
     "text": [
      "Epoch: 34 | Runtime: 0.49[m] | train_loss: 1.039 | test_loss: 1.287 | train_acc: 0.649 |  test_acc: 0.461 | train_f1: 0.561 | test_f1: 0.266\n"
     ]
    },
    {
     "name": "stderr",
     "output_type": "stream",
     "text": [
      "Training on whole batch...: 100%|██████████| 296/296 [00:00<00:00, 405.28it/s]\n"
     ]
    },
    {
     "name": "stdout",
     "output_type": "stream",
     "text": [
      "Epoch: 35 | Runtime: 0.50[m] | train_loss: 1.036 | test_loss: 1.286 | train_acc: 0.635 |  test_acc: 0.461 | train_f1: 0.546 | test_f1: 0.267\n"
     ]
    },
    {
     "name": "stderr",
     "output_type": "stream",
     "text": [
      "Training on whole batch...: 100%|██████████| 296/296 [00:00<00:00, 404.92it/s]\n"
     ]
    },
    {
     "name": "stdout",
     "output_type": "stream",
     "text": [
      "Epoch: 36 | Runtime: 0.52[m] | train_loss: 1.029 | test_loss: 1.286 | train_acc: 0.618 |  test_acc: 0.461 | train_f1: 0.516 | test_f1: 0.267\n"
     ]
    },
    {
     "name": "stderr",
     "output_type": "stream",
     "text": [
      "Training on whole batch...: 100%|██████████| 296/296 [00:00<00:00, 404.98it/s]\n"
     ]
    },
    {
     "name": "stdout",
     "output_type": "stream",
     "text": [
      "Epoch: 37 | Runtime: 0.53[m] | train_loss: 1.026 | test_loss: 1.285 | train_acc: 0.652 |  test_acc: 0.461 | train_f1: 0.574 | test_f1: 0.267\n"
     ]
    },
    {
     "name": "stderr",
     "output_type": "stream",
     "text": [
      "Training on whole batch...: 100%|██████████| 296/296 [00:00<00:00, 405.14it/s]\n"
     ]
    },
    {
     "name": "stdout",
     "output_type": "stream",
     "text": [
      "Epoch: 38 | Runtime: 0.54[m] | train_loss: 1.004 | test_loss: 1.283 | train_acc: 0.689 |  test_acc: 0.461 | train_f1: 0.610 | test_f1: 0.266\n"
     ]
    },
    {
     "name": "stderr",
     "output_type": "stream",
     "text": [
      "Training on whole batch...: 100%|██████████| 296/296 [00:00<00:00, 403.77it/s]\n"
     ]
    },
    {
     "name": "stdout",
     "output_type": "stream",
     "text": [
      "Epoch: 39 | Runtime: 0.56[m] | train_loss: 1.033 | test_loss: 1.283 | train_acc: 0.666 |  test_acc: 0.469 | train_f1: 0.574 | test_f1: 0.296\n"
     ]
    },
    {
     "name": "stderr",
     "output_type": "stream",
     "text": [
      "Training on whole batch...: 100%|██████████| 296/296 [00:00<00:00, 403.34it/s]\n"
     ]
    },
    {
     "name": "stdout",
     "output_type": "stream",
     "text": [
      "Epoch: 40 | Runtime: 0.57[m] | train_loss: 1.008 | test_loss: 1.282 | train_acc: 0.676 |  test_acc: 0.469 | train_f1: 0.573 | test_f1: 0.318\n"
     ]
    },
    {
     "name": "stderr",
     "output_type": "stream",
     "text": [
      "Training on whole batch...: 100%|██████████| 296/296 [00:00<00:00, 402.81it/s]\n"
     ]
    },
    {
     "name": "stdout",
     "output_type": "stream",
     "text": [
      "Epoch: 41 | Runtime: 0.59[m] | train_loss: 1.028 | test_loss: 1.282 | train_acc: 0.655 |  test_acc: 0.461 | train_f1: 0.592 | test_f1: 0.315\n"
     ]
    },
    {
     "name": "stderr",
     "output_type": "stream",
     "text": [
      "Training on whole batch...: 100%|██████████| 296/296 [00:00<00:00, 405.81it/s]\n"
     ]
    },
    {
     "name": "stdout",
     "output_type": "stream",
     "text": [
      "Epoch: 42 | Runtime: 0.60[m] | train_loss: 1.020 | test_loss: 1.281 | train_acc: 0.642 |  test_acc: 0.469 | train_f1: 0.577 | test_f1: 0.318\n"
     ]
    },
    {
     "name": "stderr",
     "output_type": "stream",
     "text": [
      "Training on whole batch...: 100%|██████████| 296/296 [00:00<00:00, 406.03it/s]\n"
     ]
    },
    {
     "name": "stdout",
     "output_type": "stream",
     "text": [
      "Epoch: 43 | Runtime: 0.62[m] | train_loss: 0.980 | test_loss: 1.279 | train_acc: 0.649 |  test_acc: 0.461 | train_f1: 0.577 | test_f1: 0.315\n"
     ]
    },
    {
     "name": "stderr",
     "output_type": "stream",
     "text": [
      "Training on whole batch...: 100%|██████████| 296/296 [00:00<00:00, 405.87it/s]\n"
     ]
    },
    {
     "name": "stdout",
     "output_type": "stream",
     "text": [
      "Epoch: 44 | Runtime: 0.63[m] | train_loss: 0.989 | test_loss: 1.278 | train_acc: 0.693 |  test_acc: 0.461 | train_f1: 0.607 | test_f1: 0.315\n"
     ]
    },
    {
     "name": "stderr",
     "output_type": "stream",
     "text": [
      "Training on whole batch...: 100%|██████████| 296/296 [00:00<00:00, 405.83it/s]\n"
     ]
    },
    {
     "name": "stdout",
     "output_type": "stream",
     "text": [
      "Epoch: 45 | Runtime: 0.64[m] | train_loss: 0.966 | test_loss: 1.278 | train_acc: 0.682 |  test_acc: 0.477 | train_f1: 0.622 | test_f1: 0.334\n"
     ]
    },
    {
     "name": "stderr",
     "output_type": "stream",
     "text": [
      "Training on whole batch...: 100%|██████████| 296/296 [00:00<00:00, 404.18it/s]\n"
     ]
    },
    {
     "name": "stdout",
     "output_type": "stream",
     "text": [
      "Epoch: 46 | Runtime: 0.66[m] | train_loss: 0.997 | test_loss: 1.277 | train_acc: 0.682 |  test_acc: 0.461 | train_f1: 0.606 | test_f1: 0.311\n"
     ]
    },
    {
     "name": "stderr",
     "output_type": "stream",
     "text": [
      "Training on whole batch...: 100%|██████████| 296/296 [00:00<00:00, 404.85it/s]\n"
     ]
    },
    {
     "name": "stdout",
     "output_type": "stream",
     "text": [
      "Epoch: 47 | Runtime: 0.67[m] | train_loss: 1.004 | test_loss: 1.276 | train_acc: 0.632 |  test_acc: 0.477 | train_f1: 0.549 | test_f1: 0.329\n"
     ]
    },
    {
     "name": "stderr",
     "output_type": "stream",
     "text": [
      "Training on whole batch...: 100%|██████████| 296/296 [00:00<00:00, 405.15it/s]\n"
     ]
    },
    {
     "name": "stdout",
     "output_type": "stream",
     "text": [
      "Epoch: 48 | Runtime: 0.69[m] | train_loss: 0.995 | test_loss: 1.275 | train_acc: 0.686 |  test_acc: 0.469 | train_f1: 0.647 | test_f1: 0.326\n"
     ]
    },
    {
     "name": "stderr",
     "output_type": "stream",
     "text": [
      "Training on whole batch...: 100%|██████████| 296/296 [00:00<00:00, 405.29it/s]\n"
     ]
    },
    {
     "name": "stdout",
     "output_type": "stream",
     "text": [
      "Epoch: 49 | Runtime: 0.70[m] | train_loss: 0.956 | test_loss: 1.275 | train_acc: 0.706 |  test_acc: 0.477 | train_f1: 0.619 | test_f1: 0.330\n"
     ]
    },
    {
     "name": "stderr",
     "output_type": "stream",
     "text": [
      "Training on whole batch...: 100%|██████████| 296/296 [00:00<00:00, 405.47it/s]\n"
     ]
    },
    {
     "name": "stdout",
     "output_type": "stream",
     "text": [
      "Epoch: 50 | Runtime: 0.72[m] | train_loss: 0.991 | test_loss: 1.274 | train_acc: 0.666 |  test_acc: 0.477 | train_f1: 0.589 | test_f1: 0.330\n"
     ]
    }
   ],
   "source": [
    "# Train Model\n",
    "\n",
    "history_model = train_model(model, trainloader, testloader, CONFIG)"
   ]
  },
  {
   "cell_type": "code",
   "execution_count": null,
   "id": "ad0b4e03-74a6-4f50-ab92-66ae5087fb36",
   "metadata": {},
   "outputs": [],
   "source": []
  },
  {
   "cell_type": "markdown",
   "id": "fe441e3b-ca49-4169-9237-25c32dd4891b",
   "metadata": {},
   "source": [
    "# Plots"
   ]
  },
  {
   "cell_type": "code",
   "execution_count": 180,
   "id": "4d6bb5c3-1575-43e9-94b0-35e272d47f45",
   "metadata": {},
   "outputs": [
    {
     "data": {
      "text/plain": [
       "<matplotlib.legend.Legend at 0x1466353f8730>"
      ]
     },
     "execution_count": 180,
     "metadata": {},
     "output_type": "execute_result"
    },
    {
     "data": {
      "image/png": "[encoded data removed]",
      "text/plain": [
       "<Figure size 640x480 with 1 Axes>"
      ]
     },
     "metadata": {},
     "output_type": "display_data"
    }
   ],
   "source": [
    "## Plot train_loss, test_loss\n",
    "num_epochs = CONFIG['epochs']\n",
    "plt.plot(np.arange(num_epochs), history_model[\"train_loss\"], label='train loss')\n",
    "plt.plot(np.arange(num_epochs), history_model[\"test_loss\"], label='test loss')\n",
    "plt.xlabel('#epochs')\n",
    "plt.ylabel('loss')\n",
    "plt.legend()"
   ]
  },
  {
   "cell_type": "code",
   "execution_count": 181,
   "id": "7060a727-2c6c-4528-ba8b-ca08f4c4123e",
   "metadata": {},
   "outputs": [
    {
     "data": {
      "text/plain": [
       "<matplotlib.legend.Legend at 0x14663530b400>"
      ]
     },
     "execution_count": 181,
     "metadata": {},
     "output_type": "execute_result"
    },
    {
     "data": {
      "image/png": "[encoded data removed]",
      "text/plain": [
       "<Figure size 640x480 with 1 Axes>"
      ]
     },
     "metadata": {},
     "output_type": "display_data"
    }
   ],
   "source": [
    "## Plot accuracy\n",
    "\n",
    "plt.plot(np.arange(num_epochs), history_model[\"train_acc\"], label='train acc')\n",
    "plt.plot(np.arange(num_epochs), history_model[\"test_acc\"], label='test acc')\n",
    "plt.xlabel('#epochs')\n",
    "plt.ylabel('accuracy')\n",
    "plt.legend()"
   ]
  },
  {
   "cell_type": "code",
   "execution_count": 182,
   "id": "82512b88-1775-4423-832e-7f1d865de437",
   "metadata": {},
   "outputs": [
    {
     "data": {
      "text/plain": [
       "<matplotlib.legend.Legend at 0x1466352828b0>"
      ]
     },
     "execution_count": 182,
     "metadata": {},
     "output_type": "execute_result"
    },
    {
     "data": {
      "image/png": "[encoded data removed]",
      "text/plain": [
       "<Figure size 640x480 with 1 Axes>"
      ]
     },
     "metadata": {},
     "output_type": "display_data"
    }
   ],
   "source": [
    "## Plot accuracy\n",
    "\n",
    "plt.plot(np.arange(num_epochs), history_model[\"train_f1\"], label='train f1')\n",
    "plt.plot(np.arange(num_epochs), history_model[\"test_f1\"], label='test f1')\n",
    "plt.xlabel('#epochs')\n",
    "plt.ylabel('f1')\n",
    "plt.legend()"
   ]
  },
  {
   "cell_type": "code",
   "execution_count": 177,
   "id": "b3f44965-b6e6-4932-a517-08239c27afb5",
   "metadata": {
    "scrolled": true
   },
   "outputs": [
    {
     "data": {
      "text/plain": [
       "Baseline_Model(\n",
       "  (fc1): Linear(in_features=1280, out_features=64, bias=True)\n",
       "  (fc2): Linear(in_features=64, out_features=5, bias=True)\n",
       "  (relu): ReLU()\n",
       "  (dropout): Dropout(p=0.5, inplace=False)\n",
       ")"
      ]
     },
     "execution_count": 177,
     "metadata": {},
     "output_type": "execute_result"
    }
   ],
   "source": [
    "model"
   ]
  },
  {
   "cell_type": "code",
   "execution_count": null,
   "id": "5e5ddf34-6152-4ffd-9fdf-e0ff7d64c1c6",
   "metadata": {},
   "outputs": [],
   "source": []
  },
  {
   "cell_type": "code",
   "execution_count": 164,
   "id": "71b5f7d9-95af-4002-9b4e-f0a520d09dcd",
   "metadata": {},
   "outputs": [],
   "source": [
    "# torch.save(model.state_dict(), f'models/Baseline_model/state_dict_epoch{i}_batch_size{CONFIG[\"batch_size\"]}.pth')"
   ]
  },
  {
   "cell_type": "code",
   "execution_count": null,
   "id": "d66a740e-4beb-46e0-8208-cf3d4da05782",
   "metadata": {},
   "outputs": [],
   "source": []
  }
 ],
 "metadata": {
  "kernelspec": {
   "display_name": "Python 3 (ipykernel)",
   "language": "python",
   "name": "python3"
  },
  "language_info": {
   "codemirror_mode": {
    "name": "ipython",
    "version": 3
   },
   "file_extension": ".py",
   "mimetype": "text/x-python",
   "name": "python",
   "nbconvert_exporter": "python",
   "pygments_lexer": "ipython3",
   "version": "3.9.0"
  }
 },
 "nbformat": 4,
 "nbformat_minor": 5
}
