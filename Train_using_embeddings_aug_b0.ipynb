{
 "cells": [
  {
   "cell_type": "code",
   "execution_count": 1,
   "id": "aaee65d4-fdcd-492e-8a12-24a9f6e6e9af",
   "metadata": {},
   "outputs": [],
   "source": [
    "# Goal : To classify the type of ovarian cancer from microscopy scans of biopsy samples.\n",
    "\n",
    "# Search SoTA model on Kaggle Approach, Papers with code - Medical Data, Graph Transformer, GNN, Global and Local Analysis\n",
    "\n",
    "# You should manage, including differences in image dimensions, quality, slide staining techniques, and more\n",
    "\n",
    "# There are 2 types of images - TMA and WSI (25 images are TMA and 513(rest) are WSI)\n"
   ]
  },
  {
   "cell_type": "code",
   "execution_count": 2,
   "id": "9d1971b2-09c3-4a8d-b158-355c9772dfa9",
   "metadata": {},
   "outputs": [
    {
     "data": {
      "text/plain": [
       "'/projectnb/cs640grp/students/avarshn/.conda/envs/ocean'"
      ]
     },
     "execution_count": 2,
     "metadata": {},
     "output_type": "execute_result"
    }
   ],
   "source": [
    "import sys\n",
    "sys.prefix"
   ]
  },
  {
   "cell_type": "markdown",
   "id": "48222a33-507b-4f98-8df3-8538ed479f1c",
   "metadata": {},
   "source": [
    "# Check if GPU is available"
   ]
  },
  {
   "cell_type": "code",
   "execution_count": 3,
   "id": "143df7b3-2bc3-4651-b9a8-ed3f5a8108be",
   "metadata": {},
   "outputs": [],
   "source": [
    "import torch"
   ]
  },
  {
   "cell_type": "code",
   "execution_count": 4,
   "id": "c193c329-3591-4572-9640-35b274bf754e",
   "metadata": {},
   "outputs": [
    {
     "data": {
      "text/plain": [
       "True"
      ]
     },
     "execution_count": 4,
     "metadata": {},
     "output_type": "execute_result"
    }
   ],
   "source": [
    "torch.cuda.is_available()"
   ]
  },
  {
   "cell_type": "code",
   "execution_count": 5,
   "id": "3c04ae72-d26a-4c3c-8415-ba36cb557c94",
   "metadata": {},
   "outputs": [
    {
     "name": "stdout",
     "output_type": "stream",
     "text": [
      "/bin/bash: nvidia: command not found\n"
     ]
    }
   ],
   "source": [
    "!nvidia smi\n"
   ]
  },
  {
   "cell_type": "code",
   "execution_count": 6,
   "id": "150de13e-2b4e-499e-9092-e541baa686b8",
   "metadata": {},
   "outputs": [
    {
     "name": "stdout",
     "output_type": "stream",
     "text": [
      "02:00.0 3D controller: NVIDIA Corporation GP100GL [Tesla P100 PCIe 12GB] (rev a1)\n",
      "82:00.0 3D controller: NVIDIA Corporation GP100GL [Tesla P100 PCIe 12GB] (rev a1)\n"
     ]
    }
   ],
   "source": [
    "!lspci | grep -i nvidia"
   ]
  },
  {
   "cell_type": "markdown",
   "id": "75827adc-9618-4d47-8fdc-44dbdc43cbe8",
   "metadata": {},
   "source": [
    "# Import Libraries"
   ]
  },
  {
   "cell_type": "code",
   "execution_count": 7,
   "id": "b7db4971-169f-47a7-9938-cc2d20e23b09",
   "metadata": {},
   "outputs": [],
   "source": [
    "import os\n",
    "from time import time\n",
    "from collections import defaultdict\n",
    "from tqdm import tqdm\n",
    "\n",
    "import numpy as np\n",
    "import pandas as pd\n",
    "import matplotlib.pyplot as plt\n",
    "\n",
    "from sklearn.utils.class_weight import compute_class_weight\n",
    "from sklearn.model_selection import train_test_split\n",
    "from sklearn.metrics import accuracy_score, f1_score, confusion_matrix, classification_report\n",
    "\n",
    "from PIL import Image\n",
    "import cv2\n",
    "\n",
    "import torch.nn as nn\n",
    "from torch.utils.data import Dataset, DataLoader\n",
    "from torch.optim import AdamW\n",
    "\n",
    "from torchsummary import summary\n",
    "\n",
    "import torchvision\n",
    "from torchvision import transforms, utils\n",
    "\n",
    "from torchvision.models import efficientnet_b0, EfficientNet_B0_Weights\n",
    "from torchvision.models import resnet18, ResNet18_Weights"
   ]
  },
  {
   "cell_type": "markdown",
   "id": "a5c70d5b-6ba8-4faf-a3ff-5e37b6a0c467",
   "metadata": {},
   "source": [
    "# Configurations"
   ]
  },
  {
   "cell_type": "code",
   "execution_count": 8,
   "id": "13ca183a-b75e-4d06-ae54-1c3af198cae6",
   "metadata": {},
   "outputs": [],
   "source": [
    "CONFIG = {\n",
    "    \"model_name\" : \"efficientnet_b0\"\n",
    "}"
   ]
  },
  {
   "cell_type": "code",
   "execution_count": 10,
   "id": "c572c798-bfbf-49bb-a47e-95935ba372dd",
   "metadata": {},
   "outputs": [],
   "source": [
    "if CONFIG[\"model_name\"] == \"efficientnet_b3\":\n",
    "\n",
    "    CONFIG.update({\n",
    "            \"seed\": 42,\n",
    "            \"num_classes\": 5,\n",
    "            \"device\": torch.device(\"cuda:0\" if torch.cuda.is_available() else \"cpu\"),\n",
    "            \n",
    "            # \"valid_batch_size\": 32,\n",
    "            \"embedding_save_folder\" : \"./models/efficientnet_b0/embeddings/\",\n",
    "            \"feature_input_size\" : 1536,\n",
    "            \"model_save_folder\" : \"./models/efficientnet_b0/model_checkpoints/\",\n",
    "        \n",
    "            \"batch_size\" : 8,\n",
    "            \"epochs\" : 50,\n",
    "            \"learning_rate\" : 1e-5,\n",
    "            \"weight_decay\" : 1e-3\n",
    "    })"
   ]
  },
  {
   "cell_type": "code",
   "execution_count": 80,
   "id": "4dcff8b2-936b-458c-a5f1-b7b711030b2b",
   "metadata": {},
   "outputs": [],
   "source": [
    "if CONFIG[\"model_name\"] == \"efficientnet_b0\":\n",
    "\n",
    "    CONFIG.update({\n",
    "            \"seed\": 42,\n",
    "            \"num_classes\": 5,\n",
    "            \"device\": torch.device(\"cuda:0\" if torch.cuda.is_available() else \"cpu\"),\n",
    "            \n",
    "            # \"valid_batch_size\": 32,\n",
    "            \"embedding_save_folder\" : \"./models/efficientnet_b0/embeddings/\",\n",
    "            \"feature_input_size\" : 1280,\n",
    "            \"model_save_folder\" : \"./models/efficientnet_b0/model_checkpoints/\",\n",
    "        \n",
    "            \"batch_size\" : 8,\n",
    "            \"epochs\" : 40,\n",
    "            \"learning_rate\" : 1e-5,\n",
    "            \"weight_decay\" : 1e-2\n",
    "    })"
   ]
  },
  {
   "cell_type": "code",
   "execution_count": 11,
   "id": "c49af72f-38c9-44c7-b1a5-60dd6203ba46",
   "metadata": {},
   "outputs": [],
   "source": [
    "if CONFIG[\"model_name\"] == \"resnet18\":\n",
    "\n",
    "    CONFIG.update({\n",
    "            \"seed\": 42,\n",
    "            \"num_classes\": 5,\n",
    "            \"device\": torch.device(\"cuda:0\" if torch.cuda.is_available() else \"cpu\"),\n",
    "            \n",
    "            # \"valid_batch_size\": 32,\n",
    "            \"embedding_save_folder\" : \"./models/resnet18/embeddings/\",\n",
    "            \"feature_input_size\" : 512,\n",
    "            \"model_save_folder\" : \"./models/resnet18/model_checkpoints/\",\n",
    "        \n",
    "            \"batch_size\" : 32,\n",
    "            \"epochs\" : 50,\n",
    "            \"learning_rate\" : 1e-4,\n",
    "            \"weight_decay\" : 1e-3\n",
    "    })"
   ]
  },
  {
   "cell_type": "code",
   "execution_count": 12,
   "id": "d5fbe965-3c93-4b23-bb36-f4f56aca0000",
   "metadata": {},
   "outputs": [
    {
     "data": {
      "text/plain": [
       "{'model_name': 'efficientnet_b0',\n",
       " 'seed': 42,\n",
       " 'num_classes': 5,\n",
       " 'device': device(type='cuda', index=0),\n",
       " 'embedding_save_folder': './models/efficientnet_b0/embeddings/',\n",
       " 'feature_input_size': 1280,\n",
       " 'model_save_folder': './models/efficientnet_b0/model_checkpoints/',\n",
       " 'batch_size': 8,\n",
       " 'epochs': 20,\n",
       " 'learning_rate': 1e-05,\n",
       " 'weight_decay': 0.01}"
      ]
     },
     "execution_count": 12,
     "metadata": {},
     "output_type": "execute_result"
    }
   ],
   "source": [
    "CONFIG"
   ]
  },
  {
   "cell_type": "code",
   "execution_count": 13,
   "id": "59ef42e6-00e5-40ff-a2b9-9e44b718dcee",
   "metadata": {},
   "outputs": [],
   "source": [
    "def set_seed(seed=42):\n",
    "    '''Sets the seed of the entire notebook so results are the same every time we run.\n",
    "    This is for REPRODUCIBILITY.'''\n",
    "    np.random.seed(seed)\n",
    "    torch.manual_seed(seed)\n",
    "    torch.cuda.manual_seed(seed)\n",
    "    # When running on the CuDNN backend, two further options must be set\n",
    "    torch.backends.cudnn.deterministic = True\n",
    "    torch.backends.cudnn.benchmark = False\n",
    "    # Set a fixed value for the hash seed\n",
    "    os.environ['PYTHONHASHSEED'] = str(seed)\n",
    "    \n",
    "set_seed(CONFIG['seed'])"
   ]
  },
  {
   "cell_type": "markdown",
   "id": "9b28ab07-67fb-4555-9187-88e860e73c34",
   "metadata": {},
   "source": [
    "# Merge Numpy arrays"
   ]
  },
  {
   "cell_type": "code",
   "execution_count": 14,
   "id": "859bccec-19a7-4315-9448-32e9edaa9b1c",
   "metadata": {},
   "outputs": [],
   "source": [
    "embeddings_arr_list = []\n",
    "labels_arr_list = []\n",
    "\n",
    "for file in os.listdir(CONFIG[\"embedding_save_folder\"]):\n",
    "    if file.endswith(\".npz\"):\n",
    "        if \"train_embeddings_and_labels_\" in file:\n",
    "            np_arr = np.load(CONFIG[\"embedding_save_folder\"] + file)\n",
    "            embeddings_arr_list.append(np_arr[\"embeddings\"])\n",
    "            labels_arr_list.append(np_arr[\"labels\"])\n",
    "            # labels_arr = np.concatenate((labels_arr, np_arr[\"labels\"]), axis = 0)"
   ]
  },
  {
   "cell_type": "code",
   "execution_count": 15,
   "id": "9c04dbc4-4ea3-436a-8f6e-6839333c4503",
   "metadata": {},
   "outputs": [
    {
     "data": {
      "text/plain": [
       "(1505, 1280)"
      ]
     },
     "execution_count": 15,
     "metadata": {},
     "output_type": "execute_result"
    }
   ],
   "source": [
    "all_embeddings = np.concatenate(embeddings_arr_list)\n",
    "all_embeddings.shape"
   ]
  },
  {
   "cell_type": "code",
   "execution_count": 16,
   "id": "4d2675b4-3009-47a7-bf8d-1f87046b58c8",
   "metadata": {},
   "outputs": [
    {
     "data": {
      "text/plain": [
       "(1505,)"
      ]
     },
     "execution_count": 16,
     "metadata": {},
     "output_type": "execute_result"
    }
   ],
   "source": [
    "all_labels = np.concatenate(labels_arr_list)\n",
    "all_labels.shape"
   ]
  },
  {
   "cell_type": "code",
   "execution_count": 17,
   "id": "df552edb-4d06-45ca-8fcb-95f99079fe1d",
   "metadata": {},
   "outputs": [
    {
     "data": {
      "text/plain": [
       "(array([0, 1, 2, 3, 4]), array([329, 299, 285, 293, 299]))"
      ]
     },
     "execution_count": 17,
     "metadata": {},
     "output_type": "execute_result"
    }
   ],
   "source": [
    "# Balanced Dataset with Augmentation\n",
    "np.unique(all_labels, return_counts=True)"
   ]
  },
  {
   "cell_type": "code",
   "execution_count": 18,
   "id": "7c39fe9e-d3ec-4df1-aee3-b8c790f94faa",
   "metadata": {},
   "outputs": [
    {
     "name": "stdout",
     "output_type": "stream",
     "text": [
      "./models/efficientnet_b0/embeddings/efficientnet_b0_train_embeddings_and_labels.npz\n"
     ]
    }
   ],
   "source": [
    "save_location = f'{CONFIG[\"embedding_save_folder\"]}{CONFIG[\"model_name\"]}_train_embeddings_and_labels.npz'\n",
    "print(save_location)\n",
    "\n",
    "np.savez(save_location, embeddings = all_embeddings, labels = all_labels)"
   ]
  },
  {
   "cell_type": "markdown",
   "id": "2f3350a3-92d5-4526-8c18-60568057476c",
   "metadata": {},
   "source": [
    "# Custom Dataset"
   ]
  },
  {
   "cell_type": "code",
   "execution_count": 19,
   "id": "02dd6b7a-b315-49e5-ab7d-50141f6a92c5",
   "metadata": {},
   "outputs": [],
   "source": [
    "Image.MAX_IMAGE_PIXELS = None"
   ]
  },
  {
   "cell_type": "code",
   "execution_count": 20,
   "id": "002b334d-0f52-4bde-828c-eddcbb34a033",
   "metadata": {},
   "outputs": [],
   "source": [
    "class ocean_embedding_dataset(Dataset):\n",
    "    \n",
    "    def __init__(self, numpy_file_name):\n",
    "        \n",
    "        self.ocean_np_arr = np.load(numpy_file_name)\n",
    "\n",
    "    def __len__(self):\n",
    "        return self.ocean_np_arr[\"labels\"].shape[0]\n",
    "\n",
    "    def __getitem__(self, idx):\n",
    "        if torch.is_tensor(idx):\n",
    "            idx = idx.tolist()\n",
    "\n",
    "        image = self.ocean_np_arr[\"embeddings\"][idx]\n",
    "        image = torch.tensor(image)\n",
    "        \n",
    "        label = self.ocean_np_arr[\"labels\"][idx]\n",
    "\n",
    "        return image, label\n",
    "        "
   ]
  },
  {
   "cell_type": "code",
   "execution_count": null,
   "id": "33858d05-4c7f-4766-8cb5-84cc5b1dc770",
   "metadata": {},
   "outputs": [],
   "source": []
  },
  {
   "cell_type": "code",
   "execution_count": 21,
   "id": "01054b83-dfda-4717-a6b5-64608e69e9d5",
   "metadata": {},
   "outputs": [],
   "source": [
    "train_np_arr_path = f'{CONFIG[\"embedding_save_folder\"]}{CONFIG[\"model_name\"]}_train_embeddings_and_labels.npz'\n",
    "test_np_arr_path = f'{CONFIG[\"embedding_save_folder\"]}{CONFIG[\"model_name\"]}_test_embeddings_and_labels.npz'\n"
   ]
  },
  {
   "cell_type": "code",
   "execution_count": 22,
   "id": "27eba013-ad6c-4dc8-b686-e7e327206c69",
   "metadata": {},
   "outputs": [],
   "source": [
    "train_dataset = ocean_embedding_dataset(train_np_arr_path)\n",
    "\n",
    "test_dataset = ocean_embedding_dataset(test_np_arr_path)"
   ]
  },
  {
   "cell_type": "markdown",
   "id": "18e15d1c-a392-41a3-a03f-5642fcdbfb96",
   "metadata": {},
   "source": [
    "## Testing"
   ]
  },
  {
   "cell_type": "code",
   "execution_count": 23,
   "id": "50fbd20d-5ad0-44d1-8c8a-5bd32dcbc02e",
   "metadata": {},
   "outputs": [
    {
     "data": {
      "text/plain": [
       "1505"
      ]
     },
     "execution_count": 23,
     "metadata": {},
     "output_type": "execute_result"
    }
   ],
   "source": [
    "train_dataset.__len__()"
   ]
  },
  {
   "cell_type": "code",
   "execution_count": 24,
   "id": "86204af9-161a-488c-b890-b8f11b17911b",
   "metadata": {},
   "outputs": [],
   "source": [
    "a,b = train_dataset.__getitem__(torch.tensor(10))"
   ]
  },
  {
   "cell_type": "code",
   "execution_count": 25,
   "id": "52061b6a-000b-4ff2-8595-e37f9007f17f",
   "metadata": {},
   "outputs": [
    {
     "data": {
      "text/plain": [
       "tensor([ 0.0052, -0.0422,  0.2885,  ..., -0.1830, -0.1882, -0.1551])"
      ]
     },
     "execution_count": 25,
     "metadata": {},
     "output_type": "execute_result"
    }
   ],
   "source": [
    "a"
   ]
  },
  {
   "cell_type": "code",
   "execution_count": 26,
   "id": "bd5247e2-7402-4bdd-b77d-f5d75b2ce125",
   "metadata": {},
   "outputs": [
    {
     "data": {
      "text/plain": [
       "3"
      ]
     },
     "execution_count": 26,
     "metadata": {},
     "output_type": "execute_result"
    }
   ],
   "source": [
    "b"
   ]
  },
  {
   "cell_type": "code",
   "execution_count": 27,
   "id": "b46cb26c-214f-4d06-a8c4-905d0ec08154",
   "metadata": {},
   "outputs": [
    {
     "data": {
      "text/plain": [
       "array([4, 3, 2, ..., 1, 1, 4])"
      ]
     },
     "execution_count": 27,
     "metadata": {},
     "output_type": "execute_result"
    }
   ],
   "source": [
    "train_dataset.ocean_np_arr[\"labels\"]"
   ]
  },
  {
   "cell_type": "markdown",
   "id": "20401933-47b3-404e-ba4e-be65e40f6ae6",
   "metadata": {},
   "source": [
    "# Class Weights - From Training Data since the dataset is imbalanced"
   ]
  },
  {
   "cell_type": "markdown",
   "id": "2d5ad94e-b4fd-4454-8b6b-f8a607065cc8",
   "metadata": {},
   "source": [
    "## Not using Class Weights in nn.CrossEntropyLoss() since we have balanced data while Augmentation itself"
   ]
  },
  {
   "cell_type": "code",
   "execution_count": 28,
   "id": "31f40cfe-c181-440a-8f3e-d440782b30c3",
   "metadata": {},
   "outputs": [
    {
     "data": {
      "text/plain": [
       "array([4, 3, 2, ..., 1, 1, 4])"
      ]
     },
     "execution_count": 28,
     "metadata": {},
     "output_type": "execute_result"
    }
   ],
   "source": [
    "train_dataset.ocean_np_arr[\"labels\"]"
   ]
  },
  {
   "cell_type": "code",
   "execution_count": null,
   "id": "6e8ff4c7-62e4-4654-a53b-209323c92e3f",
   "metadata": {},
   "outputs": [],
   "source": []
  },
  {
   "cell_type": "code",
   "execution_count": null,
   "id": "75b28ad6-975a-4fc2-a19b-73bde1c09870",
   "metadata": {},
   "outputs": [],
   "source": []
  },
  {
   "cell_type": "markdown",
   "id": "2b246783-1d97-4989-ac02-f7e263919015",
   "metadata": {},
   "source": [
    "* Class weight Formula -\n",
    "  \n",
    "class_weight_of_that_class = $\\frac{\\text{Total samples}}{\\text{Total classes * samples of that class}}$"
   ]
  },
  {
   "cell_type": "code",
   "execution_count": 29,
   "id": "d3548690-c5de-462c-b869-e2ed6836beb5",
   "metadata": {},
   "outputs": [],
   "source": [
    "# NumPy array of class labels - labels_arr\n",
    "\n",
    "labels_arr = train_dataset.ocean_np_arr[\"labels\"].copy()\n",
    "\n",
    "class_weights = compute_class_weight('balanced',classes = np.unique(labels_arr), y = labels_arr)"
   ]
  },
  {
   "cell_type": "code",
   "execution_count": 30,
   "id": "3c848bee-deca-4c3d-ac8f-b6b0c58ae80e",
   "metadata": {},
   "outputs": [
    {
     "data": {
      "text/plain": [
       "array([0.91489362, 1.00668896, 1.05614035, 1.02730375, 1.00668896])"
      ]
     },
     "execution_count": 30,
     "metadata": {},
     "output_type": "execute_result"
    }
   ],
   "source": [
    "class_weights"
   ]
  },
  {
   "cell_type": "code",
   "execution_count": 31,
   "id": "42486cca-117d-4dcb-9a8b-a2a118939821",
   "metadata": {},
   "outputs": [
    {
     "data": {
      "text/plain": [
       "(array([0, 1, 2, 3, 4]), array([329, 299, 285, 293, 299]))"
      ]
     },
     "execution_count": 31,
     "metadata": {},
     "output_type": "execute_result"
    }
   ],
   "source": [
    "# label_mapper = {'HGSC' : 0, 'EC' : 1, 'MC' : 2, 'CC' : 3, 'LGSC' : 4}\n",
    "# Train Label Distribution\n",
    "np.unique(labels_arr, return_counts = True)"
   ]
  },
  {
   "cell_type": "code",
   "execution_count": 32,
   "id": "4b19a847-2296-4df0-9897-8e5a295e6c6b",
   "metadata": {},
   "outputs": [
    {
     "data": {
      "text/plain": [
       "tensor([0.9149, 1.0067, 1.0561, 1.0273, 1.0067], dtype=torch.float64)"
      ]
     },
     "execution_count": 32,
     "metadata": {},
     "output_type": "execute_result"
    }
   ],
   "source": [
    "class_weights_tensor = torch.tensor(class_weights)\n",
    "class_weights_tensor"
   ]
  },
  {
   "cell_type": "markdown",
   "id": "d4d58fe0-b89b-44cb-847d-8085557d6e5b",
   "metadata": {},
   "source": [
    "# DataLoader"
   ]
  },
  {
   "cell_type": "markdown",
   "id": "b05e9ade-27f6-4b02-af47-feac75b859e6",
   "metadata": {},
   "source": [
    "* The EOFError you encountered in your DataLoader worker process could be related to using multiple workers (num_workers = 2)\n",
    "\n",
    "\n",
    "1) Concurrency Issues:\n",
    "\n",
    "    * When using multiple worker processes (num_workers > 0), there is potential for concurrency issues, especially when reading data from a file or other data sources. If your dataset is not designed to handle concurrent access properly, it can result in unexpected errors like EOFError.\n",
    "  \n",
    "2) Use torch.utils.data.SequentialSampler:\n",
    "    * Instead of relying on the default random sampler, you can use SequentialSampler to ensure that the data is loaded in a sequential order, which might help in scenarios where the order of loading matters.\n",
    "\n"
   ]
  },
  {
   "cell_type": "code",
   "execution_count": 33,
   "id": "98abd35d-befe-40e6-ab4e-c678d48864ac",
   "metadata": {},
   "outputs": [],
   "source": [
    "trainloader = DataLoader(train_dataset, batch_size = CONFIG['batch_size'], shuffle = True, drop_last = True)\n",
    "\n",
    "testloader = DataLoader(test_dataset, batch_size = CONFIG['batch_size'], shuffle = False, drop_last = True)"
   ]
  },
  {
   "cell_type": "markdown",
   "id": "2c34038c-0762-4061-85ee-cafd44eddddf",
   "metadata": {},
   "source": [
    "# Train - Evaluation, Training, Architecture"
   ]
  },
  {
   "cell_type": "code",
   "execution_count": 34,
   "id": "fd3de3db-b023-41f9-b2d9-cf9f8c245a37",
   "metadata": {},
   "outputs": [],
   "source": [
    "# Use `torch.no_grad()` here to disable gradient calculation. \n",
    "# It will reduce memory consumption as we don't need to compute gradients in inference.\n",
    "\n",
    "@torch.no_grad()\n",
    "def evaluate(model, testloader, criterion, device):\n",
    "    \n",
    "    model.eval()\n",
    "    \n",
    "    # Keep track of loss and other evaluation metrics\n",
    "    test_loss = 0.0\n",
    "\n",
    "    YPredict = []\n",
    "    YTrue = []\n",
    "    \n",
    "    # Loop through each batch on test set\n",
    "    for i, (images, labels) in enumerate(testloader, 1):\n",
    "        \n",
    "        images = images.to(device)\n",
    "        labels = labels.to(device)\n",
    "        \n",
    "        logits = model(images)\n",
    "\n",
    "        loss = criterion(logits, labels)\n",
    "        \n",
    "        test_loss += loss.detach().item()\n",
    "\n",
    "        predictions = torch.argmax(logits, dim = 1)\n",
    "        predictions = predictions.view(-1)\n",
    "        YTrue.extend(labels.tolist())\n",
    "        YPredict.extend(predictions.tolist())\n",
    "\n",
    "    # Compute Scores\n",
    "    accuracy = accuracy_score(YTrue, YPredict)\n",
    "    f1 = f1_score(YTrue, YPredict, average = \"macro\")\n",
    "    print(\"Classification report :\")\n",
    "    print(classification_report(YTrue, YPredict))\n",
    "\n",
    "    return (test_loss/i, accuracy, f1) ## avg loss and acc over all batches\n"
   ]
  },
  {
   "cell_type": "code",
   "execution_count": null,
   "id": "d9af0610-8e73-45cd-987c-9556427a514a",
   "metadata": {},
   "outputs": [],
   "source": [
    "\n"
   ]
  },
  {
   "cell_type": "code",
   "execution_count": 35,
   "id": "9857e5e7-7f67-45c6-90f9-9a6586b650c8",
   "metadata": {},
   "outputs": [],
   "source": [
    "def train_model(model, trainloader, testloader, CONFIG):\n",
    "    \n",
    "    optimizer = AdamW(model.parameters(), lr = CONFIG[\"learning_rate\"], weight_decay = CONFIG[\"weight_decay\"])\n",
    "\n",
    "    # criterion = nn.CrossEntropyLoss(weight = class_weights_tensor)\n",
    "\n",
    "    criterion = nn.CrossEntropyLoss()\n",
    "\n",
    "\n",
    "    ## Measure runtime\n",
    "    t_start = time()\n",
    "    \n",
    "    ## Store training log\n",
    "    history = defaultdict(list)\n",
    "    \n",
    "    # We will train the model `num_epochs` times\n",
    "    for i in range(1, CONFIG[\"epochs\"]+1):\n",
    "\n",
    "        # Training\n",
    "        train_loss, train_acc, train_f1 = train_one_epoch(model = model, trainloader = trainloader, optimizer = optimizer, criterion = criterion, device = CONFIG[\"device\"])\n",
    "\n",
    "        # Model Checkpointing\n",
    "        if i%10==0:\n",
    "            torch.save(model.state_dict(), f'{CONFIG[\"model_save_folder\"]}epoch{i}_batch_size{CONFIG[\"batch_size\"]}.pth')\n",
    "\n",
    "        # Evaluate on test set\n",
    "        test_loss, test_acc, test_f1 = evaluate(model = model, testloader = testloader, criterion = criterion, device = CONFIG[\"device\"])\n",
    "\n",
    "        ## Store train/test loss, accuracy, f1 scores\n",
    "        history[\"train_loss\"].append(train_loss)\n",
    "        history[\"train_acc\"].append(train_acc)\n",
    "        history[\"train_f1\"].append(train_f1)\n",
    "        \n",
    "        history[\"test_loss\"].append(test_loss)\n",
    "        history[\"test_acc\"].append(test_acc)\n",
    "        history[\"test_f1\"].append(test_f1)\n",
    "\n",
    "        \n",
    "        \n",
    "        ## print out train/test loss, accuracy\n",
    "        print(f'Epoch: {i} | Runtime: {((time()-t_start)/60):.2f}[m] | train_loss: {train_loss:.3f} | test_loss: {test_loss:.3f} | train_acc: {train_acc:.3f} |  test_acc: {test_acc:.3f} | train_f1: {train_f1:.3f} | test_f1: {test_f1:.3f}')    \n",
    "    return history"
   ]
  },
  {
   "cell_type": "code",
   "execution_count": 36,
   "id": "44a71bce-186f-4c0c-9b32-308f9819afc4",
   "metadata": {},
   "outputs": [],
   "source": [
    "def train_one_epoch(model, trainloader, device, optimizer, criterion):\n",
    "    \"\"\"\n",
    "      Train 1 epoch on trainloader.\"\n",
    "    \"\"\"\n",
    "\n",
    "    model = model.train()\n",
    "    \n",
    "    # Keep track of loss and other evaluation metrics\n",
    "    train_loss = 0.0\n",
    "\n",
    "    YPredict = []\n",
    "    YTrue = []\n",
    "\n",
    "    ## Loop over all the batches\n",
    "    for i, (images, labels) in tqdm(enumerate(trainloader, 1), total=len(trainloader), desc=f\"Training on whole batch...\"):\n",
    "            \n",
    "        # Move images and labels to `device` (CPU or GPU)\n",
    "        images = images.to(device)\n",
    "        labels = labels.to(device)\n",
    "\n",
    "        logits = model(images)\n",
    "\n",
    "        # print(logits)\n",
    "        # print(labels)\n",
    "        # print(logits.dtype, labels.dtype)\n",
    "        # print(type(labels[0]))\n",
    "        # print(type(labels))\n",
    "        loss = criterion(logits, labels)\n",
    "        # loss = criterion(logits, labels.to(torch.long))\n",
    "        optimizer.zero_grad()\n",
    "        loss.backward()\n",
    "        optimizer.step()\n",
    "\n",
    "        # Compute loss and accuracy for this batch\n",
    "        train_loss += loss.detach().item()\n",
    "\n",
    "        predictions = torch.argmax(logits, dim = 1)\n",
    "        predictions = predictions.view(-1)\n",
    "        YTrue.extend(labels.tolist())\n",
    "        YPredict.extend(predictions.tolist())\n",
    "\n",
    "\n",
    "    # Compute Scores\n",
    "    accuracy = accuracy_score(YTrue, YPredict)\n",
    "    f1 = f1_score(YTrue, YPredict, average = \"macro\")\n",
    "\n",
    "    return (train_loss/i, accuracy, f1) ## avg loss and acc over all batches\n"
   ]
  },
  {
   "cell_type": "code",
   "execution_count": 93,
   "id": "05d4166d-2d7d-4c79-a87c-9366953343ad",
   "metadata": {},
   "outputs": [],
   "source": [
    "class Baseline_Model(nn.Module):\n",
    "\n",
    "    def __init__(self):\n",
    "        super().__init__()\n",
    "        \n",
    "        # self.base_model_headless = base_layers\n",
    "        # self.base_model_headless.requires_grad = False\n",
    "        \n",
    "        self.fc1 = nn.Linear(CONFIG[\"feature_input_size\"], 128)\n",
    "        self.fc2 = nn.Linear(128, 32)\n",
    "        self.fc3 = nn.Linear(32, 5)\n",
    "        self.relu = nn.ReLU()\n",
    "        self.dropout = nn.Dropout(p = 0.1)\n",
    "\n",
    "\n",
    "    def forward(self, x):\n",
    "        # x = self.base_model_headless(x)\n",
    "        # # print(\"Output shape after Passing through Pretrained Model\")\n",
    "        # # print(x.shape)\n",
    "\n",
    "        # # Flatten\n",
    "        # x = x.view((x.shape[0], -1))\n",
    "\n",
    "        # FCNN\n",
    "        x = self.fc1(x)\n",
    "        x = self.relu(x)\n",
    "        x = self.dropout(x)\n",
    "        x = self.fc2(x)\n",
    "        x = self.relu(x)\n",
    "        x = self.dropout(x)\n",
    "        x = self.fc3(x)\n",
    "        # print(x.shape)\n",
    "\n",
    "        return x      "
   ]
  },
  {
   "cell_type": "markdown",
   "id": "184b00e2-750e-40e8-9699-67daeaadde48",
   "metadata": {},
   "source": [
    "# Train the Model"
   ]
  },
  {
   "cell_type": "code",
   "execution_count": 94,
   "id": "1a15c053-9780-47d1-882f-15fbbb06ac7c",
   "metadata": {},
   "outputs": [],
   "source": [
    "# Initialize Model\n",
    "model = Baseline_Model().to(CONFIG[\"device\"])"
   ]
  },
  {
   "cell_type": "code",
   "execution_count": 95,
   "id": "6f956533-8f0b-4dc3-bbc6-03ac4975d84d",
   "metadata": {
    "scrolled": true
   },
   "outputs": [
    {
     "name": "stdout",
     "output_type": "stream",
     "text": [
      "----------------------------------------------------------------\n",
      "        Layer (type)               Output Shape         Param #\n",
      "================================================================\n",
      "            Linear-1                   [-1, 64]          81,984\n",
      "              ReLU-2                   [-1, 64]               0\n",
      "           Dropout-3                   [-1, 64]               0\n",
      "            Linear-4                   [-1, 32]           2,080\n",
      "              ReLU-5                   [-1, 32]               0\n",
      "            Linear-6                    [-1, 5]             165\n",
      "================================================================\n",
      "Total params: 84,229\n",
      "Trainable params: 84,229\n",
      "Non-trainable params: 0\n",
      "----------------------------------------------------------------\n",
      "Input size (MB): 0.00\n",
      "Forward/backward pass size (MB): 0.00\n",
      "Params size (MB): 0.32\n",
      "Estimated Total Size (MB): 0.33\n",
      "----------------------------------------------------------------\n"
     ]
    }
   ],
   "source": [
    "summary(model, input_size = (CONFIG[\"feature_input_size\"],))"
   ]
  },
  {
   "cell_type": "code",
   "execution_count": 96,
   "id": "3b3268f2-b071-4f84-a307-a41e365ce456",
   "metadata": {},
   "outputs": [],
   "source": [
    "# ## compute accuracy score in a batch\n",
    "# def compute_accuracy(logits, labels, batch_size):\n",
    "#     ''' \n",
    "#       Obtain accuracy for a training batch \n",
    "#       logits: float Tensor, shape (batch_size, num_classes),  output from the model\n",
    "#       labels: Long Tensor, shape (batch_size, ), contains labels for the predictions\n",
    "#       batch_size: int, batch size\n",
    "\n",
    "#       Return accuracy for this batch, which should be a float number\n",
    "#     '''\n",
    "    \n",
    "#     # Write your code in this block ----------------\n",
    "    \n",
    "#     predictions = torch.argmax(logits, dim = 1)\n",
    "#     predictions = predictions.view(-1)\n",
    "    \n",
    "#     total_correct = (labels == predictions).sum().item()\n",
    "#     accuracy = total_correct/batch_size\n",
    "    \n",
    "#     return accuracy"
   ]
  },
  {
   "cell_type": "code",
   "execution_count": null,
   "id": "cb41d874-840c-46ba-a732-b538cff27f27",
   "metadata": {},
   "outputs": [],
   "source": []
  },
  {
   "cell_type": "code",
   "execution_count": 97,
   "id": "84b0e68d-1d4a-4885-92ee-29a9abf92b05",
   "metadata": {
    "scrolled": true
   },
   "outputs": [
    {
     "name": "stderr",
     "output_type": "stream",
     "text": [
      "Training on whole batch...: 100%|██████████| 188/188 [00:07<00:00, 25.06it/s]\n",
      "/projectnb/cs640grp/students/avarshn/.conda/envs/ocean/lib/python3.9/site-packages/sklearn/metrics/_classification.py:1471: UndefinedMetricWarning: Precision and F-score are ill-defined and being set to 0.0 in labels with no predicted samples. Use `zero_division` parameter to control this behavior.\n",
      "  _warn_prf(average, modifier, msg_start, len(result))\n",
      "/projectnb/cs640grp/students/avarshn/.conda/envs/ocean/lib/python3.9/site-packages/sklearn/metrics/_classification.py:1471: UndefinedMetricWarning: Precision and F-score are ill-defined and being set to 0.0 in labels with no predicted samples. Use `zero_division` parameter to control this behavior.\n",
      "  _warn_prf(average, modifier, msg_start, len(result))\n",
      "/projectnb/cs640grp/students/avarshn/.conda/envs/ocean/lib/python3.9/site-packages/sklearn/metrics/_classification.py:1471: UndefinedMetricWarning: Precision and F-score are ill-defined and being set to 0.0 in labels with no predicted samples. Use `zero_division` parameter to control this behavior.\n",
      "  _warn_prf(average, modifier, msg_start, len(result))\n"
     ]
    },
    {
     "name": "stdout",
     "output_type": "stream",
     "text": [
      "Classification report :\n",
      "              precision    recall  f1-score   support\n",
      "\n",
      "           0       0.00      0.00      0.00        53\n",
      "           1       0.00      0.00      0.00        30\n",
      "           2       0.09      1.00      0.16        11\n",
      "           3       1.00      0.04      0.08        24\n",
      "           4       0.00      0.00      0.00        10\n",
      "\n",
      "    accuracy                           0.09       128\n",
      "   macro avg       0.22      0.21      0.05       128\n",
      "weighted avg       0.19      0.09      0.03       128\n",
      "\n",
      "Epoch: 1 | Runtime: 0.13[m] | train_loss: 1.617 | test_loss: 1.660 | train_acc: 0.189 |  test_acc: 0.094 | train_f1: 0.064 | test_f1: 0.048\n"
     ]
    },
    {
     "name": "stderr",
     "output_type": "stream",
     "text": [
      "Training on whole batch...: 100%|██████████| 188/188 [00:07<00:00, 25.12it/s]\n",
      "/projectnb/cs640grp/students/avarshn/.conda/envs/ocean/lib/python3.9/site-packages/sklearn/metrics/_classification.py:1471: UndefinedMetricWarning: Precision and F-score are ill-defined and being set to 0.0 in labels with no predicted samples. Use `zero_division` parameter to control this behavior.\n",
      "  _warn_prf(average, modifier, msg_start, len(result))\n",
      "/projectnb/cs640grp/students/avarshn/.conda/envs/ocean/lib/python3.9/site-packages/sklearn/metrics/_classification.py:1471: UndefinedMetricWarning: Precision and F-score are ill-defined and being set to 0.0 in labels with no predicted samples. Use `zero_division` parameter to control this behavior.\n",
      "  _warn_prf(average, modifier, msg_start, len(result))\n",
      "/projectnb/cs640grp/students/avarshn/.conda/envs/ocean/lib/python3.9/site-packages/sklearn/metrics/_classification.py:1471: UndefinedMetricWarning: Precision and F-score are ill-defined and being set to 0.0 in labels with no predicted samples. Use `zero_division` parameter to control this behavior.\n",
      "  _warn_prf(average, modifier, msg_start, len(result))\n"
     ]
    },
    {
     "name": "stdout",
     "output_type": "stream",
     "text": [
      "Classification report :\n",
      "              precision    recall  f1-score   support\n",
      "\n",
      "           0       0.00      0.00      0.00        53\n",
      "           1       0.00      0.00      0.00        30\n",
      "           2       0.09      1.00      0.16        11\n",
      "           3       1.00      0.04      0.08        24\n",
      "           4       0.00      0.00      0.00        10\n",
      "\n",
      "    accuracy                           0.09       128\n",
      "   macro avg       0.22      0.21      0.05       128\n",
      "weighted avg       0.19      0.09      0.03       128\n",
      "\n",
      "Epoch: 2 | Runtime: 0.25[m] | train_loss: 1.610 | test_loss: 1.645 | train_acc: 0.191 |  test_acc: 0.094 | train_f1: 0.070 | test_f1: 0.048\n"
     ]
    },
    {
     "name": "stderr",
     "output_type": "stream",
     "text": [
      "Training on whole batch...: 100%|██████████| 188/188 [00:07<00:00, 25.14it/s]\n",
      "/projectnb/cs640grp/students/avarshn/.conda/envs/ocean/lib/python3.9/site-packages/sklearn/metrics/_classification.py:1471: UndefinedMetricWarning: Precision and F-score are ill-defined and being set to 0.0 in labels with no predicted samples. Use `zero_division` parameter to control this behavior.\n",
      "  _warn_prf(average, modifier, msg_start, len(result))\n",
      "/projectnb/cs640grp/students/avarshn/.conda/envs/ocean/lib/python3.9/site-packages/sklearn/metrics/_classification.py:1471: UndefinedMetricWarning: Precision and F-score are ill-defined and being set to 0.0 in labels with no predicted samples. Use `zero_division` parameter to control this behavior.\n",
      "  _warn_prf(average, modifier, msg_start, len(result))\n",
      "/projectnb/cs640grp/students/avarshn/.conda/envs/ocean/lib/python3.9/site-packages/sklearn/metrics/_classification.py:1471: UndefinedMetricWarning: Precision and F-score are ill-defined and being set to 0.0 in labels with no predicted samples. Use `zero_division` parameter to control this behavior.\n",
      "  _warn_prf(average, modifier, msg_start, len(result))\n"
     ]
    },
    {
     "name": "stdout",
     "output_type": "stream",
     "text": [
      "Classification report :\n",
      "              precision    recall  f1-score   support\n",
      "\n",
      "           0       0.75      0.06      0.11        53\n",
      "           1       0.17      0.03      0.06        30\n",
      "           2       0.10      1.00      0.18        11\n",
      "           3       0.20      0.04      0.07        24\n",
      "           4       0.00      0.00      0.00        10\n",
      "\n",
      "    accuracy                           0.12       128\n",
      "   macro avg       0.24      0.23      0.08       128\n",
      "weighted avg       0.40      0.12      0.08       128\n",
      "\n",
      "Epoch: 3 | Runtime: 0.38[m] | train_loss: 1.603 | test_loss: 1.630 | train_acc: 0.201 |  test_acc: 0.125 | train_f1: 0.095 | test_f1: 0.081\n"
     ]
    },
    {
     "name": "stderr",
     "output_type": "stream",
     "text": [
      "Training on whole batch...: 100%|██████████| 188/188 [00:07<00:00, 25.07it/s]\n",
      "/projectnb/cs640grp/students/avarshn/.conda/envs/ocean/lib/python3.9/site-packages/sklearn/metrics/_classification.py:1471: UndefinedMetricWarning: Precision and F-score are ill-defined and being set to 0.0 in labels with no predicted samples. Use `zero_division` parameter to control this behavior.\n",
      "  _warn_prf(average, modifier, msg_start, len(result))\n",
      "/projectnb/cs640grp/students/avarshn/.conda/envs/ocean/lib/python3.9/site-packages/sklearn/metrics/_classification.py:1471: UndefinedMetricWarning: Precision and F-score are ill-defined and being set to 0.0 in labels with no predicted samples. Use `zero_division` parameter to control this behavior.\n",
      "  _warn_prf(average, modifier, msg_start, len(result))\n",
      "/projectnb/cs640grp/students/avarshn/.conda/envs/ocean/lib/python3.9/site-packages/sklearn/metrics/_classification.py:1471: UndefinedMetricWarning: Precision and F-score are ill-defined and being set to 0.0 in labels with no predicted samples. Use `zero_division` parameter to control this behavior.\n",
      "  _warn_prf(average, modifier, msg_start, len(result))\n"
     ]
    },
    {
     "name": "stdout",
     "output_type": "stream",
     "text": [
      "Classification report :\n",
      "              precision    recall  f1-score   support\n",
      "\n",
      "           0       0.69      0.21      0.32        53\n",
      "           1       0.16      0.10      0.12        30\n",
      "           2       0.13      1.00      0.23        11\n",
      "           3       0.20      0.08      0.12        24\n",
      "           4       0.00      0.00      0.00        10\n",
      "\n",
      "    accuracy                           0.21       128\n",
      "   macro avg       0.24      0.28      0.16       128\n",
      "weighted avg       0.37      0.21      0.20       128\n",
      "\n",
      "Epoch: 4 | Runtime: 0.51[m] | train_loss: 1.595 | test_loss: 1.615 | train_acc: 0.267 |  test_acc: 0.211 | train_f1: 0.193 | test_f1: 0.159\n"
     ]
    },
    {
     "name": "stderr",
     "output_type": "stream",
     "text": [
      "Training on whole batch...: 100%|██████████| 188/188 [00:07<00:00, 25.13it/s]\n",
      "/projectnb/cs640grp/students/avarshn/.conda/envs/ocean/lib/python3.9/site-packages/sklearn/metrics/_classification.py:1471: UndefinedMetricWarning: Precision and F-score are ill-defined and being set to 0.0 in labels with no predicted samples. Use `zero_division` parameter to control this behavior.\n",
      "  _warn_prf(average, modifier, msg_start, len(result))\n",
      "/projectnb/cs640grp/students/avarshn/.conda/envs/ocean/lib/python3.9/site-packages/sklearn/metrics/_classification.py:1471: UndefinedMetricWarning: Precision and F-score are ill-defined and being set to 0.0 in labels with no predicted samples. Use `zero_division` parameter to control this behavior.\n",
      "  _warn_prf(average, modifier, msg_start, len(result))\n",
      "/projectnb/cs640grp/students/avarshn/.conda/envs/ocean/lib/python3.9/site-packages/sklearn/metrics/_classification.py:1471: UndefinedMetricWarning: Precision and F-score are ill-defined and being set to 0.0 in labels with no predicted samples. Use `zero_division` parameter to control this behavior.\n",
      "  _warn_prf(average, modifier, msg_start, len(result))\n"
     ]
    },
    {
     "name": "stdout",
     "output_type": "stream",
     "text": [
      "Classification report :\n",
      "              precision    recall  f1-score   support\n",
      "\n",
      "           0       0.53      0.38      0.44        53\n",
      "           1       0.18      0.13      0.15        30\n",
      "           2       0.15      0.82      0.25        11\n",
      "           3       0.50      0.17      0.25        24\n",
      "           4       0.00      0.00      0.00        10\n",
      "\n",
      "    accuracy                           0.29       128\n",
      "   macro avg       0.27      0.30      0.22       128\n",
      "weighted avg       0.37      0.29      0.29       128\n",
      "\n",
      "Epoch: 5 | Runtime: 0.63[m] | train_loss: 1.587 | test_loss: 1.602 | train_acc: 0.292 |  test_acc: 0.289 | train_f1: 0.231 | test_f1: 0.219\n"
     ]
    },
    {
     "name": "stderr",
     "output_type": "stream",
     "text": [
      "Training on whole batch...: 100%|██████████| 188/188 [00:07<00:00, 25.10it/s]\n"
     ]
    },
    {
     "name": "stdout",
     "output_type": "stream",
     "text": [
      "Classification report :\n",
      "              precision    recall  f1-score   support\n",
      "\n",
      "           0       0.49      0.42      0.45        53\n",
      "           1       0.14      0.10      0.12        30\n",
      "           2       0.16      0.73      0.26        11\n",
      "           3       0.44      0.17      0.24        24\n",
      "           4       0.00      0.00      0.00        10\n",
      "\n",
      "    accuracy                           0.29       128\n",
      "   macro avg       0.25      0.28      0.21       128\n",
      "weighted avg       0.33      0.29      0.28       128\n",
      "\n",
      "Epoch: 6 | Runtime: 0.76[m] | train_loss: 1.578 | test_loss: 1.591 | train_acc: 0.341 |  test_acc: 0.289 | train_f1: 0.295 | test_f1: 0.214\n"
     ]
    },
    {
     "name": "stderr",
     "output_type": "stream",
     "text": [
      "Training on whole batch...: 100%|██████████| 188/188 [00:07<00:00, 25.07it/s]\n"
     ]
    },
    {
     "name": "stdout",
     "output_type": "stream",
     "text": [
      "Classification report :\n",
      "              precision    recall  f1-score   support\n",
      "\n",
      "           0       0.50      0.49      0.50        53\n",
      "           1       0.10      0.07      0.08        30\n",
      "           2       0.17      0.73      0.28        11\n",
      "           3       0.20      0.04      0.07        24\n",
      "           4       0.25      0.10      0.14        10\n",
      "\n",
      "    accuracy                           0.30       128\n",
      "   macro avg       0.24      0.29      0.21       128\n",
      "weighted avg       0.30      0.30      0.27       128\n",
      "\n",
      "Epoch: 7 | Runtime: 0.89[m] | train_loss: 1.570 | test_loss: 1.579 | train_acc: 0.352 |  test_acc: 0.297 | train_f1: 0.309 | test_f1: 0.213\n"
     ]
    },
    {
     "name": "stderr",
     "output_type": "stream",
     "text": [
      "Training on whole batch...: 100%|██████████| 188/188 [00:07<00:00, 25.12it/s]\n"
     ]
    },
    {
     "name": "stdout",
     "output_type": "stream",
     "text": [
      "Classification report :\n",
      "              precision    recall  f1-score   support\n",
      "\n",
      "           0       0.49      0.55      0.52        53\n",
      "           1       0.19      0.13      0.16        30\n",
      "           2       0.17      0.64      0.26        11\n",
      "           3       1.00      0.04      0.08        24\n",
      "           4       0.20      0.10      0.13        10\n",
      "\n",
      "    accuracy                           0.33       128\n",
      "   macro avg       0.41      0.29      0.23       128\n",
      "weighted avg       0.47      0.33      0.30       128\n",
      "\n",
      "Epoch: 8 | Runtime: 1.01[m] | train_loss: 1.561 | test_loss: 1.570 | train_acc: 0.383 |  test_acc: 0.328 | train_f1: 0.355 | test_f1: 0.230\n"
     ]
    },
    {
     "name": "stderr",
     "output_type": "stream",
     "text": [
      "Training on whole batch...: 100%|██████████| 188/188 [00:07<00:00, 25.11it/s]\n"
     ]
    },
    {
     "name": "stdout",
     "output_type": "stream",
     "text": [
      "Classification report :\n",
      "              precision    recall  f1-score   support\n",
      "\n",
      "           0       0.49      0.55      0.52        53\n",
      "           1       0.25      0.17      0.20        30\n",
      "           2       0.17      0.64      0.27        11\n",
      "           3       1.00      0.04      0.08        24\n",
      "           4       0.12      0.10      0.11        10\n",
      "\n",
      "    accuracy                           0.34       128\n",
      "   macro avg       0.41      0.30      0.24       128\n",
      "weighted avg       0.47      0.34      0.31       128\n",
      "\n",
      "Epoch: 9 | Runtime: 1.14[m] | train_loss: 1.553 | test_loss: 1.563 | train_acc: 0.395 |  test_acc: 0.336 | train_f1: 0.361 | test_f1: 0.237\n"
     ]
    },
    {
     "name": "stderr",
     "output_type": "stream",
     "text": [
      "Training on whole batch...: 100%|██████████| 188/188 [00:07<00:00, 25.10it/s]\n"
     ]
    },
    {
     "name": "stdout",
     "output_type": "stream",
     "text": [
      "Classification report :\n",
      "              precision    recall  f1-score   support\n",
      "\n",
      "           0       0.51      0.58      0.54        53\n",
      "           1       0.27      0.13      0.18        30\n",
      "           2       0.17      0.64      0.26        11\n",
      "           3       1.00      0.04      0.08        24\n",
      "           4       0.11      0.10      0.11        10\n",
      "\n",
      "    accuracy                           0.34       128\n",
      "   macro avg       0.41      0.30      0.23       128\n",
      "weighted avg       0.48      0.34      0.31       128\n",
      "\n",
      "Epoch: 10 | Runtime: 1.27[m] | train_loss: 1.543 | test_loss: 1.556 | train_acc: 0.412 |  test_acc: 0.344 | train_f1: 0.386 | test_f1: 0.234\n"
     ]
    },
    {
     "name": "stderr",
     "output_type": "stream",
     "text": [
      "Training on whole batch...: 100%|██████████| 188/188 [00:07<00:00, 25.15it/s]\n"
     ]
    },
    {
     "name": "stdout",
     "output_type": "stream",
     "text": [
      "Classification report :\n",
      "              precision    recall  f1-score   support\n",
      "\n",
      "           0       0.52      0.62      0.56        53\n",
      "           1       0.27      0.10      0.15        30\n",
      "           2       0.16      0.64      0.26        11\n",
      "           3       1.00      0.04      0.08        24\n",
      "           4       0.11      0.10      0.11        10\n",
      "\n",
      "    accuracy                           0.35       128\n",
      "   macro avg       0.41      0.30      0.23       128\n",
      "weighted avg       0.49      0.35      0.31       128\n",
      "\n",
      "Epoch: 11 | Runtime: 1.39[m] | train_loss: 1.533 | test_loss: 1.551 | train_acc: 0.423 |  test_acc: 0.352 | train_f1: 0.392 | test_f1: 0.231\n"
     ]
    },
    {
     "name": "stderr",
     "output_type": "stream",
     "text": [
      "Training on whole batch...: 100%|██████████| 188/188 [00:07<00:00, 25.15it/s]\n"
     ]
    },
    {
     "name": "stdout",
     "output_type": "stream",
     "text": [
      "Classification report :\n",
      "              precision    recall  f1-score   support\n",
      "\n",
      "           0       0.52      0.60      0.56        53\n",
      "           1       0.29      0.13      0.18        30\n",
      "           2       0.17      0.64      0.26        11\n",
      "           3       1.00      0.04      0.08        24\n",
      "           4       0.11      0.10      0.11        10\n",
      "\n",
      "    accuracy                           0.35       128\n",
      "   macro avg       0.42      0.30      0.24       128\n",
      "weighted avg       0.49      0.35      0.32       128\n",
      "\n",
      "Epoch: 12 | Runtime: 1.52[m] | train_loss: 1.524 | test_loss: 1.545 | train_acc: 0.433 |  test_acc: 0.352 | train_f1: 0.399 | test_f1: 0.238\n"
     ]
    },
    {
     "name": "stderr",
     "output_type": "stream",
     "text": [
      "Training on whole batch...: 100%|██████████| 188/188 [00:07<00:00, 25.12it/s]\n"
     ]
    },
    {
     "name": "stdout",
     "output_type": "stream",
     "text": [
      "Classification report :\n",
      "              precision    recall  f1-score   support\n",
      "\n",
      "           0       0.50      0.60      0.55        53\n",
      "           1       0.31      0.13      0.19        30\n",
      "           2       0.17      0.64      0.27        11\n",
      "           3       1.00      0.04      0.08        24\n",
      "           4       0.11      0.10      0.11        10\n",
      "\n",
      "    accuracy                           0.35       128\n",
      "   macro avg       0.42      0.30      0.24       128\n",
      "weighted avg       0.49      0.35      0.32       128\n",
      "\n",
      "Epoch: 13 | Runtime: 1.65[m] | train_loss: 1.516 | test_loss: 1.538 | train_acc: 0.438 |  test_acc: 0.352 | train_f1: 0.406 | test_f1: 0.238\n"
     ]
    },
    {
     "name": "stderr",
     "output_type": "stream",
     "text": [
      "Training on whole batch...: 100%|██████████| 188/188 [00:07<00:00, 25.15it/s]\n"
     ]
    },
    {
     "name": "stdout",
     "output_type": "stream",
     "text": [
      "Classification report :\n",
      "              precision    recall  f1-score   support\n",
      "\n",
      "           0       0.52      0.60      0.56        53\n",
      "           1       0.27      0.13      0.18        30\n",
      "           2       0.17      0.64      0.26        11\n",
      "           3       1.00      0.04      0.08        24\n",
      "           4       0.11      0.10      0.11        10\n",
      "\n",
      "    accuracy                           0.35       128\n",
      "   macro avg       0.41      0.30      0.24       128\n",
      "weighted avg       0.49      0.35      0.32       128\n",
      "\n",
      "Epoch: 14 | Runtime: 1.77[m] | train_loss: 1.506 | test_loss: 1.533 | train_acc: 0.451 |  test_acc: 0.352 | train_f1: 0.421 | test_f1: 0.238\n"
     ]
    },
    {
     "name": "stderr",
     "output_type": "stream",
     "text": [
      "Training on whole batch...: 100%|██████████| 188/188 [00:07<00:00, 25.14it/s]\n"
     ]
    },
    {
     "name": "stdout",
     "output_type": "stream",
     "text": [
      "Classification report :\n",
      "              precision    recall  f1-score   support\n",
      "\n",
      "           0       0.52      0.60      0.56        53\n",
      "           1       0.33      0.13      0.19        30\n",
      "           2       0.16      0.64      0.25        11\n",
      "           3       1.00      0.04      0.08        24\n",
      "           4       0.11      0.10      0.11        10\n",
      "\n",
      "    accuracy                           0.35       128\n",
      "   macro avg       0.42      0.30      0.24       128\n",
      "weighted avg       0.50      0.35      0.32       128\n",
      "\n",
      "Epoch: 15 | Runtime: 1.90[m] | train_loss: 1.497 | test_loss: 1.529 | train_acc: 0.451 |  test_acc: 0.352 | train_f1: 0.427 | test_f1: 0.237\n"
     ]
    },
    {
     "name": "stderr",
     "output_type": "stream",
     "text": [
      "Training on whole batch...: 100%|██████████| 188/188 [00:07<00:00, 25.12it/s]\n"
     ]
    },
    {
     "name": "stdout",
     "output_type": "stream",
     "text": [
      "Classification report :\n",
      "              precision    recall  f1-score   support\n",
      "\n",
      "           0       0.54      0.60      0.57        53\n",
      "           1       0.33      0.17      0.22        30\n",
      "           2       0.16      0.64      0.25        11\n",
      "           3       0.50      0.04      0.08        24\n",
      "           4       0.12      0.10      0.11        10\n",
      "\n",
      "    accuracy                           0.36       128\n",
      "   macro avg       0.33      0.31      0.25       128\n",
      "weighted avg       0.42      0.36      0.33       128\n",
      "\n",
      "Epoch: 16 | Runtime: 2.03[m] | train_loss: 1.487 | test_loss: 1.524 | train_acc: 0.467 |  test_acc: 0.359 | train_f1: 0.440 | test_f1: 0.247\n"
     ]
    },
    {
     "name": "stderr",
     "output_type": "stream",
     "text": [
      "Training on whole batch...: 100%|██████████| 188/188 [00:07<00:00, 25.17it/s]\n"
     ]
    },
    {
     "name": "stdout",
     "output_type": "stream",
     "text": [
      "Classification report :\n",
      "              precision    recall  f1-score   support\n",
      "\n",
      "           0       0.55      0.60      0.58        53\n",
      "           1       0.29      0.17      0.21        30\n",
      "           2       0.16      0.64      0.26        11\n",
      "           3       0.50      0.04      0.08        24\n",
      "           4       0.12      0.10      0.11        10\n",
      "\n",
      "    accuracy                           0.36       128\n",
      "   macro avg       0.33      0.31      0.25       128\n",
      "weighted avg       0.41      0.36      0.33       128\n",
      "\n",
      "Epoch: 17 | Runtime: 2.15[m] | train_loss: 1.475 | test_loss: 1.517 | train_acc: 0.475 |  test_acc: 0.359 | train_f1: 0.452 | test_f1: 0.247\n"
     ]
    },
    {
     "name": "stderr",
     "output_type": "stream",
     "text": [
      "Training on whole batch...: 100%|██████████| 188/188 [00:07<00:00, 25.12it/s]\n"
     ]
    },
    {
     "name": "stdout",
     "output_type": "stream",
     "text": [
      "Classification report :\n",
      "              precision    recall  f1-score   support\n",
      "\n",
      "           0       0.54      0.60      0.57        53\n",
      "           1       0.35      0.20      0.26        30\n",
      "           2       0.16      0.64      0.26        11\n",
      "           3       1.00      0.04      0.08        24\n",
      "           4       0.12      0.10      0.11        10\n",
      "\n",
      "    accuracy                           0.37       128\n",
      "   macro avg       0.44      0.32      0.26       128\n",
      "weighted avg       0.52      0.37      0.34       128\n",
      "\n",
      "Epoch: 18 | Runtime: 2.28[m] | train_loss: 1.467 | test_loss: 1.510 | train_acc: 0.485 |  test_acc: 0.367 | train_f1: 0.467 | test_f1: 0.255\n"
     ]
    },
    {
     "name": "stderr",
     "output_type": "stream",
     "text": [
      "Training on whole batch...: 100%|██████████| 188/188 [00:07<00:00, 25.11it/s]\n",
      "/projectnb/cs640grp/students/avarshn/.conda/envs/ocean/lib/python3.9/site-packages/sklearn/metrics/_classification.py:1471: UndefinedMetricWarning: Precision and F-score are ill-defined and being set to 0.0 in labels with no predicted samples. Use `zero_division` parameter to control this behavior.\n",
      "  _warn_prf(average, modifier, msg_start, len(result))\n",
      "/projectnb/cs640grp/students/avarshn/.conda/envs/ocean/lib/python3.9/site-packages/sklearn/metrics/_classification.py:1471: UndefinedMetricWarning: Precision and F-score are ill-defined and being set to 0.0 in labels with no predicted samples. Use `zero_division` parameter to control this behavior.\n",
      "  _warn_prf(average, modifier, msg_start, len(result))\n",
      "/projectnb/cs640grp/students/avarshn/.conda/envs/ocean/lib/python3.9/site-packages/sklearn/metrics/_classification.py:1471: UndefinedMetricWarning: Precision and F-score are ill-defined and being set to 0.0 in labels with no predicted samples. Use `zero_division` parameter to control this behavior.\n",
      "  _warn_prf(average, modifier, msg_start, len(result))\n"
     ]
    },
    {
     "name": "stdout",
     "output_type": "stream",
     "text": [
      "Classification report :\n",
      "              precision    recall  f1-score   support\n",
      "\n",
      "           0       0.55      0.60      0.58        53\n",
      "           1       0.38      0.20      0.26        30\n",
      "           2       0.15      0.64      0.25        11\n",
      "           3       0.00      0.00      0.00        24\n",
      "           4       0.12      0.10      0.11        10\n",
      "\n",
      "    accuracy                           0.36       128\n",
      "   macro avg       0.24      0.31      0.24       128\n",
      "weighted avg       0.34      0.36      0.33       128\n",
      "\n",
      "Epoch: 19 | Runtime: 2.40[m] | train_loss: 1.457 | test_loss: 1.508 | train_acc: 0.486 |  test_acc: 0.359 | train_f1: 0.468 | test_f1: 0.239\n"
     ]
    },
    {
     "name": "stderr",
     "output_type": "stream",
     "text": [
      "Training on whole batch...: 100%|██████████| 188/188 [00:07<00:00, 25.14it/s]\n"
     ]
    },
    {
     "name": "stdout",
     "output_type": "stream",
     "text": [
      "Classification report :\n",
      "              precision    recall  f1-score   support\n",
      "\n",
      "           0       0.53      0.60      0.57        53\n",
      "           1       0.43      0.20      0.27        30\n",
      "           2       0.16      0.64      0.25        11\n",
      "           3       0.00      0.00      0.00        24\n",
      "           4       0.22      0.20      0.21        10\n",
      "\n",
      "    accuracy                           0.37       128\n",
      "   macro avg       0.27      0.33      0.26       128\n",
      "weighted avg       0.35      0.37      0.34       128\n",
      "\n",
      "Epoch: 20 | Runtime: 2.53[m] | train_loss: 1.448 | test_loss: 1.500 | train_acc: 0.507 |  test_acc: 0.367 | train_f1: 0.488 | test_f1: 0.260\n"
     ]
    },
    {
     "name": "stderr",
     "output_type": "stream",
     "text": [
      "/projectnb/cs640grp/students/avarshn/.conda/envs/ocean/lib/python3.9/site-packages/sklearn/metrics/_classification.py:1471: UndefinedMetricWarning: Precision and F-score are ill-defined and being set to 0.0 in labels with no predicted samples. Use `zero_division` parameter to control this behavior.\n",
      "  _warn_prf(average, modifier, msg_start, len(result))\n",
      "/projectnb/cs640grp/students/avarshn/.conda/envs/ocean/lib/python3.9/site-packages/sklearn/metrics/_classification.py:1471: UndefinedMetricWarning: Precision and F-score are ill-defined and being set to 0.0 in labels with no predicted samples. Use `zero_division` parameter to control this behavior.\n",
      "  _warn_prf(average, modifier, msg_start, len(result))\n",
      "/projectnb/cs640grp/students/avarshn/.conda/envs/ocean/lib/python3.9/site-packages/sklearn/metrics/_classification.py:1471: UndefinedMetricWarning: Precision and F-score are ill-defined and being set to 0.0 in labels with no predicted samples. Use `zero_division` parameter to control this behavior.\n",
      "  _warn_prf(average, modifier, msg_start, len(result))\n"
     ]
    }
   ],
   "source": [
    "# Train Model\n",
    "\n",
    "history_model = train_model(model, trainloader, testloader, CONFIG)"
   ]
  },
  {
   "cell_type": "code",
   "execution_count": null,
   "id": "ad0b4e03-74a6-4f50-ab92-66ae5087fb36",
   "metadata": {},
   "outputs": [],
   "source": []
  },
  {
   "cell_type": "markdown",
   "id": "fe441e3b-ca49-4169-9237-25c32dd4891b",
   "metadata": {},
   "source": [
    "# Plots"
   ]
  },
  {
   "cell_type": "code",
   "execution_count": 98,
   "id": "4d6bb5c3-1575-43e9-94b0-35e272d47f45",
   "metadata": {},
   "outputs": [
    {
     "data": {
      "text/plain": [
       "<matplotlib.legend.Legend at 0x14b410194520>"
      ]
     },
     "execution_count": 98,
     "metadata": {},
     "output_type": "execute_result"
    },
    {
     "data": {
      "image/png": "[encoded data removed]",
      "text/plain": [
       "<Figure size 640x480 with 1 Axes>"
      ]
     },
     "metadata": {},
     "output_type": "display_data"
    }
   ],
   "source": [
    "## Plot train_loss, test_loss\n",
    "num_epochs = CONFIG['epochs']\n",
    "plt.plot(np.arange(num_epochs), history_model[\"train_loss\"], label='train loss')\n",
    "plt.plot(np.arange(num_epochs), history_model[\"test_loss\"], label='test loss')\n",
    "plt.xlabel('#epochs')\n",
    "plt.ylabel('loss')\n",
    "plt.legend()"
   ]
  },
  {
   "cell_type": "code",
   "execution_count": 99,
   "id": "7060a727-2c6c-4528-ba8b-ca08f4c4123e",
   "metadata": {},
   "outputs": [
    {
     "data": {
      "text/plain": [
       "<matplotlib.legend.Legend at 0x14b3dff1baf0>"
      ]
     },
     "execution_count": 99,
     "metadata": {},
     "output_type": "execute_result"
    },
    {
     "data": {
      "image/png": "[encoded data removed]",
      "text/plain": [
       "<Figure size 640x480 with 1 Axes>"
      ]
     },
     "metadata": {},
     "output_type": "display_data"
    }
   ],
   "source": [
    "## Plot accuracy\n",
    "\n",
    "plt.plot(np.arange(num_epochs), history_model[\"train_acc\"], label='train acc')\n",
    "plt.plot(np.arange(num_epochs), history_model[\"test_acc\"], label='test acc')\n",
    "plt.xlabel('#epochs')\n",
    "plt.ylabel('accuracy')\n",
    "plt.legend()"
   ]
  },
  {
   "cell_type": "code",
   "execution_count": 100,
   "id": "82512b88-1775-4423-832e-7f1d865de437",
   "metadata": {},
   "outputs": [
    {
     "data": {
      "text/plain": [
       "<matplotlib.legend.Legend at 0x14b3dfe8cb50>"
      ]
     },
     "execution_count": 100,
     "metadata": {},
     "output_type": "execute_result"
    },
    {
     "data": {
      "image/png": "[encoded data removed]",
      "text/plain": [
       "<Figure size 640x480 with 1 Axes>"
      ]
     },
     "metadata": {},
     "output_type": "display_data"
    }
   ],
   "source": [
    "## Plot accuracy\n",
    "\n",
    "plt.plot(np.arange(num_epochs), history_model[\"train_f1\"], label='train f1')\n",
    "plt.plot(np.arange(num_epochs), history_model[\"test_f1\"], label='test f1')\n",
    "plt.xlabel('#epochs')\n",
    "plt.ylabel('f1')\n",
    "plt.legend()"
   ]
  },
  {
   "cell_type": "code",
   "execution_count": 101,
   "id": "b3f44965-b6e6-4932-a517-08239c27afb5",
   "metadata": {
    "scrolled": true
   },
   "outputs": [
    {
     "data": {
      "text/plain": [
       "Baseline_Model(\n",
       "  (fc1): Linear(in_features=1280, out_features=64, bias=True)\n",
       "  (fc2): Linear(in_features=64, out_features=32, bias=True)\n",
       "  (fc3): Linear(in_features=32, out_features=5, bias=True)\n",
       "  (relu): ReLU()\n",
       "  (dropout): Dropout(p=0.1, inplace=False)\n",
       ")"
      ]
     },
     "execution_count": 101,
     "metadata": {},
     "output_type": "execute_result"
    }
   ],
   "source": [
    "model"
   ]
  },
  {
   "cell_type": "code",
   "execution_count": null,
   "id": "5e5ddf34-6152-4ffd-9fdf-e0ff7d64c1c6",
   "metadata": {},
   "outputs": [],
   "source": []
  },
  {
   "cell_type": "code",
   "execution_count": 164,
   "id": "71b5f7d9-95af-4002-9b4e-f0a520d09dcd",
   "metadata": {},
   "outputs": [],
   "source": [
    "# torch.save(model.state_dict(), f'models/Baseline_model/state_dict_epoch{i}_batch_size{CONFIG[\"batch_size\"]}.pth')"
   ]
  },
  {
   "cell_type": "code",
   "execution_count": null,
   "id": "d66a740e-4beb-46e0-8208-cf3d4da05782",
   "metadata": {},
   "outputs": [],
   "source": []
  }
 ],
 "metadata": {
  "kernelspec": {
   "display_name": "Python 3 (ipykernel)",
   "language": "python",
   "name": "python3"
  },
  "language_info": {
   "codemirror_mode": {
    "name": "ipython",
    "version": 3
   },
   "file_extension": ".py",
   "mimetype": "text/x-python",
   "name": "python",
   "nbconvert_exporter": "python",
   "pygments_lexer": "ipython3",
   "version": "3.9.0"
  }
 },
 "nbformat": 4,
 "nbformat_minor": 5
}
